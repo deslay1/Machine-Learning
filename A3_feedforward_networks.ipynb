{
 "cells": [
  {
   "cell_type": "markdown",
   "metadata": {
    "papermill": {
     "duration": 0.069721,
     "end_time": "2020-11-16T12:19:11.147570",
     "exception": false,
     "start_time": "2020-11-16T12:19:11.077849",
     "status": "completed"
    },
    "tags": []
   },
   "source": [
    "# Programming Assignment #3: Convolutional Networks\n",
    "Author: Pierre Nugues"
   ]
  },
  {
   "cell_type": "markdown",
   "metadata": {
    "papermill": {
     "duration": 0.069059,
     "end_time": "2020-11-16T12:19:11.285781",
     "exception": false,
     "start_time": "2020-11-16T12:19:11.216722",
     "status": "completed"
    },
    "tags": []
   },
   "source": [
    "<h2>Objectives</h2>"
   ]
  },
  {
   "cell_type": "markdown",
   "metadata": {
    "papermill": {
     "duration": 0.067624,
     "end_time": "2020-11-16T12:19:11.422239",
     "exception": false,
     "start_time": "2020-11-16T12:19:11.354615",
     "status": "completed"
    },
    "tags": []
   },
   "source": [
    "The objectives of this assignment are to:\n",
    "* Write a program to recognize flowers on images\n",
    "* Learn how to manage an image data set\n",
    "* Apply convolutional networks to images\n",
    "* Know what Python generators are\n",
    "* Understand class activation\n",
    "* Write a short report on your experiments. This report is mandatory to pass the assignment."
   ]
  },
  {
   "cell_type": "markdown",
   "metadata": {
    "papermill": {
     "duration": 0.06869,
     "end_time": "2020-11-16T12:19:11.559594",
     "exception": false,
     "start_time": "2020-11-16T12:19:11.490904",
     "status": "completed"
    },
    "tags": []
   },
   "source": [
    "## Organization"
   ]
  },
  {
   "cell_type": "markdown",
   "metadata": {
    "papermill": {
     "duration": 0.067147,
     "end_time": "2020-11-16T12:19:11.694883",
     "exception": false,
     "start_time": "2020-11-16T12:19:11.627736",
     "status": "completed"
    },
    "tags": []
   },
   "source": [
    "Each group will have to:\n",
    "* Write Python programs to recognize the sort of flower in an image.\n",
    "* Experiment different neural architectures and compare the results.\n",
    "\n",
    "Each student will have to:\n",
    "* Run at home Chollet's notebook: `5.4-visualizing-what-convnets-learn.ipynb`. The version available here https://github.com/fchollet/deep-learning-with-python-notebooks does not work with TensorFlow 2. Use the implementation available here: https://github.com/pnugues/edan95/tree/master/labs instead.\n",
    "* Write an individual report on these experiments.\n",
    "\n",
    "While not compulsory, I highly recommend that you use Google colab and run your program on a GPU. This is something you select when you run the notebook (runtime type). You will have to create a Google account for this: https://colab.research.google.com\n",
    "\n",
    "As there are a few parameterization steps, I recommend that you start this lab as early as you can."
   ]
  },
  {
   "cell_type": "markdown",
   "metadata": {
    "papermill": {
     "duration": 0.067206,
     "end_time": "2020-11-16T12:19:11.828995",
     "exception": false,
     "start_time": "2020-11-16T12:19:11.761789",
     "status": "completed"
    },
    "tags": []
   },
   "source": [
    "## Collecting a Dataset"
   ]
  },
  {
   "cell_type": "markdown",
   "metadata": {
    "papermill": {
     "duration": 0.068226,
     "end_time": "2020-11-16T12:19:11.966087",
     "exception": false,
     "start_time": "2020-11-16T12:19:11.897861",
     "status": "completed"
    },
    "tags": []
   },
   "source": [
    "1. You will collect a dataset from Kaggle (https://www.kaggle.com/). First register, it is free, and you will have access to lots of datasets.\n",
    "2. Download the Flower corpus (https://www.kaggle.com/alxmamaev/flowers-recognition). You can find a local copy in the `/usr/local/cs/EDAN95/datasets` folder.\n",
    "3. Split randomly your dataset into training, validation, and test sets: Use a 60/20/20 ratio. You will read all the file names and create a list of pairs, (file_name, category). You will then shuffle your list and save your partition of the data. To speed up the lab, you can also:\n",
    " * Start with the partition available in the `/usr/local/cs/EDAN95/datasets` folder; or\n",
    " * You can also run the code in the cells below (recommended).\n"
   ]
  },
  {
   "cell_type": "raw",
   "metadata": {
    "papermill": {
     "duration": 0.069008,
     "end_time": "2020-11-16T12:19:12.104235",
     "exception": false,
     "start_time": "2020-11-16T12:19:12.035227",
     "status": "completed"
    },
    "tags": []
   },
   "source": [
    "# This Python 3 environment comes with many helpful analytics libraries installed\n",
    "# It is defined by the kaggle/python Docker image: https://github.com/kaggle/docker-python\n",
    "# For example, here's several helpful packages to load\n",
    "\n",
    "import numpy as np # linear algebra\n",
    "import pandas as pd # data processing, CSV file I/O (e.g. pd.read_csv)\n",
    "\n",
    "# Input data files are available in the read-only \"../input/\" directory\n",
    "# For example, running this (by clicking run or pressing Shift+Enter) will list all files under the input directory\n",
    "\n",
    "import os\n",
    "for dirname, _, filenames in os.walk('/kaggle/input'):\n",
    "    for filename in filenames:\n",
    "        print(os.path.join(dirname, filename))\n",
    "\n",
    "# You can write up to 20GB to the current directory (/kaggle/working/) that gets preserved as output when you create a version using \"Save & Run All\" \n",
    "# You can also write temporary files to /kaggle/temp/, but they won't be saved outside of the current session"
   ]
  },
  {
   "cell_type": "code",
   "execution_count": 1,
   "metadata": {
    "execution": {
     "iopub.execute_input": "2020-11-16T12:19:12.246610Z",
     "iopub.status.busy": "2020-11-16T12:19:12.245670Z",
     "iopub.status.idle": "2020-11-16T12:19:12.248077Z",
     "shell.execute_reply": "2020-11-16T12:19:12.248753Z"
    },
    "papermill": {
     "duration": 0.076808,
     "end_time": "2020-11-16T12:19:12.248902",
     "exception": false,
     "start_time": "2020-11-16T12:19:12.172094",
     "status": "completed"
    },
    "tags": []
   },
   "outputs": [],
   "source": [
    "import os\n",
    "import random\n",
    "import shutil\n",
    "from tqdm import tqdm\n",
    "\n",
    "# To create the same dataset\n",
    "random.seed(0)"
   ]
  },
  {
   "cell_type": "markdown",
   "metadata": {
    "papermill": {
     "duration": 0.069093,
     "end_time": "2020-11-16T12:19:12.385892",
     "exception": false,
     "start_time": "2020-11-16T12:19:12.316799",
     "status": "completed"
    },
    "tags": []
   },
   "source": [
    "Use the GPU accelerator if you can."
   ]
  },
  {
   "cell_type": "code",
   "execution_count": 2,
   "metadata": {
    "execution": {
     "iopub.execute_input": "2020-11-16T12:19:12.528268Z",
     "iopub.status.busy": "2020-11-16T12:19:12.527249Z",
     "iopub.status.idle": "2020-11-16T12:19:12.530450Z",
     "shell.execute_reply": "2020-11-16T12:19:12.529871Z"
    },
    "papermill": {
     "duration": 0.075511,
     "end_time": "2020-11-16T12:19:12.530560",
     "exception": false,
     "start_time": "2020-11-16T12:19:12.455049",
     "status": "completed"
    },
    "tags": []
   },
   "outputs": [],
   "source": [
    "# Path to dataset\n",
    "base = '/kaggle/input/flowers-recognition'\n",
    "splits = '/kaggle/input/flower-split'"
   ]
  },
  {
   "cell_type": "code",
   "execution_count": 3,
   "metadata": {
    "execution": {
     "iopub.execute_input": "2020-11-16T12:19:12.675935Z",
     "iopub.status.busy": "2020-11-16T12:19:12.675135Z",
     "iopub.status.idle": "2020-11-16T12:19:12.709009Z",
     "shell.execute_reply": "2020-11-16T12:19:12.709768Z"
    },
    "papermill": {
     "duration": 0.110384,
     "end_time": "2020-11-16T12:19:12.709964",
     "exception": false,
     "start_time": "2020-11-16T12:19:12.599580",
     "status": "completed"
    },
    "tags": []
   },
   "outputs": [
    {
     "name": "stdout",
     "output_type": "stream",
     "text": [
      "Image types: ['daisy', 'rose', 'dandelion', 'sunflower', 'flowers', 'tulip']\n"
     ]
    },
    {
     "data": {
      "text/plain": [
       "['/kaggle/input/flowers-recognition/flowers/daisy',\n",
       " '/kaggle/input/flowers-recognition/flowers/rose',\n",
       " '/kaggle/input/flowers-recognition/flowers/dandelion',\n",
       " '/kaggle/input/flowers-recognition/flowers/sunflower',\n",
       " '/kaggle/input/flowers-recognition/flowers/flowers',\n",
       " '/kaggle/input/flowers-recognition/flowers/tulip']"
      ]
     },
     "execution_count": 3,
     "metadata": {},
     "output_type": "execute_result"
    }
   ],
   "source": [
    "original_dataset_dir = os.path.join(base, 'flowers')\n",
    "dataset = os.path.join(splits, 'flowers_split')\n",
    "\n",
    "train_dir = os.path.join(dataset, 'train')\n",
    "validation_dir = os.path.join(dataset, 'validation')\n",
    "test_dir = os.path.join(dataset, 'test')\n",
    "\n",
    "categories = os.listdir(original_dataset_dir)\n",
    "categories = [category for category in categories if not category.startswith('.')]\n",
    "print('Image types:', categories)\n",
    "data_folders = [os.path.join(original_dataset_dir, category) for category in categories]\n",
    "data_folders"
   ]
  },
  {
   "cell_type": "markdown",
   "metadata": {
    "papermill": {
     "duration": 0.069307,
     "end_time": "2020-11-16T12:19:12.850989",
     "exception": false,
     "start_time": "2020-11-16T12:19:12.781682",
     "status": "completed"
    },
    "tags": []
   },
   "source": [
    "We build the (image, label) pairs"
   ]
  },
  {
   "cell_type": "code",
   "execution_count": 4,
   "metadata": {
    "execution": {
     "iopub.execute_input": "2020-11-16T12:19:12.998724Z",
     "iopub.status.busy": "2020-11-16T12:19:12.998017Z",
     "iopub.status.idle": "2020-11-16T12:19:13.093276Z",
     "shell.execute_reply": "2020-11-16T12:19:13.092313Z"
    },
    "papermill": {
     "duration": 0.171545,
     "end_time": "2020-11-16T12:19:13.093389",
     "exception": false,
     "start_time": "2020-11-16T12:19:12.921844",
     "status": "completed"
    },
    "tags": []
   },
   "outputs": [
    {
     "data": {
      "text/plain": [
       "[('2509545845_99e79cb8a2_n.jpg', 'daisy'),\n",
       " ('34729724865_787c98299d_n.jpg', 'daisy'),\n",
       " ('909609509_a05ccb8127.jpg', 'daisy'),\n",
       " ('134409839_71069a95d1_m.jpg', 'daisy'),\n",
       " ('2642408410_61545fdc83_n.jpg', 'daisy'),\n",
       " ('4496202781_1d8e776ff5_n.jpg', 'daisy'),\n",
       " ('299129811_d6ebda9970.jpg', 'daisy'),\n",
       " ('5896103923_075a988bed_n.jpg', 'daisy'),\n",
       " ('14147016029_8d3cf2414e.jpg', 'daisy'),\n",
       " ('5714327423_50af0cffe9.jpg', 'daisy')]"
      ]
     },
     "execution_count": 4,
     "metadata": {},
     "output_type": "execute_result"
    }
   ],
   "source": [
    "pairs = []\n",
    "for folder, category in zip(data_folders, categories):\n",
    "    images = os.listdir(folder)\n",
    "    images = [image for image in images if not image.startswith('.')]\n",
    "    pairs.extend([(image, category) for image in images])\n",
    "pairs[:10]"
   ]
  },
  {
   "cell_type": "markdown",
   "metadata": {
    "papermill": {
     "duration": 0.069896,
     "end_time": "2020-11-16T12:19:13.235139",
     "exception": false,
     "start_time": "2020-11-16T12:19:13.165243",
     "status": "completed"
    },
    "tags": []
   },
   "source": [
    "We define a split. We will run this part only once to create the partition into training, validation, and test sets."
   ]
  },
  {
   "cell_type": "code",
   "execution_count": 5,
   "metadata": {
    "execution": {
     "iopub.execute_input": "2020-11-16T12:19:13.380748Z",
     "iopub.status.busy": "2020-11-16T12:19:13.379747Z",
     "iopub.status.idle": "2020-11-16T12:19:13.389153Z",
     "shell.execute_reply": "2020-11-16T12:19:13.388423Z"
    },
    "papermill": {
     "duration": 0.084392,
     "end_time": "2020-11-16T12:19:13.389268",
     "exception": false,
     "start_time": "2020-11-16T12:19:13.304876",
     "status": "completed"
    },
    "tags": []
   },
   "outputs": [],
   "source": [
    "if not os.path.isdir(dataset):\n",
    "    random.shuffle(pairs)\n",
    "    img_nbr = len(pairs)\n",
    "    train_images = pairs[0:int(0.6 * img_nbr)]\n",
    "    val_images = pairs[int(0.6 * img_nbr):int(0.8 * img_nbr)]\n",
    "    test_images = pairs[int(0.8 * img_nbr):]\n",
    "\n",
    "    # print(train_images)\n",
    "    print(len(train_images))\n",
    "    print(len(val_images))\n",
    "    print(len(test_images))"
   ]
  },
  {
   "cell_type": "markdown",
   "metadata": {
    "papermill": {
     "duration": 0.0691,
     "end_time": "2020-11-16T12:19:13.528258",
     "exception": false,
     "start_time": "2020-11-16T12:19:13.459158",
     "status": "completed"
    },
    "tags": []
   },
   "source": [
    "We create the three subsets. We will run this part only once to create the partition into training, validation, and test sets."
   ]
  },
  {
   "cell_type": "raw",
   "metadata": {
    "papermill": {
     "duration": 0.071713,
     "end_time": "2020-11-16T12:19:13.671458",
     "exception": false,
     "start_time": "2020-11-16T12:19:13.599745",
     "status": "completed"
    },
    "tags": []
   },
   "source": [
    "if not os.path.isdir(dataset) or os.path.isdir(dataset):\n",
    "    for image, label in tqdm(train_images):\n",
    "        if label != 'flowers':\n",
    "            src = os.path.join(original_dataset_dir, label, image)\n",
    "            dst = os.path.join(train_dir, label, image)\n",
    "            os.makedirs(os.path.dirname(dst), exist_ok=True)\n",
    "            shutil.copy(src, dst)\n",
    "\n",
    "    for image, label in tqdm(val_images):\n",
    "        if label != 'flowers':\n",
    "            src = os.path.join(original_dataset_dir, label, image)\n",
    "            dst = os.path.join(validation_dir, label, image)\n",
    "            os.makedirs(os.path.dirname(dst), exist_ok=True)\n",
    "            shutil.copyfile(src, dst)\n",
    "\n",
    "    for image, label in tqdm(test_images):\n",
    "        if label != 'flowers':\n",
    "            src = os.path.join(original_dataset_dir, label, image)\n",
    "            dst = os.path.join(test_dir, label, image)\n",
    "            os.makedirs(os.path.dirname(dst), exist_ok=True)\n",
    "            shutil.copyfile(src, dst)"
   ]
  },
  {
   "cell_type": "markdown",
   "metadata": {
    "papermill": {
     "duration": 0.068577,
     "end_time": "2020-11-16T12:19:13.809526",
     "exception": false,
     "start_time": "2020-11-16T12:19:13.740949",
     "status": "completed"
    },
    "tags": []
   },
   "source": [
    "## Building a Simple Convolutional Neural Network"
   ]
  },
  {
   "cell_type": "markdown",
   "metadata": {
    "papermill": {
     "duration": 0.069467,
     "end_time": "2020-11-16T12:19:13.948367",
     "exception": false,
     "start_time": "2020-11-16T12:19:13.878900",
     "status": "completed"
    },
    "tags": []
   },
   "source": [
    "### Architecture"
   ]
  },
  {
   "cell_type": "markdown",
   "metadata": {
    "papermill": {
     "duration": 0.069084,
     "end_time": "2020-11-16T12:19:14.088739",
     "exception": false,
     "start_time": "2020-11-16T12:19:14.019655",
     "status": "completed"
    },
    "tags": []
   },
   "source": [
    "Create a simple convolutional network and train a model with the train set. You can start from the architecture proposed by Chollet, Listing 5.5 (in Chollet's notebook 5.2), and a small number of epochs. Use the `ImageDataGenerator` class to scale your images as in the book:\n",
    "```\n",
    "train_datagen = ImageDataGenerator(rescale=1. / 255)\n",
    "val_datagen = ImageDataGenerator(rescale=1. / 255)\n",
    "test_datagen = ImageDataGenerator(rescale=1. / 255)\n",
    "```\n",
    "* You will need to modify some parameters so that your network handles multiple classes.\n",
    "* You will also adjust the number of steps so that your generator in the fitting procedure sees all the samples.\n",
    "* You will report the training and validation losses and accuracies and comment on the possible overfit."
   ]
  },
  {
   "cell_type": "code",
   "execution_count": 6,
   "metadata": {
    "execution": {
     "iopub.execute_input": "2020-11-16T12:19:14.237806Z",
     "iopub.status.busy": "2020-11-16T12:19:14.236996Z",
     "iopub.status.idle": "2020-11-16T12:19:20.597210Z",
     "shell.execute_reply": "2020-11-16T12:19:20.596003Z"
    },
    "papermill": {
     "duration": 6.440268,
     "end_time": "2020-11-16T12:19:20.597345",
     "exception": false,
     "start_time": "2020-11-16T12:19:14.157077",
     "status": "completed"
    },
    "tags": []
   },
   "outputs": [],
   "source": [
    "import numpy as np\n",
    "from sklearn.metrics import classification_report, confusion_matrix, accuracy_score\n",
    "import matplotlib.pyplot as plt\n",
    "from keras import layers\n",
    "from keras import models\n",
    "from keras import optimizers\n",
    "from keras.preprocessing.image import ImageDataGenerator\n",
    "from keras.models import load_model\n",
    "\n",
    "EPOCHS = 50\n",
    "OPTIMIZER = 'rmsprop'\n",
    "# The pretrained network\n",
    "PRETRAINED = 'INCEPTION'"
   ]
  },
  {
   "cell_type": "markdown",
   "metadata": {
    "papermill": {
     "duration": 0.072738,
     "end_time": "2020-11-16T12:19:20.745013",
     "exception": false,
     "start_time": "2020-11-16T12:19:20.672275",
     "status": "completed"
    },
    "tags": []
   },
   "source": [
    "### Create the network and compile it"
   ]
  },
  {
   "cell_type": "code",
   "execution_count": 7,
   "metadata": {
    "execution": {
     "iopub.execute_input": "2020-11-16T12:19:20.899617Z",
     "iopub.status.busy": "2020-11-16T12:19:20.898709Z",
     "iopub.status.idle": "2020-11-16T12:19:23.772592Z",
     "shell.execute_reply": "2020-11-16T12:19:23.771188Z"
    },
    "papermill": {
     "duration": 2.956648,
     "end_time": "2020-11-16T12:19:23.772733",
     "exception": false,
     "start_time": "2020-11-16T12:19:20.816085",
     "status": "completed"
    },
    "tags": []
   },
   "outputs": [
    {
     "name": "stdout",
     "output_type": "stream",
     "text": [
      "Model: \"sequential\"\n",
      "_________________________________________________________________\n",
      "Layer (type)                 Output Shape              Param #   \n",
      "=================================================================\n",
      "conv2d (Conv2D)              (None, 148, 148, 32)      896       \n",
      "_________________________________________________________________\n",
      "max_pooling2d (MaxPooling2D) (None, 74, 74, 32)        0         \n",
      "_________________________________________________________________\n",
      "conv2d_1 (Conv2D)            (None, 72, 72, 64)        18496     \n",
      "_________________________________________________________________\n",
      "max_pooling2d_1 (MaxPooling2 (None, 36, 36, 64)        0         \n",
      "_________________________________________________________________\n",
      "conv2d_2 (Conv2D)            (None, 34, 34, 128)       73856     \n",
      "_________________________________________________________________\n",
      "max_pooling2d_2 (MaxPooling2 (None, 17, 17, 128)       0         \n",
      "_________________________________________________________________\n",
      "conv2d_3 (Conv2D)            (None, 15, 15, 128)       147584    \n",
      "_________________________________________________________________\n",
      "max_pooling2d_3 (MaxPooling2 (None, 7, 7, 128)         0         \n",
      "_________________________________________________________________\n",
      "flatten (Flatten)            (None, 6272)              0         \n",
      "_________________________________________________________________\n",
      "dense (Dense)                (None, 512)               3211776   \n",
      "_________________________________________________________________\n",
      "dense_1 (Dense)              (None, 5)                 2565      \n",
      "=================================================================\n",
      "Total params: 3,455,173\n",
      "Trainable params: 3,455,173\n",
      "Non-trainable params: 0\n",
      "_________________________________________________________________\n"
     ]
    }
   ],
   "source": [
    "model = models.Sequential()\n",
    "model.add(layers.Conv2D(32, (3, 3), activation='relu',\n",
    "                        input_shape=(150, 150, 3)))\n",
    "model.add(layers.MaxPooling2D((2, 2)))\n",
    "model.add(layers.Conv2D(64, (3, 3), activation='relu'))\n",
    "model.add(layers.MaxPooling2D((2, 2)))\n",
    "model.add(layers.Conv2D(128, (3, 3), activation='relu'))\n",
    "model.add(layers.MaxPooling2D((2, 2)))\n",
    "model.add(layers.Conv2D(128, (3, 3), activation='relu'))\n",
    "model.add(layers.MaxPooling2D((2, 2)))\n",
    "model.add(layers.Flatten())\n",
    "model.add(layers.Dense(512, activation='relu'))\n",
    "#model.add(layers.Dense(1, activation='sigmoid'))\n",
    "model.add(layers.Dense(5, activation = \"softmax\"))\n",
    "\n",
    "model.summary()"
   ]
  },
  {
   "cell_type": "code",
   "execution_count": 8,
   "metadata": {
    "execution": {
     "iopub.execute_input": "2020-11-16T12:19:23.930030Z",
     "iopub.status.busy": "2020-11-16T12:19:23.929346Z",
     "iopub.status.idle": "2020-11-16T12:19:23.938569Z",
     "shell.execute_reply": "2020-11-16T12:19:23.938036Z"
    },
    "papermill": {
     "duration": 0.095617,
     "end_time": "2020-11-16T12:19:23.938673",
     "exception": false,
     "start_time": "2020-11-16T12:19:23.843056",
     "status": "completed"
    },
    "tags": []
   },
   "outputs": [],
   "source": [
    "model.compile(loss='categorical_crossentropy',\n",
    "              optimizer=optimizers.RMSprop(lr=1e-5, epsilon=1e-08),\n",
    "              metrics=['acc'])"
   ]
  },
  {
   "cell_type": "markdown",
   "metadata": {
    "papermill": {
     "duration": 0.072036,
     "end_time": "2020-11-16T12:19:24.084625",
     "exception": false,
     "start_time": "2020-11-16T12:19:24.012589",
     "status": "completed"
    },
    "tags": []
   },
   "source": [
    "Create now the data generators for the training, validation, and test set"
   ]
  },
  {
   "cell_type": "code",
   "execution_count": 9,
   "metadata": {
    "execution": {
     "iopub.execute_input": "2020-11-16T12:19:24.236400Z",
     "iopub.status.busy": "2020-11-16T12:19:24.235661Z",
     "iopub.status.idle": "2020-11-16T12:19:24.568446Z",
     "shell.execute_reply": "2020-11-16T12:19:24.567854Z"
    },
    "papermill": {
     "duration": 0.413412,
     "end_time": "2020-11-16T12:19:24.568549",
     "exception": false,
     "start_time": "2020-11-16T12:19:24.155137",
     "status": "completed"
    },
    "tags": []
   },
   "outputs": [
    {
     "name": "stdout",
     "output_type": "stream",
     "text": [
      "Found 2592 images belonging to 5 classes.\n",
      "Found 866 images belonging to 5 classes.\n",
      "Found 865 images belonging to 5 classes.\n"
     ]
    }
   ],
   "source": [
    "# All images will be rescaled by 1./255\n",
    "train_datagen = ImageDataGenerator(rescale=1./255)\n",
    "val_datagen = ImageDataGenerator(rescale=1./255)\n",
    "test_datagen = ImageDataGenerator(rescale=1./255)\n",
    "\n",
    "train_generator = train_datagen.flow_from_directory(\n",
    "        # This is the target directory\n",
    "        train_dir,\n",
    "        # All images will be resized to 150x150\n",
    "        target_size=(150, 150),\n",
    "        batch_size=20,\n",
    "        class_mode='categorical')\n",
    "\n",
    "validation_generator = val_datagen.flow_from_directory(\n",
    "        validation_dir,\n",
    "        target_size=(150, 150),\n",
    "        batch_size=20,\n",
    "        class_mode='categorical')                        \n",
    "\n",
    "test_generator = test_datagen.flow_from_directory(\n",
    "        test_dir,\n",
    "        target_size=(150, 150),\n",
    "        class_mode='categorical',\n",
    "        batch_size=1,\n",
    "        shuffle=False)\n"
   ]
  },
  {
   "cell_type": "code",
   "execution_count": 10,
   "metadata": {
    "execution": {
     "iopub.execute_input": "2020-11-16T12:19:24.719381Z",
     "iopub.status.busy": "2020-11-16T12:19:24.718714Z",
     "iopub.status.idle": "2020-11-16T12:19:25.307043Z",
     "shell.execute_reply": "2020-11-16T12:19:25.306161Z"
    },
    "papermill": {
     "duration": 0.666675,
     "end_time": "2020-11-16T12:19:25.307230",
     "exception": false,
     "start_time": "2020-11-16T12:19:24.640555",
     "status": "completed"
    },
    "tags": []
   },
   "outputs": [
    {
     "data": {
      "image/png": "[encoded data removed]",
      "text/plain": [
       "<Figure size 432x288 with 1 Axes>"
      ]
     },
     "metadata": {
      "needs_background": "light"
     },
     "output_type": "display_data"
    },
    {
     "data": {
      "image/png": "[encoded data removed]",
      "text/plain": [
       "<Figure size 432x288 with 1 Axes>"
      ]
     },
     "metadata": {
      "needs_background": "light"
     },
     "output_type": "display_data"
    }
   ],
   "source": [
    "# See some images\n",
    "x,y = train_generator.next()\n",
    "for i in range(0,2):\n",
    "    image = x[i]\n",
    "    plt.imshow(image)\n",
    "    plt.show()"
   ]
  },
  {
   "cell_type": "markdown",
   "metadata": {
    "papermill": {
     "duration": 0.080806,
     "end_time": "2020-11-16T12:19:25.475895",
     "exception": false,
     "start_time": "2020-11-16T12:19:25.395089",
     "status": "completed"
    },
    "tags": []
   },
   "source": [
    "Compute `STEPS_PER_EPOCH` and `VALIDATION_STEPS`"
   ]
  },
  {
   "cell_type": "code",
   "execution_count": 11,
   "metadata": {
    "execution": {
     "iopub.execute_input": "2020-11-16T12:19:25.641458Z",
     "iopub.status.busy": "2020-11-16T12:19:25.639798Z",
     "iopub.status.idle": "2020-11-16T12:19:25.642252Z",
     "shell.execute_reply": "2020-11-16T12:19:25.642788Z"
    },
    "papermill": {
     "duration": 0.087399,
     "end_time": "2020-11-16T12:19:25.642936",
     "exception": false,
     "start_time": "2020-11-16T12:19:25.555537",
     "status": "completed"
    },
    "tags": []
   },
   "outputs": [],
   "source": [
    "STEPS_PER_EPOCH = 100 # Every Epoch runs through a number of batches\n",
    "VALIDATION_STEPS = 25 # Breaks loop since we pass a generator in out fit function later"
   ]
  },
  {
   "cell_type": "markdown",
   "metadata": {
    "papermill": {
     "duration": 0.078941,
     "end_time": "2020-11-16T12:19:25.800883",
     "exception": false,
     "start_time": "2020-11-16T12:19:25.721942",
     "status": "completed"
    },
    "tags": []
   },
   "source": [
    "And fit your model"
   ]
  },
  {
   "cell_type": "code",
   "execution_count": 12,
   "metadata": {
    "execution": {
     "iopub.execute_input": "2020-11-16T12:19:26.001570Z",
     "iopub.status.busy": "2020-11-16T12:19:26.000832Z",
     "iopub.status.idle": "2020-11-16T12:26:40.402502Z",
     "shell.execute_reply": "2020-11-16T12:26:40.401461Z"
    },
    "papermill": {
     "duration": 434.52303,
     "end_time": "2020-11-16T12:26:40.402624",
     "exception": false,
     "start_time": "2020-11-16T12:19:25.879594",
     "status": "completed"
    },
    "tags": []
   },
   "outputs": [
    {
     "name": "stdout",
     "output_type": "stream",
     "text": [
      "Epoch 1/50\n",
      "100/100 [==============================] - 12s 124ms/step - loss: 1.5896 - acc: 0.2495 - val_loss: 1.5784 - val_acc: 0.2280\n",
      "Epoch 2/50\n",
      "100/100 [==============================] - 9s 90ms/step - loss: 1.5430 - acc: 0.3173 - val_loss: 1.5301 - val_acc: 0.3100\n",
      "Epoch 3/50\n",
      "100/100 [==============================] - 8s 81ms/step - loss: 1.4909 - acc: 0.3911 - val_loss: 1.4605 - val_acc: 0.4340\n",
      "Epoch 4/50\n",
      "100/100 [==============================] - 8s 82ms/step - loss: 1.4233 - acc: 0.4423 - val_loss: 1.3997 - val_acc: 0.4260\n",
      "Epoch 5/50\n",
      "100/100 [==============================] - 9s 94ms/step - loss: 1.3570 - acc: 0.4585 - val_loss: 1.3569 - val_acc: 0.4580\n",
      "Epoch 6/50\n",
      "100/100 [==============================] - 8s 83ms/step - loss: 1.3015 - acc: 0.4834 - val_loss: 1.2819 - val_acc: 0.4880\n",
      "Epoch 7/50\n",
      "100/100 [==============================] - 8s 82ms/step - loss: 1.2427 - acc: 0.4980 - val_loss: 1.2215 - val_acc: 0.5040\n",
      "Epoch 8/50\n",
      "100/100 [==============================] - 8s 77ms/step - loss: 1.1992 - acc: 0.5236 - val_loss: 1.1961 - val_acc: 0.5140\n",
      "Epoch 9/50\n",
      "100/100 [==============================] - 9s 88ms/step - loss: 1.1790 - acc: 0.5250 - val_loss: 1.1923 - val_acc: 0.5060\n",
      "Epoch 10/50\n",
      "100/100 [==============================] - 8s 83ms/step - loss: 1.1547 - acc: 0.5211 - val_loss: 1.1566 - val_acc: 0.5380\n",
      "Epoch 11/50\n",
      "100/100 [==============================] - 8s 79ms/step - loss: 1.1274 - acc: 0.5331 - val_loss: 1.1933 - val_acc: 0.5040\n",
      "Epoch 12/50\n",
      "100/100 [==============================] - 8s 83ms/step - loss: 1.1085 - acc: 0.5502 - val_loss: 1.1389 - val_acc: 0.5400\n",
      "Epoch 13/50\n",
      "100/100 [==============================] - 9s 88ms/step - loss: 1.1042 - acc: 0.5447 - val_loss: 1.1125 - val_acc: 0.5580\n",
      "Epoch 14/50\n",
      "100/100 [==============================] - 8s 84ms/step - loss: 1.0924 - acc: 0.5452 - val_loss: 1.1772 - val_acc: 0.5320\n",
      "Epoch 15/50\n",
      "100/100 [==============================] - 8s 80ms/step - loss: 1.0835 - acc: 0.5532 - val_loss: 1.1368 - val_acc: 0.5340\n",
      "Epoch 16/50\n",
      "100/100 [==============================] - 8s 82ms/step - loss: 1.0677 - acc: 0.5648 - val_loss: 1.1024 - val_acc: 0.5640\n",
      "Epoch 17/50\n",
      "100/100 [==============================] - 8s 81ms/step - loss: 1.0587 - acc: 0.5660 - val_loss: 1.1525 - val_acc: 0.5300\n",
      "Epoch 18/50\n",
      "100/100 [==============================] - 8s 84ms/step - loss: 1.0473 - acc: 0.5778 - val_loss: 1.0798 - val_acc: 0.5560\n",
      "Epoch 19/50\n",
      "100/100 [==============================] - 8s 80ms/step - loss: 1.0370 - acc: 0.5735 - val_loss: 1.0591 - val_acc: 0.5820\n",
      "Epoch 20/50\n",
      "100/100 [==============================] - 9s 93ms/step - loss: 1.0286 - acc: 0.5810 - val_loss: 1.1133 - val_acc: 0.5100\n",
      "Epoch 21/50\n",
      "100/100 [==============================] - 8s 78ms/step - loss: 1.0230 - acc: 0.5934 - val_loss: 1.0771 - val_acc: 0.5740\n",
      "Epoch 22/50\n",
      "100/100 [==============================] - 8s 84ms/step - loss: 1.0132 - acc: 0.5825 - val_loss: 1.0664 - val_acc: 0.5900\n",
      "Epoch 23/50\n",
      "100/100 [==============================] - 8s 80ms/step - loss: 1.0209 - acc: 0.5900 - val_loss: 1.1126 - val_acc: 0.5380\n",
      "Epoch 24/50\n",
      "100/100 [==============================] - 8s 85ms/step - loss: 1.0122 - acc: 0.5979 - val_loss: 1.0731 - val_acc: 0.5780\n",
      "Epoch 25/50\n",
      "100/100 [==============================] - 8s 85ms/step - loss: 0.9888 - acc: 0.5904 - val_loss: 1.0956 - val_acc: 0.5920\n",
      "Epoch 26/50\n",
      "100/100 [==============================] - 8s 80ms/step - loss: 0.9945 - acc: 0.6029 - val_loss: 1.0480 - val_acc: 0.5700\n",
      "Epoch 27/50\n",
      "100/100 [==============================] - 9s 89ms/step - loss: 0.9787 - acc: 0.6080 - val_loss: 1.0585 - val_acc: 0.5700\n",
      "Epoch 28/50\n",
      "100/100 [==============================] - 9s 86ms/step - loss: 0.9807 - acc: 0.6014 - val_loss: 1.1016 - val_acc: 0.5680\n",
      "Epoch 29/50\n",
      "100/100 [==============================] - 9s 85ms/step - loss: 0.9770 - acc: 0.6019 - val_loss: 1.0862 - val_acc: 0.5760\n",
      "Epoch 30/50\n",
      "100/100 [==============================] - 8s 80ms/step - loss: 0.9562 - acc: 0.6124 - val_loss: 1.0847 - val_acc: 0.5680\n",
      "Epoch 31/50\n",
      "100/100 [==============================] - 8s 81ms/step - loss: 0.9709 - acc: 0.6065 - val_loss: 1.0334 - val_acc: 0.5920\n",
      "Epoch 32/50\n",
      "100/100 [==============================] - 8s 84ms/step - loss: 0.9487 - acc: 0.6200 - val_loss: 1.1174 - val_acc: 0.5660\n",
      "Epoch 33/50\n",
      "100/100 [==============================] - 8s 82ms/step - loss: 0.9499 - acc: 0.6165 - val_loss: 1.1468 - val_acc: 0.5460\n",
      "Epoch 34/50\n",
      "100/100 [==============================] - 9s 88ms/step - loss: 0.9550 - acc: 0.6220 - val_loss: 1.0761 - val_acc: 0.5880\n",
      "Epoch 35/50\n",
      "100/100 [==============================] - 9s 85ms/step - loss: 0.9493 - acc: 0.6145 - val_loss: 1.0792 - val_acc: 0.5500\n",
      "Epoch 36/50\n",
      "100/100 [==============================] - 8s 80ms/step - loss: 0.9385 - acc: 0.6265 - val_loss: 1.0425 - val_acc: 0.6040\n",
      "Epoch 37/50\n",
      "100/100 [==============================] - 9s 86ms/step - loss: 0.9482 - acc: 0.6175 - val_loss: 1.0592 - val_acc: 0.5780\n",
      "Epoch 38/50\n",
      "100/100 [==============================] - 8s 77ms/step - loss: 0.9271 - acc: 0.6365 - val_loss: 1.0917 - val_acc: 0.5540\n",
      "Epoch 39/50\n",
      "100/100 [==============================] - 9s 87ms/step - loss: 0.9232 - acc: 0.6300 - val_loss: 1.0813 - val_acc: 0.5860\n",
      "Epoch 40/50\n",
      "100/100 [==============================] - 8s 82ms/step - loss: 0.9230 - acc: 0.6310 - val_loss: 1.0172 - val_acc: 0.6020\n",
      "Epoch 41/50\n",
      "100/100 [==============================] - 10s 100ms/step - loss: 0.9169 - acc: 0.6260 - val_loss: 1.0492 - val_acc: 0.5920\n",
      "Epoch 42/50\n",
      "100/100 [==============================] - 8s 85ms/step - loss: 0.9151 - acc: 0.6455 - val_loss: 1.0855 - val_acc: 0.5800\n",
      "Epoch 43/50\n",
      "100/100 [==============================] - 9s 85ms/step - loss: 0.9048 - acc: 0.6430 - val_loss: 1.0714 - val_acc: 0.5780\n",
      "Epoch 44/50\n",
      "100/100 [==============================] - 9s 90ms/step - loss: 0.8902 - acc: 0.6416 - val_loss: 0.9710 - val_acc: 0.6240\n",
      "Epoch 45/50\n",
      "100/100 [==============================] - 8s 81ms/step - loss: 0.8928 - acc: 0.6476 - val_loss: 1.0128 - val_acc: 0.6080\n",
      "Epoch 46/50\n",
      "100/100 [==============================] - 8s 82ms/step - loss: 0.8859 - acc: 0.6605 - val_loss: 1.0813 - val_acc: 0.5860\n",
      "Epoch 47/50\n",
      "100/100 [==============================] - 8s 82ms/step - loss: 0.8765 - acc: 0.6616 - val_loss: 1.0192 - val_acc: 0.5980\n",
      "Epoch 48/50\n",
      "100/100 [==============================] - 10s 101ms/step - loss: 0.8775 - acc: 0.6496 - val_loss: 1.0194 - val_acc: 0.6140\n",
      "Epoch 49/50\n",
      "100/100 [==============================] - 8s 83ms/step - loss: 0.8818 - acc: 0.6531 - val_loss: 1.0990 - val_acc: 0.6040\n",
      "Epoch 50/50\n",
      "100/100 [==============================] - 9s 86ms/step - loss: 0.8660 - acc: 0.6581 - val_loss: 1.0707 - val_acc: 0.5800\n"
     ]
    }
   ],
   "source": [
    "history = model.fit_generator(\n",
    "      train_generator,\n",
    "      steps_per_epoch=STEPS_PER_EPOCH,\n",
    "      epochs=EPOCHS,\n",
    "      validation_data=validation_generator,\n",
    "      validation_steps=VALIDATION_STEPS)"
   ]
  },
  {
   "cell_type": "markdown",
   "metadata": {
    "papermill": {
     "duration": 1.987163,
     "end_time": "2020-11-16T12:26:44.345225",
     "exception": false,
     "start_time": "2020-11-16T12:26:42.358062",
     "status": "completed"
    },
    "tags": []
   },
   "source": [
    "### Analyzing the fitting performance over epochs"
   ]
  },
  {
   "cell_type": "markdown",
   "metadata": {
    "papermill": {
     "duration": 2.2059,
     "end_time": "2020-11-16T12:26:48.562103",
     "exception": false,
     "start_time": "2020-11-16T12:26:46.356203",
     "status": "completed"
    },
    "tags": []
   },
   "source": [
    "As in Chollet's examples, print the training and validation loss"
   ]
  },
  {
   "cell_type": "code",
   "execution_count": 13,
   "metadata": {
    "execution": {
     "iopub.execute_input": "2020-11-16T12:26:52.512034Z",
     "iopub.status.busy": "2020-11-16T12:26:52.510969Z",
     "iopub.status.idle": "2020-11-16T12:26:52.590968Z",
     "shell.execute_reply": "2020-11-16T12:26:52.590299Z"
    },
    "papermill": {
     "duration": 2.062467,
     "end_time": "2020-11-16T12:26:52.591096",
     "exception": false,
     "start_time": "2020-11-16T12:26:50.528629",
     "status": "completed"
    },
    "tags": []
   },
   "outputs": [],
   "source": [
    "model.save('flowers_no_augment.h5')"
   ]
  },
  {
   "cell_type": "code",
   "execution_count": 14,
   "metadata": {
    "execution": {
     "iopub.execute_input": "2020-11-16T12:26:56.660478Z",
     "iopub.status.busy": "2020-11-16T12:26:56.658791Z",
     "iopub.status.idle": "2020-11-16T12:26:57.029839Z",
     "shell.execute_reply": "2020-11-16T12:26:57.030500Z"
    },
    "papermill": {
     "duration": 2.410405,
     "end_time": "2020-11-16T12:26:57.030656",
     "exception": false,
     "start_time": "2020-11-16T12:26:54.620251",
     "status": "completed"
    },
    "tags": []
   },
   "outputs": [
    {
     "data": {
      "image/png": "[encoded data removed]",
      "text/plain": [
       "<Figure size 432x288 with 1 Axes>"
      ]
     },
     "metadata": {
      "needs_background": "light"
     },
     "output_type": "display_data"
    },
    {
     "data": {
      "image/png": "[encoded data removed]",
      "text/plain": [
       "<Figure size 432x288 with 1 Axes>"
      ]
     },
     "metadata": {
      "needs_background": "light"
     },
     "output_type": "display_data"
    }
   ],
   "source": [
    "acc = history.history['acc']\n",
    "val_acc = history.history['val_acc']\n",
    "loss = history.history['loss']\n",
    "val_loss = history.history['val_loss']\n",
    "\n",
    "epochs = range(len(acc))\n",
    "\n",
    "plt.plot(epochs, acc, 'bo', label='Training acc')\n",
    "plt.plot(epochs, val_acc, 'b', label='Validation acc')\n",
    "plt.title('Training and validation accuracy')\n",
    "plt.legend()\n",
    "\n",
    "plt.figure()\n",
    "\n",
    "plt.plot(epochs, loss, 'bo', label='Training loss')\n",
    "plt.plot(epochs, val_loss, 'b', label='Validation loss')\n",
    "plt.title('Training and validation loss')\n",
    "plt.legend()\n",
    "\n",
    "plt.show()"
   ]
  },
  {
   "cell_type": "markdown",
   "metadata": {
    "papermill": {
     "duration": 1.989712,
     "end_time": "2020-11-16T12:27:01.281911",
     "exception": false,
     "start_time": "2020-11-16T12:26:59.292199",
     "status": "completed"
    },
    "tags": []
   },
   "source": [
    "### Predicting the test set"
   ]
  },
  {
   "cell_type": "markdown",
   "metadata": {
    "papermill": {
     "duration": 2.114561,
     "end_time": "2020-11-16T12:27:05.380515",
     "exception": false,
     "start_time": "2020-11-16T12:27:03.265954",
     "status": "completed"
    },
    "tags": []
   },
   "source": [
    "Apply now your network to the test set"
   ]
  },
  {
   "cell_type": "code",
   "execution_count": 15,
   "metadata": {
    "execution": {
     "iopub.execute_input": "2020-11-16T12:27:09.550930Z",
     "iopub.status.busy": "2020-11-16T12:27:09.549966Z",
     "iopub.status.idle": "2020-11-16T12:27:14.585260Z",
     "shell.execute_reply": "2020-11-16T12:27:14.586467Z"
    },
    "papermill": {
     "duration": 7.16701,
     "end_time": "2020-11-16T12:27:14.586626",
     "exception": false,
     "start_time": "2020-11-16T12:27:07.419616",
     "status": "completed"
    },
    "tags": []
   },
   "outputs": [
    {
     "name": "stdout",
     "output_type": "stream",
     "text": [
      "865/865 [==============================] - 5s 5ms/step\n"
     ]
    }
   ],
   "source": [
    "predict = model.predict_generator(test_generator, steps=len(test_generator), verbose=1)"
   ]
  },
  {
   "cell_type": "code",
   "execution_count": 16,
   "metadata": {
    "execution": {
     "iopub.execute_input": "2020-11-16T12:27:19.372690Z",
     "iopub.status.busy": "2020-11-16T12:27:19.371993Z",
     "iopub.status.idle": "2020-11-16T12:27:19.376777Z",
     "shell.execute_reply": "2020-11-16T12:27:19.376232Z"
    },
    "papermill": {
     "duration": 2.137439,
     "end_time": "2020-11-16T12:27:19.376889",
     "exception": false,
     "start_time": "2020-11-16T12:27:17.239450",
     "status": "completed"
    },
    "tags": []
   },
   "outputs": [],
   "source": [
    "y_true = (test_generator.classes)\n",
    "y_pred = np.argmax(predict,axis=-1)"
   ]
  },
  {
   "cell_type": "markdown",
   "metadata": {
    "papermill": {
     "duration": 2.055992,
     "end_time": "2020-11-16T12:27:23.982315",
     "exception": false,
     "start_time": "2020-11-16T12:27:21.926323",
     "status": "completed"
    },
    "tags": []
   },
   "source": [
    "Report the accuracy as well as the classification report. Use sklearn functions"
   ]
  },
  {
   "cell_type": "code",
   "execution_count": 17,
   "metadata": {
    "execution": {
     "iopub.execute_input": "2020-11-16T12:27:28.153524Z",
     "iopub.status.busy": "2020-11-16T12:27:28.151128Z",
     "iopub.status.idle": "2020-11-16T12:27:28.156238Z",
     "shell.execute_reply": "2020-11-16T12:27:28.154213Z"
    },
    "papermill": {
     "duration": 2.1005,
     "end_time": "2020-11-16T12:27:28.156452",
     "exception": false,
     "start_time": "2020-11-16T12:27:26.055952",
     "status": "completed"
    },
    "tags": []
   },
   "outputs": [
    {
     "name": "stdout",
     "output_type": "stream",
     "text": [
      "Accuracy is:  0.6242774566473989\n"
     ]
    }
   ],
   "source": [
    "correct_label = np.equal(y_true, y_pred)\n",
    "accuracy = np.mean(correct_label)\n",
    "\n",
    "print('Accuracy is: ',accuracy)"
   ]
  },
  {
   "cell_type": "code",
   "execution_count": 18,
   "metadata": {
    "execution": {
     "iopub.execute_input": "2020-11-16T12:27:32.455020Z",
     "iopub.status.busy": "2020-11-16T12:27:32.453831Z",
     "iopub.status.idle": "2020-11-16T12:27:32.465700Z",
     "shell.execute_reply": "2020-11-16T12:27:32.466606Z"
    },
    "papermill": {
     "duration": 2.278994,
     "end_time": "2020-11-16T12:27:32.466808",
     "exception": false,
     "start_time": "2020-11-16T12:27:30.187814",
     "status": "completed"
    },
    "tags": []
   },
   "outputs": [
    {
     "name": "stdout",
     "output_type": "stream",
     "text": [
      "Classification report:\n",
      "              precision    recall  f1-score   support\n",
      "\n",
      "           0       0.68      0.55      0.61       174\n",
      "           1       0.58      0.82      0.68       217\n",
      "           2       0.68      0.48      0.56       151\n",
      "           3       0.59      0.69      0.64       133\n",
      "           4       0.67      0.54      0.59       190\n",
      "\n",
      "    accuracy                           0.62       865\n",
      "   macro avg       0.64      0.62      0.62       865\n",
      "weighted avg       0.64      0.62      0.62       865\n",
      "\n"
     ]
    }
   ],
   "source": [
    "print(\"Classification report:\\n%s\"\n",
    "      % (classification_report(y_true, y_pred)))"
   ]
  },
  {
   "cell_type": "markdown",
   "metadata": {
    "papermill": {
     "duration": 2.011742,
     "end_time": "2020-11-16T12:27:36.519851",
     "exception": false,
     "start_time": "2020-11-16T12:27:34.508109",
     "status": "completed"
    },
    "tags": []
   },
   "source": [
    "Print the confusion matrix"
   ]
  },
  {
   "cell_type": "code",
   "execution_count": 19,
   "metadata": {
    "execution": {
     "iopub.execute_input": "2020-11-16T12:27:40.607128Z",
     "iopub.status.busy": "2020-11-16T12:27:40.606165Z",
     "iopub.status.idle": "2020-11-16T12:27:40.620307Z",
     "shell.execute_reply": "2020-11-16T12:27:40.617576Z"
    },
    "papermill": {
     "duration": 2.057242,
     "end_time": "2020-11-16T12:27:40.620431",
     "exception": false,
     "start_time": "2020-11-16T12:27:38.563189",
     "status": "completed"
    },
    "tags": []
   },
   "outputs": [
    {
     "name": "stdout",
     "output_type": "stream",
     "text": [
      "Confusion matrix:\n",
      "[[ 95  58   2  11   8]\n",
      " [ 10 178   0  24   5]\n",
      " [ 12  25  73   9  32]\n",
      " [  6  27   2  92   6]\n",
      " [ 16  21  31  20 102]]\n"
     ]
    }
   ],
   "source": [
    "print(\"Confusion matrix:\\n%s\" % confusion_matrix(y_true, y_pred))"
   ]
  },
  {
   "cell_type": "markdown",
   "metadata": {
    "papermill": {
     "duration": 2.525817,
     "end_time": "2020-11-16T12:27:45.355474",
     "exception": false,
     "start_time": "2020-11-16T12:27:42.829657",
     "status": "completed"
    },
    "tags": []
   },
   "source": [
    "Finally, run a model evaluation and store the loss and accuracy in the `test_loss_1` and `test_acc_1` variables. As with fitting, you may need to adjust the number of steps so that your network tests all the samples."
   ]
  },
  {
   "cell_type": "code",
   "execution_count": 20,
   "metadata": {
    "execution": {
     "iopub.execute_input": "2020-11-16T12:27:49.397668Z",
     "iopub.status.busy": "2020-11-16T12:27:49.396969Z",
     "iopub.status.idle": "2020-11-16T12:27:53.349264Z",
     "shell.execute_reply": "2020-11-16T12:27:53.350108Z"
    },
    "papermill": {
     "duration": 5.940439,
     "end_time": "2020-11-16T12:27:53.350321",
     "exception": false,
     "start_time": "2020-11-16T12:27:47.409882",
     "status": "completed"
    },
    "tags": []
   },
   "outputs": [
    {
     "name": "stdout",
     "output_type": "stream",
     "text": [
      "865/865 [==============================] - 4s 4ms/step - loss: 0.9869 - acc: 0.6243\n"
     ]
    }
   ],
   "source": [
    "evaluation1 = model.evaluate(test_generator)\n",
    "test_loss_1 = evaluation1[0]\n",
    "test_acc_1 = evaluation1[1]"
   ]
  },
  {
   "cell_type": "markdown",
   "metadata": {
    "papermill": {
     "duration": 2.022435,
     "end_time": "2020-11-16T12:27:57.661649",
     "exception": false,
     "start_time": "2020-11-16T12:27:55.639214",
     "status": "completed"
    },
    "tags": []
   },
   "source": [
    "Try to improve your model by modifying some parameters and evaluate your network again."
   ]
  },
  {
   "cell_type": "markdown",
   "metadata": {
    "papermill": {
     "duration": 2.069299,
     "end_time": "2020-11-16T12:28:01.780644",
     "exception": false,
     "start_time": "2020-11-16T12:27:59.711345",
     "status": "completed"
    },
    "tags": []
   },
   "source": [
    "## Using Image Augmentation"
   ]
  },
  {
   "cell_type": "markdown",
   "metadata": {
    "papermill": {
     "duration": 2.412697,
     "end_time": "2020-11-16T12:28:06.219527",
     "exception": false,
     "start_time": "2020-11-16T12:28:03.806830",
     "status": "completed"
    },
    "tags": []
   },
   "source": [
    "### Architecture"
   ]
  },
  {
   "cell_type": "markdown",
   "metadata": {
    "papermill": {
     "duration": 2.10961,
     "end_time": "2020-11-16T12:28:10.442746",
     "exception": false,
     "start_time": "2020-11-16T12:28:08.333136",
     "status": "completed"
    },
    "tags": []
   },
   "source": [
    "The flower dataset is relatively small. A way to expand such datasets is to generate artificial images by applying small transformations to existing images. Keras provides a built-in class for this: `ImageDataGenerator`. You will reuse it and apply it to the flower data set.\n",
    "1. Using the network from the previous exercise, apply some transformations to your images. You can start from Chollet, Listing 5.11 (in notebook 5.2 also).\n",
    "2. Report the training and validation losses and accuracies and comment on the possible overfit.\n",
    "3. Apply your network to the test set and report the accuracy as well as the confusion matrix you obtained.\n"
   ]
  },
  {
   "cell_type": "markdown",
   "metadata": {
    "papermill": {
     "duration": 2.053911,
     "end_time": "2020-11-16T12:28:14.534467",
     "exception": false,
     "start_time": "2020-11-16T12:28:12.480556",
     "status": "completed"
    },
    "tags": []
   },
   "source": [
    "Write a new generator for the training set"
   ]
  },
  {
   "cell_type": "code",
   "execution_count": 21,
   "metadata": {
    "execution": {
     "iopub.execute_input": "2020-11-16T12:28:20.402147Z",
     "iopub.status.busy": "2020-11-16T12:28:20.401104Z",
     "iopub.status.idle": "2020-11-16T12:28:20.516878Z",
     "shell.execute_reply": "2020-11-16T12:28:20.517560Z"
    },
    "papermill": {
     "duration": 2.529868,
     "end_time": "2020-11-16T12:28:20.517766",
     "exception": false,
     "start_time": "2020-11-16T12:28:17.987898",
     "status": "completed"
    },
    "tags": []
   },
   "outputs": [
    {
     "name": "stdout",
     "output_type": "stream",
     "text": [
      "Found 2592 images belonging to 5 classes.\n"
     ]
    }
   ],
   "source": [
    "datagen = ImageDataGenerator(\n",
    "    rescale=1./255,\n",
    "    rotation_range=40,\n",
    "    width_shift_range=0.2,\n",
    "    height_shift_range=0.2,\n",
    "    shear_range=0.2,\n",
    "    zoom_range=0.2,\n",
    "    horizontal_flip=True,)\n",
    "\n",
    "train_generator = datagen.flow_from_directory(\n",
    "        train_dir,\n",
    "        target_size=(150, 150),\n",
    "        batch_size=20,\n",
    "        class_mode='categorical')"
   ]
  },
  {
   "cell_type": "markdown",
   "metadata": {
    "papermill": {
     "duration": 2.090328,
     "end_time": "2020-11-16T12:28:24.786911",
     "exception": false,
     "start_time": "2020-11-16T12:28:22.696583",
     "status": "completed"
    },
    "tags": []
   },
   "source": [
    "Fit a model. You reset the model by recreating it."
   ]
  },
  {
   "cell_type": "code",
   "execution_count": 22,
   "metadata": {
    "execution": {
     "iopub.execute_input": "2020-11-16T12:28:29.271179Z",
     "iopub.status.busy": "2020-11-16T12:28:29.269994Z",
     "iopub.status.idle": "2020-11-16T12:46:17.552870Z",
     "shell.execute_reply": "2020-11-16T12:46:17.553461Z"
    },
    "papermill": {
     "duration": 1070.405899,
     "end_time": "2020-11-16T12:46:17.553620",
     "exception": false,
     "start_time": "2020-11-16T12:28:27.147721",
     "status": "completed"
    },
    "tags": []
   },
   "outputs": [
    {
     "name": "stdout",
     "output_type": "stream",
     "text": [
      "Found 866 images belonging to 5 classes.\n",
      "Found 865 images belonging to 5 classes.\n",
      "Epoch 1/50\n",
      "100/100 [==============================] - 20s 199ms/step - loss: 1.4157 - acc: 0.3474 - val_loss: 1.2791 - val_acc: 0.4480\n",
      "Epoch 2/50\n",
      "100/100 [==============================] - 21s 206ms/step - loss: 1.2326 - acc: 0.4608 - val_loss: 1.1494 - val_acc: 0.5420\n",
      "Epoch 3/50\n",
      "100/100 [==============================] - 21s 205ms/step - loss: 1.1708 - acc: 0.5155 - val_loss: 1.1104 - val_acc: 0.5840\n",
      "Epoch 4/50\n",
      "100/100 [==============================] - 21s 207ms/step - loss: 1.1297 - acc: 0.5301 - val_loss: 1.1203 - val_acc: 0.5780\n",
      "Epoch 5/50\n",
      "100/100 [==============================] - 21s 213ms/step - loss: 1.0865 - acc: 0.5622 - val_loss: 1.1524 - val_acc: 0.5700\n",
      "Epoch 6/50\n",
      "100/100 [==============================] - 21s 208ms/step - loss: 1.0430 - acc: 0.5873 - val_loss: 1.0381 - val_acc: 0.6180\n",
      "Epoch 7/50\n",
      "100/100 [==============================] - 21s 209ms/step - loss: 1.0136 - acc: 0.5894 - val_loss: 1.0434 - val_acc: 0.5880\n",
      "Epoch 8/50\n",
      "100/100 [==============================] - 22s 216ms/step - loss: 0.9870 - acc: 0.6055 - val_loss: 1.0598 - val_acc: 0.6020\n",
      "Epoch 9/50\n",
      "100/100 [==============================] - 20s 205ms/step - loss: 0.9652 - acc: 0.6124 - val_loss: 1.0594 - val_acc: 0.5880\n",
      "Epoch 10/50\n",
      "100/100 [==============================] - 21s 207ms/step - loss: 0.9592 - acc: 0.6170 - val_loss: 0.9511 - val_acc: 0.6280\n",
      "Epoch 11/50\n",
      "100/100 [==============================] - 20s 202ms/step - loss: 0.9214 - acc: 0.6285 - val_loss: 0.9844 - val_acc: 0.6280\n",
      "Epoch 12/50\n",
      "100/100 [==============================] - 22s 220ms/step - loss: 0.9096 - acc: 0.6381 - val_loss: 0.9572 - val_acc: 0.6480\n",
      "Epoch 13/50\n",
      "100/100 [==============================] - 21s 210ms/step - loss: 0.8809 - acc: 0.6471 - val_loss: 0.9463 - val_acc: 0.6500\n",
      "Epoch 14/50\n",
      "100/100 [==============================] - 21s 207ms/step - loss: 0.9025 - acc: 0.6355 - val_loss: 1.0187 - val_acc: 0.6580\n",
      "Epoch 15/50\n",
      "100/100 [==============================] - 22s 217ms/step - loss: 0.8712 - acc: 0.6456 - val_loss: 0.9301 - val_acc: 0.6460\n",
      "Epoch 16/50\n",
      "100/100 [==============================] - 19s 188ms/step - loss: 0.8336 - acc: 0.6637 - val_loss: 0.9398 - val_acc: 0.6840\n",
      "Epoch 17/50\n",
      "100/100 [==============================] - 22s 221ms/step - loss: 0.8622 - acc: 0.6506 - val_loss: 0.8707 - val_acc: 0.6660\n",
      "Epoch 18/50\n",
      "100/100 [==============================] - 21s 215ms/step - loss: 0.8326 - acc: 0.6645 - val_loss: 0.9729 - val_acc: 0.6560\n",
      "Epoch 19/50\n",
      "100/100 [==============================] - 19s 188ms/step - loss: 0.8227 - acc: 0.6647 - val_loss: 0.9593 - val_acc: 0.6520\n",
      "Epoch 20/50\n",
      "100/100 [==============================] - 23s 229ms/step - loss: 0.8058 - acc: 0.6857 - val_loss: 0.9309 - val_acc: 0.6520\n",
      "Epoch 21/50\n",
      "100/100 [==============================] - 19s 192ms/step - loss: 0.8303 - acc: 0.6737 - val_loss: 0.8658 - val_acc: 0.6880\n",
      "Epoch 22/50\n",
      "100/100 [==============================] - 21s 208ms/step - loss: 0.8044 - acc: 0.6847 - val_loss: 0.9426 - val_acc: 0.6800\n",
      "Epoch 23/50\n",
      "100/100 [==============================] - 23s 229ms/step - loss: 0.7898 - acc: 0.6862 - val_loss: 0.9427 - val_acc: 0.6880\n",
      "Epoch 24/50\n",
      "100/100 [==============================] - 19s 194ms/step - loss: 0.7944 - acc: 0.6905 - val_loss: 0.8428 - val_acc: 0.6960\n",
      "Epoch 25/50\n",
      "100/100 [==============================] - 23s 227ms/step - loss: 0.7663 - acc: 0.6985 - val_loss: 0.8498 - val_acc: 0.7000\n",
      "Epoch 26/50\n",
      "100/100 [==============================] - 23s 231ms/step - loss: 0.7612 - acc: 0.7160 - val_loss: 0.9167 - val_acc: 0.6800\n",
      "Epoch 27/50\n",
      "100/100 [==============================] - 20s 200ms/step - loss: 0.7623 - acc: 0.6998 - val_loss: 0.8426 - val_acc: 0.7200\n",
      "Epoch 28/50\n",
      "100/100 [==============================] - 23s 228ms/step - loss: 0.7725 - acc: 0.6978 - val_loss: 0.8805 - val_acc: 0.7020\n",
      "Epoch 29/50\n",
      "100/100 [==============================] - 20s 201ms/step - loss: 0.7586 - acc: 0.7078 - val_loss: 0.8660 - val_acc: 0.6820\n",
      "Epoch 30/50\n",
      "100/100 [==============================] - 22s 216ms/step - loss: 0.7558 - acc: 0.7008 - val_loss: 0.8975 - val_acc: 0.6820\n",
      "Epoch 31/50\n",
      "100/100 [==============================] - 22s 223ms/step - loss: 0.7289 - acc: 0.7170 - val_loss: 0.8237 - val_acc: 0.7080\n",
      "Epoch 32/50\n",
      "100/100 [==============================] - 19s 193ms/step - loss: 0.7382 - acc: 0.7199 - val_loss: 0.8166 - val_acc: 0.7160\n",
      "Epoch 33/50\n",
      "100/100 [==============================] - 21s 209ms/step - loss: 0.7020 - acc: 0.7204 - val_loss: 0.8260 - val_acc: 0.7040\n",
      "Epoch 34/50\n",
      "100/100 [==============================] - 21s 211ms/step - loss: 0.7332 - acc: 0.7164 - val_loss: 0.8313 - val_acc: 0.6940\n",
      "Epoch 35/50\n",
      "100/100 [==============================] - 23s 227ms/step - loss: 0.7090 - acc: 0.7284 - val_loss: 0.8990 - val_acc: 0.6920\n",
      "Epoch 36/50\n",
      "100/100 [==============================] - 22s 222ms/step - loss: 0.7233 - acc: 0.7159 - val_loss: 0.8010 - val_acc: 0.7160\n",
      "Epoch 37/50\n",
      "100/100 [==============================] - 20s 195ms/step - loss: 0.7290 - acc: 0.7205 - val_loss: 0.8428 - val_acc: 0.6920\n",
      "Epoch 38/50\n",
      "100/100 [==============================] - 23s 233ms/step - loss: 0.7018 - acc: 0.7204 - val_loss: 0.8005 - val_acc: 0.7340\n",
      "Epoch 39/50\n",
      "100/100 [==============================] - 20s 200ms/step - loss: 0.6850 - acc: 0.7410 - val_loss: 0.8712 - val_acc: 0.7040\n",
      "Epoch 40/50\n",
      "100/100 [==============================] - 23s 230ms/step - loss: 0.6918 - acc: 0.7305 - val_loss: 0.8830 - val_acc: 0.7160\n",
      "Epoch 41/50\n",
      "100/100 [==============================] - 22s 223ms/step - loss: 0.6900 - acc: 0.7335 - val_loss: 0.9059 - val_acc: 0.6880\n",
      "Epoch 42/50\n",
      "100/100 [==============================] - 20s 197ms/step - loss: 0.6730 - acc: 0.7345 - val_loss: 0.9219 - val_acc: 0.6960\n",
      "Epoch 43/50\n",
      "100/100 [==============================] - 22s 218ms/step - loss: 0.6683 - acc: 0.7455 - val_loss: 0.9009 - val_acc: 0.7260\n",
      "Epoch 44/50\n",
      "100/100 [==============================] - 19s 192ms/step - loss: 0.6660 - acc: 0.7455 - val_loss: 0.8474 - val_acc: 0.7360\n",
      "Epoch 45/50\n",
      "100/100 [==============================] - 23s 227ms/step - loss: 0.6409 - acc: 0.7400 - val_loss: 0.8088 - val_acc: 0.7240\n",
      "Epoch 46/50\n",
      "100/100 [==============================] - 19s 190ms/step - loss: 0.6641 - acc: 0.7390 - val_loss: 0.7864 - val_acc: 0.7380\n",
      "Epoch 47/50\n",
      "100/100 [==============================] - 22s 219ms/step - loss: 0.6754 - acc: 0.7455 - val_loss: 0.7376 - val_acc: 0.7560\n",
      "Epoch 48/50\n",
      "100/100 [==============================] - 23s 226ms/step - loss: 0.6595 - acc: 0.7420 - val_loss: 0.8534 - val_acc: 0.7180\n",
      "Epoch 49/50\n",
      "100/100 [==============================] - 19s 194ms/step - loss: 0.6537 - acc: 0.7405 - val_loss: 0.7399 - val_acc: 0.7320\n",
      "Epoch 50/50\n",
      "100/100 [==============================] - 22s 223ms/step - loss: 0.6607 - acc: 0.7550 - val_loss: 0.7895 - val_acc: 0.7380\n"
     ]
    }
   ],
   "source": [
    "model = models.Sequential()\n",
    "model.add(layers.Conv2D(32, (3, 3), activation='relu',\n",
    "                        input_shape=(150, 150, 3)))\n",
    "model.add(layers.MaxPooling2D((2, 2)))\n",
    "model.add(layers.Conv2D(64, (3, 3), activation='relu'))\n",
    "model.add(layers.MaxPooling2D((2, 2)))\n",
    "model.add(layers.Conv2D(128, (3, 3), activation='relu'))\n",
    "model.add(layers.MaxPooling2D((2, 2)))\n",
    "model.add(layers.Conv2D(128, (3, 3), activation='relu'))\n",
    "model.add(layers.MaxPooling2D((2, 2)))\n",
    "model.add(layers.Flatten())\n",
    "model.add(layers.Dropout(0.25))\n",
    "model.add(layers.Dense(512, activation='relu'))\n",
    "model.add(layers.Dense(5, activation='softmax'))\n",
    "\n",
    "model.compile(loss='categorical_crossentropy',\n",
    "              optimizer=optimizers.RMSprop(lr=1e-4),\n",
    "              metrics=['acc'])\n",
    "\n",
    "val_datagen = ImageDataGenerator(rescale=1./255)\n",
    "test_datagen = ImageDataGenerator(rescale=1./255)\n",
    "\n",
    "validation_generator = val_datagen.flow_from_directory(\n",
    "        validation_dir,\n",
    "        target_size=(150, 150),\n",
    "        batch_size=20,\n",
    "        class_mode='categorical')                        \n",
    "\n",
    "test_generator = test_datagen.flow_from_directory(\n",
    "        test_dir,\n",
    "        target_size=(150, 150),\n",
    "        class_mode='categorical',\n",
    "        batch_size=1,\n",
    "        shuffle=False)\n",
    "\n",
    "history = model.fit_generator(\n",
    "      train_generator,\n",
    "      steps_per_epoch=STEPS_PER_EPOCH,\n",
    "      epochs=EPOCHS,\n",
    "      validation_data=validation_generator,\n",
    "      validation_steps=25)"
   ]
  },
  {
   "cell_type": "code",
   "execution_count": 23,
   "metadata": {
    "execution": {
     "iopub.execute_input": "2020-11-16T12:46:26.539292Z",
     "iopub.status.busy": "2020-11-16T12:46:26.538305Z",
     "iopub.status.idle": "2020-11-16T12:46:26.613613Z",
     "shell.execute_reply": "2020-11-16T12:46:26.613030Z"
    },
    "papermill": {
     "duration": 4.496404,
     "end_time": "2020-11-16T12:46:26.613723",
     "exception": false,
     "start_time": "2020-11-16T12:46:22.117319",
     "status": "completed"
    },
    "tags": []
   },
   "outputs": [],
   "source": [
    "model.save('flowers_augment.h5')"
   ]
  },
  {
   "cell_type": "markdown",
   "metadata": {
    "papermill": {
     "duration": 3.982784,
     "end_time": "2020-11-16T12:46:34.558943",
     "exception": false,
     "start_time": "2020-11-16T12:46:30.576159",
     "status": "completed"
    },
    "tags": []
   },
   "source": [
    "### Analyzing the fitting performance over epochs"
   ]
  },
  {
   "cell_type": "markdown",
   "metadata": {
    "papermill": {
     "duration": 3.965296,
     "end_time": "2020-11-16T12:46:42.691976",
     "exception": false,
     "start_time": "2020-11-16T12:46:38.726680",
     "status": "completed"
    },
    "tags": []
   },
   "source": [
    "Show the training accuracy along with the epochs"
   ]
  },
  {
   "cell_type": "code",
   "execution_count": 24,
   "metadata": {
    "execution": {
     "iopub.execute_input": "2020-11-16T12:46:51.440815Z",
     "iopub.status.busy": "2020-11-16T12:46:51.439165Z",
     "iopub.status.idle": "2020-11-16T12:46:51.827693Z",
     "shell.execute_reply": "2020-11-16T12:46:51.828363Z"
    },
    "papermill": {
     "duration": 4.834871,
     "end_time": "2020-11-16T12:46:51.828525",
     "exception": false,
     "start_time": "2020-11-16T12:46:46.993654",
     "status": "completed"
    },
    "tags": []
   },
   "outputs": [
    {
     "data": {
      "image/png": "[encoded data removed]",
      "text/plain": [
       "<Figure size 432x288 with 1 Axes>"
      ]
     },
     "metadata": {
      "needs_background": "light"
     },
     "output_type": "display_data"
    }
   ],
   "source": [
    "acc = history.history['acc']\n",
    "val_acc = history.history['val_acc']\n",
    "loss = history.history['loss']\n",
    "val_loss = history.history['val_loss']\n",
    "\n",
    "epochs = range(len(acc))\n",
    "\n",
    "plt.plot(epochs, acc, 'bo', label='Training acc')\n",
    "plt.plot(epochs, val_acc, 'b', label='Validation acc')\n",
    "plt.title('Training and validation accuracy')\n",
    "plt.legend()\n",
    "\n",
    "plt.show()"
   ]
  },
  {
   "cell_type": "markdown",
   "metadata": {
    "papermill": {
     "duration": 4.251018,
     "end_time": "2020-11-16T12:47:00.024839",
     "exception": false,
     "start_time": "2020-11-16T12:46:55.773821",
     "status": "completed"
    },
    "tags": []
   },
   "source": [
    "### Predicting the test set"
   ]
  },
  {
   "cell_type": "markdown",
   "metadata": {
    "papermill": {
     "duration": 4.012152,
     "end_time": "2020-11-16T12:47:08.024621",
     "exception": false,
     "start_time": "2020-11-16T12:47:04.012469",
     "status": "completed"
    },
    "tags": []
   },
   "source": [
    "Finally, run a model evaluation and store the loss and accuracy in the `test_loss_2` and `test_acc_2` variables."
   ]
  },
  {
   "cell_type": "code",
   "execution_count": 25,
   "metadata": {
    "execution": {
     "iopub.execute_input": "2020-11-16T12:47:16.606863Z",
     "iopub.status.busy": "2020-11-16T12:47:16.606040Z",
     "iopub.status.idle": "2020-11-16T12:47:21.959047Z",
     "shell.execute_reply": "2020-11-16T12:47:21.959982Z"
    },
    "papermill": {
     "duration": 9.716377,
     "end_time": "2020-11-16T12:47:21.960214",
     "exception": false,
     "start_time": "2020-11-16T12:47:12.243837",
     "status": "completed"
    },
    "tags": []
   },
   "outputs": [
    {
     "name": "stdout",
     "output_type": "stream",
     "text": [
      "865/865 [==============================] - 5s 6ms/step - loss: 0.6928 - acc: 0.7410\n"
     ]
    }
   ],
   "source": [
    "evaluation2 = model.evaluate(test_generator)\n",
    "test_loss_2 = evaluation2[0]\n",
    "test_acc_2 = evaluation2[1]"
   ]
  },
  {
   "cell_type": "markdown",
   "metadata": {
    "papermill": {
     "duration": 3.958591,
     "end_time": "2020-11-16T12:47:30.005658",
     "exception": false,
     "start_time": "2020-11-16T12:47:26.047067",
     "status": "completed"
    },
    "tags": []
   },
   "source": [
    "## Using a Pretrained Convolutional Base"
   ]
  },
  {
   "cell_type": "markdown",
   "metadata": {
    "papermill": {
     "duration": 3.992067,
     "end_time": "2020-11-16T12:47:38.210071",
     "exception": false,
     "start_time": "2020-11-16T12:47:34.218004",
     "status": "completed"
    },
    "tags": []
   },
   "source": [
    "### Architecture"
   ]
  },
  {
   "cell_type": "markdown",
   "metadata": {
    "papermill": {
     "duration": 3.932637,
     "end_time": "2020-11-16T12:47:46.347375",
     "exception": false,
     "start_time": "2020-11-16T12:47:42.414738",
     "status": "completed"
    },
    "tags": []
   },
   "source": [
    "Some research teams have trained convolutional neural networks on much larger datasets. We have seen during the lecture that the networks can model conceptual patterns as they go through the layers. This was identified by Le Cun in his first experiments [http://yann.lecun.com/exdb/lenet/](http://yann.lecun.com/exdb/lenet/). In this last part, you will train classifiers on top of a pretrained convolutional base.\n",
    "1. Train your network and report the training and validation losses and accuracies.\n",
    "2. Apply your network to the test set and report the accuracy as well as the confusion matrix you obtained."
   ]
  },
  {
   "cell_type": "code",
   "execution_count": 26,
   "metadata": {
    "execution": {
     "iopub.execute_input": "2020-11-16T12:47:55.130558Z",
     "iopub.status.busy": "2020-11-16T12:47:55.129482Z",
     "iopub.status.idle": "2020-11-16T12:47:55.131481Z",
     "shell.execute_reply": "2020-11-16T12:47:55.131995Z"
    },
    "papermill": {
     "duration": 4.790343,
     "end_time": "2020-11-16T12:47:55.132129",
     "exception": false,
     "start_time": "2020-11-16T12:47:50.341786",
     "status": "completed"
    },
    "tags": []
   },
   "outputs": [],
   "source": [
    "from keras.applications import VGG16, InceptionV3"
   ]
  },
  {
   "cell_type": "code",
   "execution_count": 27,
   "metadata": {
    "execution": {
     "iopub.execute_input": "2020-11-16T12:48:03.058472Z",
     "iopub.status.busy": "2020-11-16T12:48:03.054986Z",
     "iopub.status.idle": "2020-11-16T12:48:10.376340Z",
     "shell.execute_reply": "2020-11-16T12:48:10.375562Z"
    },
    "papermill": {
     "duration": 11.246326,
     "end_time": "2020-11-16T12:48:10.376467",
     "exception": false,
     "start_time": "2020-11-16T12:47:59.130141",
     "status": "completed"
    },
    "tags": []
   },
   "outputs": [
    {
     "name": "stdout",
     "output_type": "stream",
     "text": [
      "Downloading data from https://storage.googleapis.com/tensorflow/keras-applications/inception_v3/inception_v3_weights_tf_dim_ordering_tf_kernels_notop.h5\n",
      "87916544/87910968 [==============================] - 3s 0us/step\n"
     ]
    }
   ],
   "source": [
    "if PRETRAINED == 'VGG':\n",
    "    conv_base = VGG16(weights='imagenet',\n",
    "                  include_top=False,\n",
    "                  input_shape=(150, 150, 3))\n",
    "else:\n",
    "    conv_base = InceptionV3(weights='imagenet',\n",
    "                        include_top=False,\n",
    "                        input_shape=(150, 150, 3))\n",
    "#conv_base.summary()"
   ]
  },
  {
   "cell_type": "markdown",
   "metadata": {
    "papermill": {
     "duration": 4.646178,
     "end_time": "2020-11-16T12:48:19.092497",
     "exception": false,
     "start_time": "2020-11-16T12:48:14.446319",
     "status": "completed"
    },
    "tags": []
   },
   "source": [
    "As in Chollet, Listing 5.17 (in Chollet's notebook 5.3), you will program an `extract_features()` function."
   ]
  },
  {
   "cell_type": "code",
   "execution_count": 28,
   "metadata": {
    "execution": {
     "iopub.execute_input": "2020-11-16T12:48:28.427533Z",
     "iopub.status.busy": "2020-11-16T12:48:28.425857Z",
     "iopub.status.idle": "2020-11-16T12:48:28.428364Z",
     "shell.execute_reply": "2020-11-16T12:48:28.428878Z"
    },
    "papermill": {
     "duration": 4.989281,
     "end_time": "2020-11-16T12:48:28.429033",
     "exception": false,
     "start_time": "2020-11-16T12:48:23.439752",
     "status": "completed"
    },
    "tags": []
   },
   "outputs": [],
   "source": [
    "BATCH_SIZE_TRAIN=20\n",
    "BATCH_SIZE_VAL=20\n",
    "BATCH_SIZE_TEST=1"
   ]
  },
  {
   "cell_type": "code",
   "execution_count": 29,
   "metadata": {
    "execution": {
     "iopub.execute_input": "2020-11-16T12:48:36.727870Z",
     "iopub.status.busy": "2020-11-16T12:48:36.727149Z",
     "iopub.status.idle": "2020-11-16T12:48:36.732143Z",
     "shell.execute_reply": "2020-11-16T12:48:36.733292Z"
    },
    "papermill": {
     "duration": 4.209557,
     "end_time": "2020-11-16T12:48:36.733464",
     "exception": false,
     "start_time": "2020-11-16T12:48:32.523907",
     "status": "completed"
    },
    "tags": []
   },
   "outputs": [],
   "source": [
    "datagen = ImageDataGenerator(rescale=1./255)\n",
    "\n",
    "def extract_features(directory, batch_size, sample_count, shuffle=True):\n",
    "    if PRETRAINED == 'VGG': features = np.zeros(shape=(sample_count, 4, 4, 512))\n",
    "    else: features = np.zeros(shape=(sample_count, 3, 3, 2048))\n",
    "    labels = np.zeros(shape=(sample_count, 5))\n",
    "    generator = datagen.flow_from_directory(\n",
    "        directory,\n",
    "        target_size=(150, 150),\n",
    "        batch_size=batch_size,\n",
    "        class_mode='categorical',\n",
    "        shuffle=shuffle)\n",
    "    i = 0\n",
    "    for inputs_batch, labels_batch in generator:\n",
    "        features_batch = conv_base.predict(inputs_batch)\n",
    "        features[i * batch_size : (i + 1) * batch_size] = features_batch\n",
    "        labels[i * batch_size : (i + 1) * batch_size] = labels_batch\n",
    "        i += 1\n",
    "        if i * batch_size >= sample_count:\n",
    "            # Note that since generators yield data indefinitely in a loop,\n",
    "            # we must `break` after every image has been seen once.\n",
    "            break\n",
    "    return features, labels"
   ]
  },
  {
   "cell_type": "markdown",
   "metadata": {
    "papermill": {
     "duration": 4.034153,
     "end_time": "2020-11-16T12:48:44.815827",
     "exception": false,
     "start_time": "2020-11-16T12:48:40.781674",
     "status": "completed"
    },
    "tags": []
   },
   "source": [
    "The features and labels"
   ]
  },
  {
   "cell_type": "code",
   "execution_count": 30,
   "metadata": {
    "execution": {
     "iopub.execute_input": "2020-11-16T12:48:53.055226Z",
     "iopub.status.busy": "2020-11-16T12:48:53.054328Z",
     "iopub.status.idle": "2020-11-16T12:48:53.065229Z",
     "shell.execute_reply": "2020-11-16T12:48:53.064593Z"
    },
    "papermill": {
     "duration": 4.044573,
     "end_time": "2020-11-16T12:48:53.065342",
     "exception": false,
     "start_time": "2020-11-16T12:48:49.020769",
     "status": "completed"
    },
    "tags": []
   },
   "outputs": [],
   "source": [
    "num_train = sum([image for image in [len(os.listdir(train_dir + \"/\" + cat)) for cat in os.listdir(train_dir)]])\n",
    "num_val = sum([image for image in [len(os.listdir(validation_dir + \"/\" + cat)) for cat in os.listdir(validation_dir)]])\n",
    "num_test = sum([image for image in [len(os.listdir(test_dir + \"/\" + cat)) for cat in os.listdir(test_dir)]])"
   ]
  },
  {
   "cell_type": "code",
   "execution_count": 31,
   "metadata": {
    "execution": {
     "iopub.execute_input": "2020-11-16T12:49:01.807510Z",
     "iopub.status.busy": "2020-11-16T12:49:01.806633Z",
     "iopub.status.idle": "2020-11-16T12:50:10.716873Z",
     "shell.execute_reply": "2020-11-16T12:50:10.715656Z"
    },
    "papermill": {
     "duration": 73.661733,
     "end_time": "2020-11-16T12:50:10.717052",
     "exception": false,
     "start_time": "2020-11-16T12:48:57.055319",
     "status": "completed"
    },
    "tags": []
   },
   "outputs": [
    {
     "name": "stdout",
     "output_type": "stream",
     "text": [
      "Found 2592 images belonging to 5 classes.\n",
      "Found 866 images belonging to 5 classes.\n",
      "Found 865 images belonging to 5 classes.\n"
     ]
    }
   ],
   "source": [
    "train_features, train_labels = extract_features(train_dir, BATCH_SIZE_TRAIN, num_train-14)\n",
    "validation_features, validation_labels = extract_features(validation_dir, BATCH_SIZE_VAL, num_val-6)\n",
    "test_features, test_labels = extract_features(test_dir, BATCH_SIZE_TEST, num_test-5)"
   ]
  },
  {
   "cell_type": "code",
   "execution_count": 32,
   "metadata": {
    "execution": {
     "iopub.execute_input": "2020-11-16T12:50:19.566491Z",
     "iopub.status.busy": "2020-11-16T12:50:19.564478Z",
     "iopub.status.idle": "2020-11-16T12:50:19.567298Z",
     "shell.execute_reply": "2020-11-16T12:50:19.567845Z"
    },
    "papermill": {
     "duration": 4.824723,
     "end_time": "2020-11-16T12:50:19.568004",
     "exception": false,
     "start_time": "2020-11-16T12:50:14.743281",
     "status": "completed"
    },
    "tags": []
   },
   "outputs": [],
   "source": [
    "train_features = np.reshape(train_features, (train_features.shape[0], np.prod(train_features.shape[1:])))  # (2593, 4 * 4 * 512))\n",
    "validation_features = np.reshape(validation_features, (validation_features.shape[0], np.prod(validation_features.shape[1:]))) # (865, 4 * 4 * 512)\n",
    "test_features = np.reshape(test_features, (test_features.shape[0], np.prod(test_features.shape[1:]))) # (865, 4 * 4 * 512))"
   ]
  },
  {
   "cell_type": "markdown",
   "metadata": {
    "papermill": {
     "duration": 4.300323,
     "end_time": "2020-11-16T12:50:28.194909",
     "exception": false,
     "start_time": "2020-11-16T12:50:23.894586",
     "status": "completed"
    },
    "tags": []
   },
   "source": [
    "Build a network that consists of the Inception V3 convolutional base and two dense layers."
   ]
  },
  {
   "cell_type": "code",
   "execution_count": 33,
   "metadata": {
    "execution": {
     "iopub.execute_input": "2020-11-16T12:50:36.222561Z",
     "iopub.status.busy": "2020-11-16T12:50:36.221608Z",
     "iopub.status.idle": "2020-11-16T12:50:36.230618Z",
     "shell.execute_reply": "2020-11-16T12:50:36.229878Z"
    },
    "papermill": {
     "duration": 4.002176,
     "end_time": "2020-11-16T12:50:36.230729",
     "exception": false,
     "start_time": "2020-11-16T12:50:32.228553",
     "status": "completed"
    },
    "tags": []
   },
   "outputs": [],
   "source": [
    "#conv_base.trainable = False\n",
    "model = models.Sequential()\n",
    "#model.add(conv_base)\n",
    "model.add(layers.Flatten())\n",
    "model.add(layers.Dense(256, activation='relu'))\n",
    "model.add(layers.Dense(5, activation='softmax'))"
   ]
  },
  {
   "cell_type": "markdown",
   "metadata": {
    "papermill": {
     "duration": 4.020525,
     "end_time": "2020-11-16T12:50:44.993894",
     "exception": false,
     "start_time": "2020-11-16T12:50:40.973369",
     "status": "completed"
    },
    "tags": []
   },
   "source": [
    "Fit your network"
   ]
  },
  {
   "cell_type": "code",
   "execution_count": 34,
   "metadata": {
    "execution": {
     "iopub.execute_input": "2020-11-16T12:50:53.182759Z",
     "iopub.status.busy": "2020-11-16T12:50:53.181363Z",
     "iopub.status.idle": "2020-11-16T12:50:53.185566Z",
     "shell.execute_reply": "2020-11-16T12:50:53.186129Z"
    },
    "papermill": {
     "duration": 3.955629,
     "end_time": "2020-11-16T12:50:53.186272",
     "exception": false,
     "start_time": "2020-11-16T12:50:49.230643",
     "status": "completed"
    },
    "tags": []
   },
   "outputs": [
    {
     "data": {
      "text/plain": [
       "numpy.ndarray"
      ]
     },
     "execution_count": 34,
     "metadata": {},
     "output_type": "execute_result"
    }
   ],
   "source": [
    "type(validation_labels)"
   ]
  },
  {
   "cell_type": "code",
   "execution_count": 35,
   "metadata": {
    "execution": {
     "iopub.execute_input": "2020-11-16T12:51:01.502456Z",
     "iopub.status.busy": "2020-11-16T12:51:01.501409Z",
     "iopub.status.idle": "2020-11-16T12:51:19.917469Z",
     "shell.execute_reply": "2020-11-16T12:51:19.916446Z"
    },
    "papermill": {
     "duration": 22.717973,
     "end_time": "2020-11-16T12:51:19.917590",
     "exception": false,
     "start_time": "2020-11-16T12:50:57.199617",
     "status": "completed"
    },
    "tags": []
   },
   "outputs": [
    {
     "name": "stdout",
     "output_type": "stream",
     "text": [
      "Epoch 1/30\n",
      "129/129 [==============================] - 1s 6ms/step - loss: 0.9494 - acc: 0.6477 - val_loss: 0.6871 - val_acc: 0.7605\n",
      "Epoch 2/30\n",
      "129/129 [==============================] - 1s 4ms/step - loss: 0.4666 - acc: 0.8442 - val_loss: 0.6668 - val_acc: 0.7570\n",
      "Epoch 3/30\n",
      "129/129 [==============================] - 1s 4ms/step - loss: 0.2873 - acc: 0.9027 - val_loss: 0.5694 - val_acc: 0.8105\n",
      "Epoch 4/30\n",
      "129/129 [==============================] - 1s 4ms/step - loss: 0.1843 - acc: 0.9504 - val_loss: 0.5865 - val_acc: 0.7965\n",
      "Epoch 5/30\n",
      "129/129 [==============================] - 1s 4ms/step - loss: 0.1246 - acc: 0.9713 - val_loss: 0.5604 - val_acc: 0.8023\n",
      "Epoch 6/30\n",
      "129/129 [==============================] - 1s 4ms/step - loss: 0.0853 - acc: 0.9849 - val_loss: 0.5484 - val_acc: 0.8221\n",
      "Epoch 7/30\n",
      "129/129 [==============================] - 1s 4ms/step - loss: 0.0570 - acc: 0.9919 - val_loss: 0.6348 - val_acc: 0.8093\n",
      "Epoch 8/30\n",
      "129/129 [==============================] - 1s 4ms/step - loss: 0.0393 - acc: 0.9969 - val_loss: 0.6076 - val_acc: 0.8140\n",
      "Epoch 9/30\n",
      "129/129 [==============================] - 1s 4ms/step - loss: 0.0280 - acc: 0.9973 - val_loss: 0.5981 - val_acc: 0.8198\n",
      "Epoch 10/30\n",
      "129/129 [==============================] - 1s 4ms/step - loss: 0.0185 - acc: 0.9996 - val_loss: 0.6391 - val_acc: 0.8105\n",
      "Epoch 11/30\n",
      "129/129 [==============================] - 1s 4ms/step - loss: 0.0146 - acc: 0.9988 - val_loss: 0.6830 - val_acc: 0.8174\n",
      "Epoch 12/30\n",
      "129/129 [==============================] - 1s 5ms/step - loss: 0.0104 - acc: 0.9992 - val_loss: 0.6911 - val_acc: 0.8058\n",
      "Epoch 13/30\n",
      "129/129 [==============================] - 1s 7ms/step - loss: 0.0089 - acc: 0.9992 - val_loss: 0.6860 - val_acc: 0.8105\n",
      "Epoch 14/30\n",
      "129/129 [==============================] - 1s 5ms/step - loss: 0.0061 - acc: 0.9992 - val_loss: 0.7121 - val_acc: 0.8081\n",
      "Epoch 15/30\n",
      "129/129 [==============================] - 1s 5ms/step - loss: 0.0059 - acc: 0.9992 - val_loss: 0.7326 - val_acc: 0.8163\n",
      "Epoch 16/30\n",
      "129/129 [==============================] - 1s 4ms/step - loss: 0.0044 - acc: 0.9992 - val_loss: 0.7490 - val_acc: 0.8128\n",
      "Epoch 17/30\n",
      "129/129 [==============================] - 1s 4ms/step - loss: 0.0044 - acc: 0.9992 - val_loss: 0.7839 - val_acc: 0.8151\n",
      "Epoch 18/30\n",
      "129/129 [==============================] - 1s 4ms/step - loss: 0.0036 - acc: 0.9992 - val_loss: 0.7868 - val_acc: 0.8174\n",
      "Epoch 19/30\n",
      "129/129 [==============================] - 1s 4ms/step - loss: 0.0037 - acc: 0.9992 - val_loss: 0.8102 - val_acc: 0.8174\n",
      "Epoch 20/30\n",
      "129/129 [==============================] - 1s 4ms/step - loss: 0.0036 - acc: 0.9996 - val_loss: 0.8648 - val_acc: 0.8116\n",
      "Epoch 21/30\n",
      "129/129 [==============================] - 1s 4ms/step - loss: 0.0031 - acc: 0.9996 - val_loss: 0.8749 - val_acc: 0.8186\n",
      "Epoch 22/30\n",
      "129/129 [==============================] - 1s 4ms/step - loss: 0.0032 - acc: 0.9996 - val_loss: 0.8953 - val_acc: 0.8174\n",
      "Epoch 23/30\n",
      "129/129 [==============================] - 1s 6ms/step - loss: 0.0037 - acc: 0.9992 - val_loss: 0.9371 - val_acc: 0.8163\n",
      "Epoch 24/30\n",
      "129/129 [==============================] - 1s 6ms/step - loss: 0.0035 - acc: 0.9992 - val_loss: 0.9733 - val_acc: 0.8174\n",
      "Epoch 25/30\n",
      "129/129 [==============================] - 1s 5ms/step - loss: 0.0024 - acc: 0.9996 - val_loss: 0.9732 - val_acc: 0.8198\n",
      "Epoch 26/30\n",
      "129/129 [==============================] - 1s 4ms/step - loss: 0.0032 - acc: 0.9996 - val_loss: 0.9892 - val_acc: 0.8198\n",
      "Epoch 27/30\n",
      "129/129 [==============================] - 1s 4ms/step - loss: 0.0026 - acc: 0.9992 - val_loss: 1.0695 - val_acc: 0.8151\n",
      "Epoch 28/30\n",
      "129/129 [==============================] - 1s 4ms/step - loss: 0.0033 - acc: 0.9992 - val_loss: 1.0687 - val_acc: 0.8140\n",
      "Epoch 29/30\n",
      "129/129 [==============================] - 1s 4ms/step - loss: 0.0035 - acc: 0.9992 - val_loss: 1.1031 - val_acc: 0.8128\n",
      "Epoch 30/30\n",
      "129/129 [==============================] - 1s 4ms/step - loss: 0.0038 - acc: 0.9992 - val_loss: 1.1325 - val_acc: 0.8093\n"
     ]
    }
   ],
   "source": [
    "model.compile(loss='categorical_crossentropy',\n",
    "              optimizer=optimizers.RMSprop(lr=2e-5),\n",
    "              metrics=['acc'])\n",
    "\n",
    "history = model.fit(train_features, train_labels,\n",
    "                    epochs=30,\n",
    "                    batch_size=20,\n",
    "                    validation_data=(validation_features, validation_labels))"
   ]
  },
  {
   "cell_type": "code",
   "execution_count": 36,
   "metadata": {
    "execution": {
     "iopub.execute_input": "2020-11-16T12:51:28.739441Z",
     "iopub.status.busy": "2020-11-16T12:51:28.738447Z",
     "iopub.status.idle": "2020-11-16T12:51:28.801210Z",
     "shell.execute_reply": "2020-11-16T12:51:28.800597Z"
    },
    "papermill": {
     "duration": 4.310309,
     "end_time": "2020-11-16T12:51:28.801336",
     "exception": false,
     "start_time": "2020-11-16T12:51:24.491027",
     "status": "completed"
    },
    "tags": []
   },
   "outputs": [],
   "source": [
    "model.save(f'flowers_with_{PRETRAINED}.h5')"
   ]
  },
  {
   "cell_type": "markdown",
   "metadata": {
    "papermill": {
     "duration": 4.093195,
     "end_time": "2020-11-16T12:51:37.246412",
     "exception": false,
     "start_time": "2020-11-16T12:51:33.153217",
     "status": "completed"
    },
    "tags": []
   },
   "source": [
    "### Analyzing the fitting performance over epochs"
   ]
  },
  {
   "cell_type": "markdown",
   "metadata": {
    "papermill": {
     "duration": 4.459384,
     "end_time": "2020-11-16T12:51:46.227411",
     "exception": false,
     "start_time": "2020-11-16T12:51:41.768027",
     "status": "completed"
    },
    "tags": []
   },
   "source": [
    "Show the training accuracy along with the epochs"
   ]
  },
  {
   "cell_type": "code",
   "execution_count": 37,
   "metadata": {
    "execution": {
     "iopub.execute_input": "2020-11-16T12:51:54.593877Z",
     "iopub.status.busy": "2020-11-16T12:51:54.592978Z",
     "iopub.status.idle": "2020-11-16T12:51:54.869772Z",
     "shell.execute_reply": "2020-11-16T12:51:54.870892Z"
    },
    "papermill": {
     "duration": 4.457503,
     "end_time": "2020-11-16T12:51:54.871146",
     "exception": false,
     "start_time": "2020-11-16T12:51:50.413643",
     "status": "completed"
    },
    "tags": []
   },
   "outputs": [
    {
     "data": {
      "image/png": "[encoded data removed]",
      "text/plain": [
       "<Figure size 432x288 with 1 Axes>"
      ]
     },
     "metadata": {
      "needs_background": "light"
     },
     "output_type": "display_data"
    }
   ],
   "source": [
    "acc = history.history['acc']\n",
    "val_acc = history.history['val_acc']\n",
    "loss = history.history['loss']\n",
    "val_loss = history.history['val_loss']\n",
    "\n",
    "epochs = range(len(acc))\n",
    "\n",
    "plt.plot(epochs, acc, 'bo', label='Training acc')\n",
    "plt.plot(epochs, val_acc, 'b', label='Validation acc')\n",
    "plt.title('Training and validation accuracy')\n",
    "plt.legend()\n",
    "\n",
    "plt.show()"
   ]
  },
  {
   "cell_type": "markdown",
   "metadata": {
    "papermill": {
     "duration": 4.149893,
     "end_time": "2020-11-16T12:52:03.294611",
     "exception": false,
     "start_time": "2020-11-16T12:51:59.144718",
     "status": "completed"
    },
    "tags": []
   },
   "source": [
    "### Predicting the test set"
   ]
  },
  {
   "cell_type": "markdown",
   "metadata": {
    "papermill": {
     "duration": 4.129595,
     "end_time": "2020-11-16T12:52:11.755289",
     "exception": false,
     "start_time": "2020-11-16T12:52:07.625694",
     "status": "completed"
    },
    "tags": []
   },
   "source": [
    "Apply now your network to the test set"
   ]
  },
  {
   "cell_type": "code",
   "execution_count": 38,
   "metadata": {
    "execution": {
     "iopub.execute_input": "2020-11-16T12:52:21.446618Z",
     "iopub.status.busy": "2020-11-16T12:52:21.445407Z",
     "iopub.status.idle": "2020-11-16T12:52:21.657682Z",
     "shell.execute_reply": "2020-11-16T12:52:21.656672Z"
    },
    "papermill": {
     "duration": 4.864235,
     "end_time": "2020-11-16T12:52:21.657810",
     "exception": false,
     "start_time": "2020-11-16T12:52:16.793575",
     "status": "completed"
    },
    "tags": []
   },
   "outputs": [],
   "source": [
    "predict = model.predict(test_features)\n",
    "y_pred = np.argmax(predict,axis=-1)\n",
    "y_true = [np.argmax(x) for x in test_labels]"
   ]
  },
  {
   "cell_type": "code",
   "execution_count": 39,
   "metadata": {
    "execution": {
     "iopub.execute_input": "2020-11-16T12:52:30.453237Z",
     "iopub.status.busy": "2020-11-16T12:52:30.452026Z",
     "iopub.status.idle": "2020-11-16T12:52:30.456358Z",
     "shell.execute_reply": "2020-11-16T12:52:30.455477Z"
    },
    "papermill": {
     "duration": 4.487092,
     "end_time": "2020-11-16T12:52:30.456485",
     "exception": false,
     "start_time": "2020-11-16T12:52:25.969393",
     "status": "completed"
    },
    "tags": []
   },
   "outputs": [
    {
     "name": "stdout",
     "output_type": "stream",
     "text": [
      "[4 1 1 0 0 4 1 4 2 1 3 4 3 1 2]\n",
      "[2, 1, 1, 3, 2, 1, 1, 4, 2, 1, 3, 4, 1, 1, 3]\n"
     ]
    }
   ],
   "source": [
    "print(y_pred[:15])\n",
    "print(y_true[:15])"
   ]
  },
  {
   "cell_type": "markdown",
   "metadata": {
    "papermill": {
     "duration": 4.357467,
     "end_time": "2020-11-16T12:52:38.955948",
     "exception": false,
     "start_time": "2020-11-16T12:52:34.598481",
     "status": "completed"
    },
    "tags": []
   },
   "source": [
    "Report the accuracy as well as the classification report. Use sklearn functions"
   ]
  },
  {
   "cell_type": "code",
   "execution_count": 40,
   "metadata": {
    "execution": {
     "iopub.execute_input": "2020-11-16T12:52:47.633638Z",
     "iopub.status.busy": "2020-11-16T12:52:47.632722Z",
     "iopub.status.idle": "2020-11-16T12:52:47.643158Z",
     "shell.execute_reply": "2020-11-16T12:52:47.644532Z"
    },
    "papermill": {
     "duration": 4.598781,
     "end_time": "2020-11-16T12:52:47.644870",
     "exception": false,
     "start_time": "2020-11-16T12:52:43.046089",
     "status": "completed"
    },
    "tags": []
   },
   "outputs": [
    {
     "name": "stdout",
     "output_type": "stream",
     "text": [
      "Classification report:\n",
      "              precision    recall  f1-score   support\n",
      "\n",
      "           0       0.86      0.88      0.87       174\n",
      "           1       0.90      0.83      0.86       215\n",
      "           2       0.76      0.76      0.76       150\n",
      "           3       0.77      0.80      0.79       133\n",
      "           4       0.79      0.83      0.81       189\n",
      "\n",
      "    accuracy                           0.82       861\n",
      "   macro avg       0.82      0.82      0.82       861\n",
      "weighted avg       0.82      0.82      0.82       861\n",
      "\n"
     ]
    }
   ],
   "source": [
    "print(\"Classification report:\\n%s\"\n",
    "      % (classification_report(y_true, y_pred)))"
   ]
  },
  {
   "cell_type": "markdown",
   "metadata": {
    "papermill": {
     "duration": 4.187258,
     "end_time": "2020-11-16T12:52:56.182762",
     "exception": false,
     "start_time": "2020-11-16T12:52:51.995504",
     "status": "completed"
    },
    "tags": []
   },
   "source": [
    "Print the confusion matrix"
   ]
  },
  {
   "cell_type": "code",
   "execution_count": 41,
   "metadata": {
    "execution": {
     "iopub.execute_input": "2020-11-16T12:53:04.611698Z",
     "iopub.status.busy": "2020-11-16T12:53:04.610719Z",
     "iopub.status.idle": "2020-11-16T12:53:04.621521Z",
     "shell.execute_reply": "2020-11-16T12:53:04.620755Z"
    },
    "papermill": {
     "duration": 4.385143,
     "end_time": "2020-11-16T12:53:04.621687",
     "exception": false,
     "start_time": "2020-11-16T12:53:00.236544",
     "status": "completed"
    },
    "tags": []
   },
   "outputs": [
    {
     "name": "stdout",
     "output_type": "stream",
     "text": [
      "Confusion matrix: \n",
      " [[153   8   1   5   7]\n",
      " [ 13 178   6  13   5]\n",
      " [  3   2 114  10  21]\n",
      " [  5   6   7 107   8]\n",
      " [  3   4  22   4 156]]\n"
     ]
    }
   ],
   "source": [
    "print('Confusion matrix: \\n %s' % (confusion_matrix(y_true, y_pred)))"
   ]
  },
  {
   "cell_type": "markdown",
   "metadata": {
    "papermill": {
     "duration": 4.3466,
     "end_time": "2020-11-16T12:53:13.078322",
     "exception": false,
     "start_time": "2020-11-16T12:53:08.731722",
     "status": "completed"
    },
    "tags": []
   },
   "source": [
    "Finally, run a model evaluation and store the loss and accuracy in the `test_loss_3` and `test_acc_3` variables. As with fitting, you may need to adjust the number of steps so that your network tests all the samples."
   ]
  },
  {
   "cell_type": "code",
   "execution_count": 42,
   "metadata": {
    "execution": {
     "iopub.execute_input": "2020-11-16T12:53:23.124200Z",
     "iopub.status.busy": "2020-11-16T12:53:23.117242Z",
     "iopub.status.idle": "2020-11-16T12:53:23.445834Z",
     "shell.execute_reply": "2020-11-16T12:53:23.447177Z"
    },
    "papermill": {
     "duration": 5.826948,
     "end_time": "2020-11-16T12:53:23.447420",
     "exception": false,
     "start_time": "2020-11-16T12:53:17.620472",
     "status": "completed"
    },
    "tags": []
   },
   "outputs": [
    {
     "name": "stdout",
     "output_type": "stream",
     "text": [
      "25/25 [==============================] - 0s 3ms/step - loss: 1.5653 - acc: 0.7600\n"
     ]
    }
   ],
   "source": [
    "evaluation3 = model.evaluate(test_features, test_labels, batch_size=1, steps=25)\n",
    "test_loss_3 = evaluation3[0]\n",
    "test_acc_3 = evaluation3[1]"
   ]
  },
  {
   "cell_type": "markdown",
   "metadata": {
    "papermill": {
     "duration": 4.229408,
     "end_time": "2020-11-16T12:53:31.906833",
     "exception": false,
     "start_time": "2020-11-16T12:53:27.677425",
     "status": "completed"
    },
    "tags": []
   },
   "source": [
    "## Using a Pretrained Convolutional Base with Image Augmentation"
   ]
  },
  {
   "cell_type": "markdown",
   "metadata": {
    "papermill": {
     "duration": 4.255579,
     "end_time": "2020-11-16T12:53:40.609717",
     "exception": false,
     "start_time": "2020-11-16T12:53:36.354138",
     "status": "completed"
    },
    "tags": []
   },
   "source": [
    "### Architecture"
   ]
  },
  {
   "cell_type": "markdown",
   "metadata": {
    "papermill": {
     "duration": 4.147563,
     "end_time": "2020-11-16T12:53:49.027655",
     "exception": false,
     "start_time": "2020-11-16T12:53:44.880092",
     "status": "completed"
    },
    "tags": []
   },
   "source": [
    "1. Modify your program to include an image transformer. Train a new model. As a hint, you can make the whole convolutional base trainable and use the stochastic gradient descent as optimizer.\n",
    "2. Apply your network to the test set and report the accuracy as well as the confusion matrix you obtained."
   ]
  },
  {
   "cell_type": "code",
   "execution_count": 43,
   "metadata": {
    "execution": {
     "iopub.execute_input": "2020-11-16T12:53:57.998820Z",
     "iopub.status.busy": "2020-11-16T12:53:57.997793Z",
     "iopub.status.idle": "2020-11-16T12:54:01.064023Z",
     "shell.execute_reply": "2020-11-16T12:54:01.062839Z"
    },
    "papermill": {
     "duration": 7.449736,
     "end_time": "2020-11-16T12:54:01.064166",
     "exception": false,
     "start_time": "2020-11-16T12:53:53.614430",
     "status": "completed"
    },
    "tags": []
   },
   "outputs": [],
   "source": [
    "if PRETRAINED == 'VGG':\n",
    "    conv_base = VGG16(weights='imagenet',\n",
    "                  include_top=False,\n",
    "                  input_shape=(150, 150, 3))\n",
    "else:\n",
    "    conv_base = InceptionV3(weights='imagenet',\n",
    "                        include_top=False,\n",
    "                        input_shape=(150, 150, 3))"
   ]
  },
  {
   "cell_type": "code",
   "execution_count": 44,
   "metadata": {
    "execution": {
     "iopub.execute_input": "2020-11-16T12:54:09.570864Z",
     "iopub.status.busy": "2020-11-16T12:54:09.569593Z",
     "iopub.status.idle": "2020-11-16T12:54:11.325385Z",
     "shell.execute_reply": "2020-11-16T12:54:11.324784Z"
    },
    "papermill": {
     "duration": 6.112276,
     "end_time": "2020-11-16T12:54:11.325523",
     "exception": false,
     "start_time": "2020-11-16T12:54:05.213247",
     "status": "completed"
    },
    "tags": []
   },
   "outputs": [],
   "source": [
    "#conv_base.trainable = False\n",
    "model = models.Sequential()\n",
    "model.add(conv_base)\n",
    "model.add(layers.Flatten())\n",
    "model.add(layers.Dense(256, activation='relu'))\n",
    "model.add(layers.Dense(5, activation='softmax'))"
   ]
  },
  {
   "cell_type": "markdown",
   "metadata": {
    "papermill": {
     "duration": 4.676901,
     "end_time": "2020-11-16T12:54:20.294897",
     "exception": false,
     "start_time": "2020-11-16T12:54:15.617996",
     "status": "completed"
    },
    "tags": []
   },
   "source": [
    "Create the generators"
   ]
  },
  {
   "cell_type": "code",
   "execution_count": 45,
   "metadata": {
    "execution": {
     "iopub.execute_input": "2020-11-16T12:54:30.106418Z",
     "iopub.status.busy": "2020-11-16T12:54:30.105635Z",
     "iopub.status.idle": "2020-11-16T12:54:30.436362Z",
     "shell.execute_reply": "2020-11-16T12:54:30.435754Z"
    },
    "papermill": {
     "duration": 4.942909,
     "end_time": "2020-11-16T12:54:30.436482",
     "exception": false,
     "start_time": "2020-11-16T12:54:25.493573",
     "status": "completed"
    },
    "tags": []
   },
   "outputs": [
    {
     "name": "stdout",
     "output_type": "stream",
     "text": [
      "Found 2592 images belonging to 5 classes.\n",
      "Found 866 images belonging to 5 classes.\n",
      "Found 865 images belonging to 5 classes.\n"
     ]
    }
   ],
   "source": [
    "train_datagen = ImageDataGenerator(\n",
    "      rescale=1./255,\n",
    "      rotation_range=40,\n",
    "      width_shift_range=0.2,\n",
    "      height_shift_range=0.2,\n",
    "      shear_range=0.2,\n",
    "      zoom_range=0.2,\n",
    "      horizontal_flip=True,\n",
    "      fill_mode='nearest')\n",
    "\n",
    "val_datagen = ImageDataGenerator(rescale=1./255)\n",
    "test_datagen = ImageDataGenerator(rescale=1./255)\n",
    "\n",
    "train_generator = train_datagen.flow_from_directory(\n",
    "        train_dir,\n",
    "        target_size=(150, 150),\n",
    "        batch_size=20,\n",
    "        class_mode='categorical')\n",
    "\n",
    "validation_generator = val_datagen.flow_from_directory(\n",
    "        validation_dir,\n",
    "        target_size=(150, 150),\n",
    "        batch_size=20,\n",
    "        class_mode='categorical')\n",
    "\n",
    "validation_generator = test_datagen.flow_from_directory(\n",
    "        test_dir,\n",
    "        target_size=(150, 150),\n",
    "        batch_size=1,\n",
    "        class_mode='categorical')"
   ]
  },
  {
   "cell_type": "markdown",
   "metadata": {
    "papermill": {
     "duration": 4.076377,
     "end_time": "2020-11-16T12:54:38.716251",
     "exception": false,
     "start_time": "2020-11-16T12:54:34.639874",
     "status": "completed"
    },
    "tags": []
   },
   "source": [
    "Fit the model"
   ]
  },
  {
   "cell_type": "code",
   "execution_count": 46,
   "metadata": {
    "execution": {
     "iopub.execute_input": "2020-11-16T12:54:47.391747Z",
     "iopub.status.busy": "2020-11-16T12:54:47.390639Z",
     "iopub.status.idle": "2020-11-16T13:06:07.273082Z",
     "shell.execute_reply": "2020-11-16T13:06:07.272442Z"
    },
    "papermill": {
     "duration": 684.026839,
     "end_time": "2020-11-16T13:06:07.273222",
     "exception": false,
     "start_time": "2020-11-16T12:54:43.246383",
     "status": "completed"
    },
    "tags": []
   },
   "outputs": [
    {
     "name": "stdout",
     "output_type": "stream",
     "text": [
      "Epoch 1/30\n",
      "100/100 - 23s - loss: 1.2571 - acc: 0.4854 - val_loss: 0.8248 - val_acc: 0.7200\n",
      "Epoch 2/30\n",
      "100/100 - 24s - loss: 0.8712 - acc: 0.6682 - val_loss: 0.5883 - val_acc: 0.8000\n",
      "Epoch 3/30\n",
      "100/100 - 20s - loss: 0.7110 - acc: 0.7309 - val_loss: 0.3628 - val_acc: 0.8600\n",
      "Epoch 4/30\n",
      "100/100 - 21s - loss: 0.6251 - acc: 0.7686 - val_loss: 0.7301 - val_acc: 0.8000\n",
      "Epoch 5/30\n",
      "100/100 - 20s - loss: 0.5772 - acc: 0.7811 - val_loss: 0.8391 - val_acc: 0.6800\n",
      "Epoch 6/30\n",
      "100/100 - 24s - loss: 0.5034 - acc: 0.8175 - val_loss: 0.3773 - val_acc: 0.8800\n",
      "Epoch 7/30\n",
      "100/100 - 21s - loss: 0.4824 - acc: 0.8238 - val_loss: 0.4432 - val_acc: 0.8400\n",
      "Epoch 8/30\n",
      "100/100 - 20s - loss: 0.4224 - acc: 0.8475 - val_loss: 0.3979 - val_acc: 0.8200\n",
      "Epoch 9/30\n",
      "100/100 - 21s - loss: 0.4454 - acc: 0.8313 - val_loss: 0.9883 - val_acc: 0.7400\n",
      "Epoch 10/30\n",
      "100/100 - 24s - loss: 0.4247 - acc: 0.8454 - val_loss: 0.4232 - val_acc: 0.8400\n",
      "Epoch 11/30\n",
      "100/100 - 20s - loss: 0.3955 - acc: 0.8579 - val_loss: 0.2646 - val_acc: 0.9000\n",
      "Epoch 12/30\n",
      "100/100 - 21s - loss: 0.3327 - acc: 0.8820 - val_loss: 0.2620 - val_acc: 0.9000\n",
      "Epoch 13/30\n",
      "100/100 - 20s - loss: 0.3639 - acc: 0.8760 - val_loss: 0.5666 - val_acc: 0.8400\n",
      "Epoch 14/30\n",
      "100/100 - 24s - loss: 0.3462 - acc: 0.8710 - val_loss: 0.2689 - val_acc: 0.9000\n",
      "Epoch 15/30\n",
      "100/100 - 21s - loss: 0.2892 - acc: 0.8976 - val_loss: 0.2999 - val_acc: 0.9200\n",
      "Epoch 16/30\n",
      "100/100 - 20s - loss: 0.3130 - acc: 0.8865 - val_loss: 0.2704 - val_acc: 0.9200\n",
      "Epoch 17/30\n",
      "100/100 - 21s - loss: 0.3080 - acc: 0.8876 - val_loss: 0.4643 - val_acc: 0.8800\n",
      "Epoch 18/30\n",
      "100/100 - 26s - loss: 0.2701 - acc: 0.9076 - val_loss: 0.5848 - val_acc: 0.8200\n",
      "Epoch 19/30\n",
      "100/100 - 20s - loss: 0.2821 - acc: 0.8926 - val_loss: 0.6194 - val_acc: 0.8400\n",
      "Epoch 20/30\n",
      "100/100 - 22s - loss: 0.2814 - acc: 0.8946 - val_loss: 0.4334 - val_acc: 0.9000\n",
      "Epoch 21/30\n",
      "100/100 - 24s - loss: 0.2711 - acc: 0.9091 - val_loss: 0.1207 - val_acc: 0.9800\n",
      "Epoch 22/30\n",
      "100/100 - 20s - loss: 0.2200 - acc: 0.9227 - val_loss: 0.6398 - val_acc: 0.8400\n",
      "Epoch 23/30\n",
      "100/100 - 22s - loss: 0.2175 - acc: 0.9232 - val_loss: 0.4304 - val_acc: 0.9000\n",
      "Epoch 24/30\n",
      "100/100 - 24s - loss: 0.2399 - acc: 0.9195 - val_loss: 0.3172 - val_acc: 0.9000\n",
      "Epoch 25/30\n",
      "100/100 - 20s - loss: 0.2113 - acc: 0.9182 - val_loss: 0.3646 - val_acc: 0.9000\n",
      "Epoch 26/30\n",
      "100/100 - 22s - loss: 0.2017 - acc: 0.9302 - val_loss: 0.9393 - val_acc: 0.8400\n",
      "Epoch 27/30\n",
      "100/100 - 24s - loss: 0.2089 - acc: 0.9307 - val_loss: 0.1535 - val_acc: 0.9800\n",
      "Epoch 28/30\n",
      "100/100 - 21s - loss: 0.1892 - acc: 0.9345 - val_loss: 0.1687 - val_acc: 0.9600\n",
      "Epoch 29/30\n",
      "100/100 - 21s - loss: 0.1956 - acc: 0.9347 - val_loss: 0.1347 - val_acc: 0.9600\n",
      "Epoch 30/30\n",
      "100/100 - 24s - loss: 0.1883 - acc: 0.9322 - val_loss: 0.8470 - val_acc: 0.8200\n"
     ]
    }
   ],
   "source": [
    "model.compile(loss='categorical_crossentropy',\n",
    "              optimizer=optimizers.RMSprop(lr=2e-5),\n",
    "              metrics=['acc'])\n",
    "\n",
    "history = model.fit_generator(\n",
    "      train_generator,\n",
    "      steps_per_epoch=100,\n",
    "      epochs=30,\n",
    "      validation_data=validation_generator,\n",
    "      validation_steps=50,\n",
    "      verbose=2)"
   ]
  },
  {
   "cell_type": "markdown",
   "metadata": {
    "papermill": {
     "duration": 4.753515,
     "end_time": "2020-11-16T13:06:16.182416",
     "exception": false,
     "start_time": "2020-11-16T13:06:11.428901",
     "status": "completed"
    },
    "tags": []
   },
   "source": [
    "### Analyzing the fitting performance over epochs"
   ]
  },
  {
   "cell_type": "markdown",
   "metadata": {
    "papermill": {
     "duration": 4.82228,
     "end_time": "2020-11-16T13:06:25.752282",
     "exception": false,
     "start_time": "2020-11-16T13:06:20.930002",
     "status": "completed"
    },
    "tags": []
   },
   "source": [
    "Show the training accuracy along with the epochs"
   ]
  },
  {
   "cell_type": "code",
   "execution_count": 47,
   "metadata": {
    "execution": {
     "iopub.execute_input": "2020-11-16T13:06:34.554017Z",
     "iopub.status.busy": "2020-11-16T13:06:34.548586Z",
     "iopub.status.idle": "2020-11-16T13:06:34.822305Z",
     "shell.execute_reply": "2020-11-16T13:06:34.823010Z"
    },
    "papermill": {
     "duration": 4.479807,
     "end_time": "2020-11-16T13:06:34.823203",
     "exception": false,
     "start_time": "2020-11-16T13:06:30.343396",
     "status": "completed"
    },
    "tags": []
   },
   "outputs": [
    {
     "data": {
      "image/png": "[encoded data removed]",
      "text/plain": [
       "<Figure size 432x288 with 1 Axes>"
      ]
     },
     "metadata": {
      "needs_background": "light"
     },
     "output_type": "display_data"
    }
   ],
   "source": [
    "acc = history.history['acc']\n",
    "val_acc = history.history['val_acc']\n",
    "loss = history.history['loss']\n",
    "val_loss = history.history['val_loss']\n",
    "\n",
    "epochs = range(len(acc))\n",
    "\n",
    "plt.plot(epochs, acc, 'bo', label='Training acc')\n",
    "plt.plot(epochs, val_acc, 'b', label='Validation acc')\n",
    "plt.title('Training and validation accuracy')\n",
    "plt.legend()\n",
    "\n",
    "plt.show()"
   ]
  },
  {
   "cell_type": "markdown",
   "metadata": {
    "papermill": {
     "duration": 4.092891,
     "end_time": "2020-11-16T13:06:43.155540",
     "exception": false,
     "start_time": "2020-11-16T13:06:39.062649",
     "status": "completed"
    },
    "tags": []
   },
   "source": [
    "### Predicting the test set"
   ]
  },
  {
   "cell_type": "markdown",
   "metadata": {
    "papermill": {
     "duration": 4.092392,
     "end_time": "2020-11-16T13:06:51.659242",
     "exception": false,
     "start_time": "2020-11-16T13:06:47.566850",
     "status": "completed"
    },
    "tags": []
   },
   "source": [
    "Apply now your network to the test set"
   ]
  },
  {
   "cell_type": "code",
   "execution_count": 48,
   "metadata": {
    "execution": {
     "iopub.execute_input": "2020-11-16T13:07:00.161618Z",
     "iopub.status.busy": "2020-11-16T13:07:00.160793Z",
     "iopub.status.idle": "2020-11-16T13:07:11.578314Z",
     "shell.execute_reply": "2020-11-16T13:07:11.578948Z"
    },
    "papermill": {
     "duration": 15.771137,
     "end_time": "2020-11-16T13:07:11.579168",
     "exception": false,
     "start_time": "2020-11-16T13:06:55.808031",
     "status": "completed"
    },
    "tags": []
   },
   "outputs": [],
   "source": [
    "predict = model.predict(test_generator)\n",
    "y_pred = np.argmax(predict,axis=-1)\n",
    "y_true = test_generator.classes"
   ]
  },
  {
   "cell_type": "markdown",
   "metadata": {
    "papermill": {
     "duration": 4.723939,
     "end_time": "2020-11-16T13:07:20.870714",
     "exception": false,
     "start_time": "2020-11-16T13:07:16.146775",
     "status": "completed"
    },
    "tags": []
   },
   "source": [
    "Report the accuracy as well as the classification report. Use sklearn functions"
   ]
  },
  {
   "cell_type": "code",
   "execution_count": 49,
   "metadata": {
    "execution": {
     "iopub.execute_input": "2020-11-16T13:07:29.696141Z",
     "iopub.status.busy": "2020-11-16T13:07:29.695178Z",
     "iopub.status.idle": "2020-11-16T13:07:29.703956Z",
     "shell.execute_reply": "2020-11-16T13:07:29.705433Z"
    },
    "papermill": {
     "duration": 4.392422,
     "end_time": "2020-11-16T13:07:29.705687",
     "exception": false,
     "start_time": "2020-11-16T13:07:25.313265",
     "status": "completed"
    },
    "tags": []
   },
   "outputs": [
    {
     "name": "stdout",
     "output_type": "stream",
     "text": [
      "Classification report:\n",
      "              precision    recall  f1-score   support\n",
      "\n",
      "           0       0.93      0.90      0.92       174\n",
      "           1       0.92      0.93      0.92       217\n",
      "           2       0.87      0.81      0.84       151\n",
      "           3       0.93      0.91      0.92       133\n",
      "           4       0.84      0.91      0.87       190\n",
      "\n",
      "    accuracy                           0.90       865\n",
      "   macro avg       0.90      0.89      0.89       865\n",
      "weighted avg       0.90      0.90      0.90       865\n",
      "\n"
     ]
    }
   ],
   "source": [
    "print(\"Classification report:\\n%s\"\n",
    "      % (classification_report(y_true, y_pred)))"
   ]
  },
  {
   "cell_type": "markdown",
   "metadata": {
    "papermill": {
     "duration": 4.218394,
     "end_time": "2020-11-16T13:07:38.556939",
     "exception": false,
     "start_time": "2020-11-16T13:07:34.338545",
     "status": "completed"
    },
    "tags": []
   },
   "source": [
    "Print the confusion matrix"
   ]
  },
  {
   "cell_type": "code",
   "execution_count": 50,
   "metadata": {
    "execution": {
     "iopub.execute_input": "2020-11-16T13:07:47.050854Z",
     "iopub.status.busy": "2020-11-16T13:07:47.049864Z",
     "iopub.status.idle": "2020-11-16T13:07:47.062064Z",
     "shell.execute_reply": "2020-11-16T13:07:47.061207Z"
    },
    "papermill": {
     "duration": 4.140916,
     "end_time": "2020-11-16T13:07:47.062226",
     "exception": false,
     "start_time": "2020-11-16T13:07:42.921310",
     "status": "completed"
    },
    "tags": []
   },
   "outputs": [
    {
     "name": "stdout",
     "output_type": "stream",
     "text": [
      "Confusion matrix: \n",
      " [[157   8   2   3   4]\n",
      " [  6 202   3   3   3]\n",
      " [  3   3 122   2  21]\n",
      " [  1   3   3 121   5]\n",
      " [  1   4  11   1 173]]\n"
     ]
    }
   ],
   "source": [
    "print('Confusion matrix: \\n %s' % (confusion_matrix(y_true, y_pred)))"
   ]
  },
  {
   "cell_type": "markdown",
   "metadata": {
    "papermill": {
     "duration": 4.581333,
     "end_time": "2020-11-16T13:07:55.934127",
     "exception": false,
     "start_time": "2020-11-16T13:07:51.352794",
     "status": "completed"
    },
    "tags": []
   },
   "source": [
    "Finally, run a model evaluation and store the loss and accuracy in the `test_loss_4` and `test_acc_4` variables. As with fitting, you may need to adjust the number of steps so that your network tests all the samples."
   ]
  },
  {
   "cell_type": "code",
   "execution_count": 51,
   "metadata": {
    "execution": {
     "iopub.execute_input": "2020-11-16T13:08:04.446385Z",
     "iopub.status.busy": "2020-11-16T13:08:04.445681Z",
     "iopub.status.idle": "2020-11-16T13:08:18.631843Z",
     "shell.execute_reply": "2020-11-16T13:08:18.630971Z"
    },
    "papermill": {
     "duration": 18.581205,
     "end_time": "2020-11-16T13:08:18.631972",
     "exception": false,
     "start_time": "2020-11-16T13:08:00.050767",
     "status": "completed"
    },
    "tags": []
   },
   "outputs": [
    {
     "name": "stdout",
     "output_type": "stream",
     "text": [
      "865/865 [==============================] - 14s 16ms/step - loss: 0.4821 - acc: 0.8960\n"
     ]
    }
   ],
   "source": [
    "evaluation4 = model.evaluate(test_generator)\n",
    "test_loss_4 = evaluation4[0]\n",
    "test_acc_4 = evaluation4[1]"
   ]
  },
  {
   "cell_type": "markdown",
   "metadata": {
    "papermill": {
     "duration": 4.55643,
     "end_time": "2020-11-16T13:08:27.748690",
     "exception": false,
     "start_time": "2020-11-16T13:08:23.192260",
     "status": "completed"
    },
    "tags": []
   },
   "source": [
    "## Passing the Assignment"
   ]
  },
  {
   "cell_type": "markdown",
   "metadata": {
    "papermill": {
     "duration": 4.524139,
     "end_time": "2020-11-16T13:08:36.481017",
     "exception": false,
     "start_time": "2020-11-16T13:08:31.956878",
     "status": "completed"
    },
    "tags": []
   },
   "source": [
    "To pass the assignment, you need to reach an accuracy of 75 (even 80 ideally) with your best network."
   ]
  },
  {
   "cell_type": "code",
   "execution_count": 52,
   "metadata": {
    "execution": {
     "iopub.execute_input": "2020-11-16T13:08:45.357470Z",
     "iopub.status.busy": "2020-11-16T13:08:45.356157Z",
     "iopub.status.idle": "2020-11-16T13:08:45.360223Z",
     "shell.execute_reply": "2020-11-16T13:08:45.360711Z"
    },
    "papermill": {
     "duration": 4.249439,
     "end_time": "2020-11-16T13:08:45.360841",
     "exception": false,
     "start_time": "2020-11-16T13:08:41.111402",
     "status": "completed"
    },
    "tags": []
   },
   "outputs": [
    {
     "data": {
      "text/plain": [
       "((0.9868932962417603, 0.6242774724960327),\n",
       " (0.6928368210792542, 0.7410404682159424),\n",
       " (1.565332293510437, 0.7599999904632568),\n",
       " (0.4821151793003082, 0.8959537744522095))"
      ]
     },
     "execution_count": 52,
     "metadata": {},
     "output_type": "execute_result"
    }
   ],
   "source": [
    "(test_loss_1, test_acc_1), (test_loss_2, test_acc_2), (test_loss_3, test_acc_3), (test_loss_4, test_acc_4)"
   ]
  },
  {
   "cell_type": "markdown",
   "metadata": {
    "papermill": {
     "duration": 4.205527,
     "end_time": "2020-11-16T13:08:53.965045",
     "exception": false,
     "start_time": "2020-11-16T13:08:49.759518",
     "status": "completed"
    },
    "tags": []
   },
   "source": [
    "## Report"
   ]
  },
  {
   "cell_type": "markdown",
   "metadata": {
    "papermill": {
     "duration": 4.177447,
     "end_time": "2020-11-16T13:09:02.523471",
     "exception": false,
     "start_time": "2020-11-16T13:08:58.346024",
     "status": "completed"
    },
    "tags": []
   },
   "source": [
    "You will write a short report of about two pages on your experiments:\n",
    "1. You will describe the architectures you designed and the results you obtained;\n",
    "2. You will run Chollet's notebook 5.4 and read the article _Grad-CAM: Visual Explanations from Deep Networks via Gradient-based Localization_ by Selvaraju et al. From this, you will reformulate and comment the paragraph on _Visualizing heatmaps of class activation_ in the notebook. \n",
    "3. You will run it on one of your images."
   ]
  },
  {
   "cell_type": "code",
   "execution_count": null,
   "metadata": {
    "papermill": {
     "duration": 4.899126,
     "end_time": "2020-11-16T13:09:11.617505",
     "exception": false,
     "start_time": "2020-11-16T13:09:06.718379",
     "status": "completed"
    },
    "tags": []
   },
   "outputs": [],
   "source": []
  }
 ],
 "metadata": {
  "kernelspec": {
   "display_name": "Python 3",
   "language": "python",
   "name": "python3"
  },
  "language_info": {
   "codemirror_mode": {
    "name": "ipython",
    "version": 3
   },
   "file_extension": ".py",
   "mimetype": "text/x-python",
   "name": "python",
   "nbconvert_exporter": "python",
   "pygments_lexer": "ipython3",
   "version": "3.7.6"
  },
  "papermill": {
   "duration": 3011.285271,
   "end_time": "2020-11-16T13:09:18.096608",
   "environment_variables": {},
   "exception": null,
   "input_path": "__notebook__.ipynb",
   "output_path": "__notebook__.ipynb",
   "parameters": {},
   "start_time": "2020-11-16T12:19:06.811337",
   "version": "2.1.0"
  }
 },
 "nbformat": 4,
 "nbformat_minor": 4
}