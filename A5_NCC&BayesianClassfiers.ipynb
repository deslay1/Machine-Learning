{
 "cells": [
  {
   "cell_type": "markdown",
   "metadata": {},
   "source": [
    "# Exploring different statistical/bayesian classifiers\n",
    "\n",
    "Overview:\n",
    "- Own implementation of an Nearest Centroid Classifier (NCC)\n",
    "- A Naive Bayesian Classifier (NBC) based on discrete feature values.\n",
    "- A Gaussian Naive Bayesian Classifier (GNBC) using gaussian distributions"
   ]
  },
  {
   "cell_type": "code",
   "execution_count": 8,
   "metadata": {},
   "outputs": [],
   "source": [
    "import NCC\n",
    "import NBC\n",
    "import datasets\n",
    "import helpers"
   ]
  },
  {
   "cell_type": "markdown",
   "metadata": {},
   "source": [
    "## Datasets"
   ]
  },
  {
   "cell_type": "code",
   "execution_count": 9,
   "metadata": {},
   "outputs": [],
   "source": [
    "train_features_1, test_features_1, train_labels_1, test_labels_1 = datasets.sklearn_digits()\n",
    "train_features_2, test_features_2, train_labels_2, test_labels_2 = datasets.sklearn_digits_summarized()\n",
    "train_features_3, test_features_3, train_labels_3, test_labels_3 = datasets.MNIST_light(normalized=True)"
   ]
  },
  {
   "cell_type": "markdown",
   "metadata": {},
   "source": [
    "## Nearest Centroid Classifier - own implementation"
   ]
  },
  {
   "cell_type": "markdown",
   "metadata": {},
   "source": [
    "### Sklearn digits"
   ]
  },
  {
   "cell_type": "code",
   "execution_count": 10,
   "metadata": {},
   "outputs": [],
   "source": [
    "clf = NCC.NearestCentroidClassifier()\n",
    "clf.fit(train_features_1, train_labels_1)"
   ]
  },
  {
   "cell_type": "code",
   "execution_count": 11,
   "metadata": {},
   "outputs": [],
   "source": [
    "y_pred = clf.predict(test_features_1)"
   ]
  },
  {
   "cell_type": "code",
   "execution_count": 12,
   "metadata": {},
   "outputs": [
    {
     "name": "stdout",
     "output_type": "stream",
     "text": [
      "Classification report SKLearn GNB:\n",
      "              precision    recall  f1-score   support\n",
      "\n",
      "           0       0.98      1.00      0.99        45\n",
      "           1       0.86      0.81      0.83        52\n",
      "           2       0.96      0.83      0.89        53\n",
      "           3       0.92      0.81      0.86        54\n",
      "           4       1.00      0.92      0.96        48\n",
      "           5       0.94      0.82      0.88        57\n",
      "           6       0.97      0.98      0.98        60\n",
      "           7       0.84      0.98      0.90        53\n",
      "           8       0.93      0.84      0.88        61\n",
      "           9       0.68      0.95      0.79        57\n",
      "\n",
      "    accuracy                           0.89       540\n",
      "   macro avg       0.91      0.89      0.90       540\n",
      "weighted avg       0.90      0.89      0.89       540\n",
      "\n",
      "\n",
      "Confusion matrix SKLearn GNB:\n",
      "[[45  0  0  0  0  0  0  0  0  0]\n",
      " [ 0 42  1  0  0  1  1  0  1  6]\n",
      " [ 1  2 44  3  0  0  0  2  0  1]\n",
      " [ 0  0  1 44  0  0  0  2  2  5]\n",
      " [ 0  1  0  0 44  0  0  3  0  0]\n",
      " [ 0  0  0  0  0 47  1  0  0  9]\n",
      " [ 0  1  0  0  0  0 59  0  0  0]\n",
      " [ 0  0  0  0  0  0  0 52  1  0]\n",
      " [ 0  3  0  1  0  1  0  1 51  4]\n",
      " [ 0  0  0  0  0  1  0  2  0 54]]\n"
     ]
    }
   ],
   "source": [
    "helpers.evaluate_and_print(test_labels_1, y_pred)"
   ]
  },
  {
   "cell_type": "markdown",
   "metadata": {},
   "source": [
    "### Sklearn digits summarized"
   ]
  },
  {
   "cell_type": "code",
   "execution_count": 13,
   "metadata": {},
   "outputs": [],
   "source": [
    "clf = NCC.NearestCentroidClassifier()\n",
    "clf.fit(train_features_2, train_labels_2)"
   ]
  },
  {
   "cell_type": "code",
   "execution_count": 14,
   "metadata": {},
   "outputs": [],
   "source": [
    "y_pred = clf.predict(test_features_2)"
   ]
  },
  {
   "cell_type": "code",
   "execution_count": 15,
   "metadata": {},
   "outputs": [
    {
     "name": "stdout",
     "output_type": "stream",
     "text": [
      "Classification report SKLearn GNB:\n",
      "              precision    recall  f1-score   support\n",
      "\n",
      "           0       0.98      1.00      0.99        45\n",
      "           1       0.82      0.77      0.79        52\n",
      "           2       0.89      0.79      0.84        53\n",
      "           3       0.89      0.78      0.83        54\n",
      "           4       0.96      0.92      0.94        48\n",
      "           5       0.94      0.84      0.89        57\n",
      "           6       0.94      0.98      0.96        60\n",
      "           7       0.86      0.94      0.90        53\n",
      "           8       0.91      0.82      0.86        61\n",
      "           9       0.68      0.93      0.79        57\n",
      "\n",
      "    accuracy                           0.88       540\n",
      "   macro avg       0.89      0.88      0.88       540\n",
      "weighted avg       0.88      0.88      0.88       540\n",
      "\n",
      "\n",
      "Confusion matrix SKLearn GNB:\n",
      "[[45  0  0  0  0  0  0  0  0  0]\n",
      " [ 0 40  2  0  0  1  2  0  2  5]\n",
      " [ 1  4 42  4  0  0  0  1  1  0]\n",
      " [ 0  0  1 42  0  0  0  2  2  7]\n",
      " [ 0  1  0  0 44  0  0  3  0  0]\n",
      " [ 0  0  0  0  0 48  2  0  0  7]\n",
      " [ 0  1  0  0  0  0 59  0  0  0]\n",
      " [ 0  0  1  0  2  0  0 50  0  0]\n",
      " [ 0  3  1  0  0  1  0  0 50  6]\n",
      " [ 0  0  0  1  0  1  0  2  0 53]]\n"
     ]
    }
   ],
   "source": [
    "helpers.evaluate_and_print(test_labels_2, y_pred)"
   ]
  },
  {
   "cell_type": "markdown",
   "metadata": {},
   "source": [
    "### MNIST_light"
   ]
  },
  {
   "cell_type": "code",
   "execution_count": 16,
   "metadata": {},
   "outputs": [],
   "source": [
    "clf = NCC.NearestCentroidClassifier()\n",
    "clf.fit(train_features_3, train_labels_3)"
   ]
  },
  {
   "cell_type": "code",
   "execution_count": 17,
   "metadata": {},
   "outputs": [],
   "source": [
    "y_pred = clf.predict(test_features_3)"
   ]
  },
  {
   "cell_type": "code",
   "execution_count": 18,
   "metadata": {},
   "outputs": [
    {
     "name": "stdout",
     "output_type": "stream",
     "text": [
      "Classification report SKLearn GNB:\n",
      "              precision    recall  f1-score   support\n",
      "\n",
      "           0       0.91      0.91      0.91       164\n",
      "           1       0.71      0.97      0.82       152\n",
      "           2       0.84      0.73      0.78       155\n",
      "           3       0.74      0.76      0.75       154\n",
      "           4       0.75      0.76      0.75       143\n",
      "           5       0.72      0.69      0.70       141\n",
      "           6       0.90      0.86      0.88       143\n",
      "           7       0.95      0.80      0.87       158\n",
      "           8       0.79      0.72      0.75       132\n",
      "           9       0.76      0.80      0.78       158\n",
      "\n",
      "    accuracy                           0.80      1500\n",
      "   macro avg       0.81      0.80      0.80      1500\n",
      "weighted avg       0.81      0.80      0.80      1500\n",
      "\n",
      "\n",
      "Confusion matrix SKLearn GNB:\n",
      "[[150   0   2   0   0   6   3   1   2   0]\n",
      " [  0 148   0   0   0   2   0   0   2   0]\n",
      " [  0  15 113   8   2   3   3   1   8   2]\n",
      " [  1   5   8 117   1   7   1   2   8   4]\n",
      " [  1   4   2   0 108   0   3   0   1  24]\n",
      " [  3   9   0  24   4  97   2   0   1   1]\n",
      " [  3   6   2   0   4   5 123   0   0   0]\n",
      " [  1  14   2   0   6   1   0 127   1   6]\n",
      " [  3   6   4   8   0  12   1   0  95   3]\n",
      " [  3   0   1   1  19   2   1   3   2 126]]\n"
     ]
    }
   ],
   "source": [
    "helpers.evaluate_and_print(test_labels_3, y_pred)"
   ]
  },
  {
   "cell_type": "markdown",
   "metadata": {},
   "source": [
    "## NBC - Discrete features\n",
    "\n",
    "Here we will use Naive bayes.\n",
    "It estimates the contitional probabilities that a feature x belongs to class y.\n",
    "These probabities are  basically relative frequency counting. So it uses the number of times a feature appears in a class y."
   ]
  },
  {
   "cell_type": "markdown",
   "metadata": {},
   "source": [
    "### Sklearn digits"
   ]
  },
  {
   "cell_type": "code",
   "execution_count": 19,
   "metadata": {},
   "outputs": [],
   "source": [
    "clf = NBC.NaiveBayesianClassifier()\n",
    "clf.fit(train_features_1, train_labels_1)"
   ]
  },
  {
   "cell_type": "code",
   "execution_count": 20,
   "metadata": {},
   "outputs": [
    {
     "name": "stderr",
     "output_type": "stream",
     "text": [
      "100%|████████████████████████████████████████████████████████████████████████████████| 540/540 [00:19<00:00, 27.75it/s]\n"
     ]
    }
   ],
   "source": [
    "y_pred = clf.predict(test_features_1)"
   ]
  },
  {
   "cell_type": "code",
   "execution_count": 21,
   "metadata": {},
   "outputs": [
    {
     "name": "stdout",
     "output_type": "stream",
     "text": [
      "Classification report SKLearn GNB:\n",
      "              precision    recall  f1-score   support\n",
      "\n",
      "           0       0.19      1.00      0.32        45\n",
      "           1       0.84      0.62      0.71        52\n",
      "           2       0.90      0.51      0.65        53\n",
      "           3       0.76      0.48      0.59        54\n",
      "           4       0.94      0.69      0.80        48\n",
      "           5       0.92      0.39      0.54        57\n",
      "           6       1.00      0.68      0.81        60\n",
      "           7       0.81      0.57      0.67        53\n",
      "           8       0.86      0.39      0.54        61\n",
      "           9       0.74      0.49      0.59        57\n",
      "\n",
      "    accuracy                           0.57       540\n",
      "   macro avg       0.80      0.58      0.62       540\n",
      "weighted avg       0.81      0.57      0.63       540\n",
      "\n",
      "\n",
      "Confusion matrix SKLearn GNB:\n",
      "[[45  0  0  0  0  0  0  0  0  0]\n",
      " [17 32  1  0  0  0  0  0  2  0]\n",
      " [25  0 27  1  0  0  0  0  0  0]\n",
      " [18  0  1 26  0  0  0  0  1  8]\n",
      " [14  0  0  0 33  0  0  1  0  0]\n",
      " [29  0  0  3  0 22  0  2  1  0]\n",
      " [17  0  0  0  1  1 41  0  0  0]\n",
      " [23  0  0  0  0  0  0 30  0  0]\n",
      " [20  6  1  4  1  1  0  2 24  2]\n",
      " [27  0  0  0  0  0  0  2  0 28]]\n"
     ]
    }
   ],
   "source": [
    "helpers.evaluate_and_print(test_labels_1, y_pred)"
   ]
  },
  {
   "cell_type": "markdown",
   "metadata": {},
   "source": [
    "### Sklearn digits summarized"
   ]
  },
  {
   "cell_type": "code",
   "execution_count": 22,
   "metadata": {},
   "outputs": [],
   "source": [
    "clf = NBC.NaiveBayesianClassifier()\n",
    "clf.fit(train_features_2, train_labels_2)"
   ]
  },
  {
   "cell_type": "code",
   "execution_count": 23,
   "metadata": {},
   "outputs": [
    {
     "name": "stderr",
     "output_type": "stream",
     "text": [
      "100%|████████████████████████████████████████████████████████████████████████████████| 540/540 [00:20<00:00, 26.29it/s]\n"
     ]
    }
   ],
   "source": [
    "y_pred = clf.predict(test_features_2)"
   ]
  },
  {
   "cell_type": "code",
   "execution_count": 24,
   "metadata": {},
   "outputs": [
    {
     "name": "stdout",
     "output_type": "stream",
     "text": [
      "Classification report SKLearn GNB:\n",
      "              precision    recall  f1-score   support\n",
      "\n",
      "           0       0.91      0.93      0.92        45\n",
      "           1       0.69      0.90      0.78        52\n",
      "           2       0.96      0.83      0.89        53\n",
      "           3       0.75      0.87      0.80        54\n",
      "           4       0.79      0.92      0.85        48\n",
      "           5       0.91      0.89      0.90        57\n",
      "           6       0.98      0.93      0.96        60\n",
      "           7       0.83      0.92      0.88        53\n",
      "           8       1.00      0.41      0.58        61\n",
      "           9       0.78      0.88      0.83        57\n",
      "\n",
      "    accuracy                           0.84       540\n",
      "   macro avg       0.86      0.85      0.84       540\n",
      "weighted avg       0.86      0.84      0.84       540\n",
      "\n",
      "\n",
      "Confusion matrix SKLearn GNB:\n",
      "[[42  0  0  0  3  0  0  0  0  0]\n",
      " [ 0 47  0  0  1  1  0  1  0  2]\n",
      " [ 1  5 44  1  0  0  0  0  0  2]\n",
      " [ 1  0  0 47  0  0  0  2  0  4]\n",
      " [ 0  0  0  0 44  0  0  4  0  0]\n",
      " [ 0  0  0  2  2 51  1  0  0  1]\n",
      " [ 1  0  0  1  2  0 56  0  0  0]\n",
      " [ 0  0  0  0  4  0  0 49  0  0]\n",
      " [ 0 16  2  9  0  3  0  1 25  5]\n",
      " [ 1  0  0  3  0  1  0  2  0 50]]\n"
     ]
    }
   ],
   "source": [
    "helpers.evaluate_and_print(test_labels_2, y_pred)"
   ]
  },
  {
   "cell_type": "markdown",
   "metadata": {},
   "source": [
    "### MNIST_light - Currently unused, but maybe some time out of interest"
   ]
  },
  {
   "cell_type": "raw",
   "metadata": {},
   "source": [
    "clf = NBC.NaiveBayesianClassifier()\n",
    "clf.fit(train_features_3, train_labels_3)"
   ]
  },
  {
   "cell_type": "raw",
   "metadata": {},
   "source": [
    "y_pred = clf.predict(test_features_3)"
   ]
  },
  {
   "cell_type": "raw",
   "metadata": {},
   "source": [
    "helpers.evaluate_and_print(test_labels_3, y_pred)"
   ]
  },
  {
   "cell_type": "markdown",
   "metadata": {},
   "source": [
    "## GNBC -  Features as probability distributions"
   ]
  },
  {
   "cell_type": "markdown",
   "metadata": {},
   "source": [
    "### Sklearn digits"
   ]
  },
  {
   "cell_type": "code",
   "execution_count": 28,
   "metadata": {},
   "outputs": [],
   "source": [
    "clf = NBC.GaussianNaiveBayesianClassifier()\n",
    "clf.fit(train_features_1, train_labels_1, epsilon=1e-2)"
   ]
  },
  {
   "cell_type": "code",
   "execution_count": 29,
   "metadata": {},
   "outputs": [
    {
     "name": "stderr",
     "output_type": "stream",
     "text": [
      "100%|████████████████████████████████████████████████████████████████████████████████| 540/540 [00:28<00:00, 18.77it/s]\n"
     ]
    }
   ],
   "source": [
    "y_pred = clf.predict(test_features_1)"
   ]
  },
  {
   "cell_type": "code",
   "execution_count": 30,
   "metadata": {},
   "outputs": [
    {
     "name": "stdout",
     "output_type": "stream",
     "text": [
      "Classification report SKLearn GNB:\n",
      "              precision    recall  f1-score   support\n",
      "\n",
      "           0       0.98      1.00      0.99        45\n",
      "           1       0.84      0.83      0.83        52\n",
      "           2       0.95      0.72      0.82        53\n",
      "           3       0.77      0.81      0.79        54\n",
      "           4       0.94      0.96      0.95        48\n",
      "           5       0.98      0.89      0.94        57\n",
      "           6       0.98      0.98      0.98        60\n",
      "           7       0.85      0.96      0.90        53\n",
      "           8       0.70      0.87      0.77        61\n",
      "           9       0.88      0.75      0.81        57\n",
      "\n",
      "    accuracy                           0.88       540\n",
      "   macro avg       0.89      0.88      0.88       540\n",
      "weighted avg       0.88      0.88      0.88       540\n",
      "\n",
      "\n",
      "Confusion matrix SKLearn GNB:\n",
      "[[45  0  0  0  0  0  0  0  0  0]\n",
      " [ 1 43  0  0  0  0  0  0  6  2]\n",
      " [ 0  5 38  2  0  0  0  0  8  0]\n",
      " [ 0  0  1 44  0  0  0  1  5  3]\n",
      " [ 0  0  0  0 46  0  0  2  0  0]\n",
      " [ 0  0  0  1  0 51  1  2  1  1]\n",
      " [ 0  0  1  0  0  0 59  0  0  0]\n",
      " [ 0  0  0  0  2  0  0 51  0  0]\n",
      " [ 0  3  0  3  0  1  0  1 53  0]\n",
      " [ 0  0  0  7  1  0  0  3  3 43]]\n"
     ]
    }
   ],
   "source": [
    "helpers.evaluate_and_print(test_labels_1, y_pred)"
   ]
  },
  {
   "cell_type": "markdown",
   "metadata": {},
   "source": [
    "### Sklearn digits summarized"
   ]
  },
  {
   "cell_type": "code",
   "execution_count": 31,
   "metadata": {},
   "outputs": [],
   "source": [
    "clf = NBC.GaussianNaiveBayesianClassifier()\n",
    "clf.fit(train_features_2, train_labels_2, epsilon=1e-2)"
   ]
  },
  {
   "cell_type": "code",
   "execution_count": 32,
   "metadata": {},
   "outputs": [
    {
     "name": "stderr",
     "output_type": "stream",
     "text": [
      "100%|████████████████████████████████████████████████████████████████████████████████| 540/540 [00:29<00:00, 18.57it/s]\n"
     ]
    }
   ],
   "source": [
    "y_pred = clf.predict(test_features_2)"
   ]
  },
  {
   "cell_type": "code",
   "execution_count": 33,
   "metadata": {},
   "outputs": [
    {
     "name": "stdout",
     "output_type": "stream",
     "text": [
      "Classification report SKLearn GNB:\n",
      "              precision    recall  f1-score   support\n",
      "\n",
      "           0       1.00      1.00      1.00        45\n",
      "           1       0.93      0.79      0.85        52\n",
      "           2       0.96      0.85      0.90        53\n",
      "           3       0.95      0.76      0.85        54\n",
      "           4       0.94      0.94      0.94        48\n",
      "           5       0.98      0.88      0.93        57\n",
      "           6       0.97      0.98      0.98        60\n",
      "           7       0.84      0.98      0.90        53\n",
      "           8       0.78      0.97      0.86        61\n",
      "           9       0.78      0.86      0.82        57\n",
      "\n",
      "    accuracy                           0.90       540\n",
      "   macro avg       0.91      0.90      0.90       540\n",
      "weighted avg       0.91      0.90      0.90       540\n",
      "\n",
      "\n",
      "Confusion matrix SKLearn GNB:\n",
      "[[45  0  0  0  0  0  0  0  0  0]\n",
      " [ 0 41  0  0  1  1  1  1  4  3]\n",
      " [ 0  1 45  0  0  0  0  0  6  1]\n",
      " [ 0  0  0 41  0  0  0  1  3  9]\n",
      " [ 0  0  0  0 45  0  0  3  0  0]\n",
      " [ 0  0  0  1  1 50  1  2  1  1]\n",
      " [ 0  0  1  0  0  0 59  0  0  0]\n",
      " [ 0  0  0  0  1  0  0 52  0  0]\n",
      " [ 0  2  0  0  0  0  0  0 59  0]\n",
      " [ 0  0  1  1  0  0  0  3  3 49]]\n"
     ]
    }
   ],
   "source": [
    "helpers.evaluate_and_print(test_labels_2, y_pred)"
   ]
  },
  {
   "cell_type": "markdown",
   "metadata": {},
   "source": [
    "### MNIST_light\n",
    "\n",
    "IMPORTANT: epsilon cannot be too small!!\n",
    "For this dataset we compute the likelihood for 44 different attributes (pixels) so if epsilon is too small we end up a negative overflow during the norm calculations.\n",
    "Epsilon= 0.02 work best and produce the same results."
   ]
  },
  {
   "cell_type": "code",
   "execution_count": 34,
   "metadata": {},
   "outputs": [],
   "source": [
    "clf = NBC.GaussianNaiveBayesianClassifier()\n",
    "clf.fit(train_features_3, train_labels_3, epsilon=0.02) #0.0004"
   ]
  },
  {
   "cell_type": "code",
   "execution_count": 35,
   "metadata": {},
   "outputs": [
    {
     "name": "stderr",
     "output_type": "stream",
     "text": [
      "  0%|▏                                                                                | 4/1500 [00:01<08:21,  2.98it/s]D:\\ProgProjects\\AppliedML_EDAN95\\A5\\Handout_NaiveBayes\\NBC.py:67: RuntimeWarning: overflow encountered in double_scalars\n",
      "  likelihood *= norm.pdf(feature[attr], loc=loc, scale=std)\n",
      "100%|██████████████████████████████████████████████████████████████████████████████| 1500/1500 [08:17<00:00,  3.01it/s]\n"
     ]
    }
   ],
   "source": [
    "y_pred = clf.predict(test_features_3)"
   ]
  },
  {
   "cell_type": "code",
   "execution_count": 36,
   "metadata": {},
   "outputs": [
    {
     "name": "stdout",
     "output_type": "stream",
     "text": [
      "Classification report SKLearn GNB:\n",
      "              precision    recall  f1-score   support\n",
      "\n",
      "           0       0.89      0.93      0.91       164\n",
      "           1       0.76      0.97      0.85       152\n",
      "           2       0.79      0.61      0.69       155\n",
      "           3       0.76      0.77      0.76       154\n",
      "           4       0.83      0.60      0.70       143\n",
      "           5       0.93      0.53      0.68       141\n",
      "           6       0.82      0.94      0.88       143\n",
      "           7       0.95      0.78      0.86       158\n",
      "           8       0.64      0.71      0.67       132\n",
      "           9       0.60      0.90      0.72       158\n",
      "\n",
      "    accuracy                           0.78      1500\n",
      "   macro avg       0.80      0.77      0.77      1500\n",
      "weighted avg       0.80      0.78      0.77      1500\n",
      "\n",
      "\n",
      "Confusion matrix SKLearn GNB:\n",
      "[[152   0   6   0   0   1   2   0   2   1]\n",
      " [  0 147   0   0   0   0   1   0   3   1]\n",
      " [  1   6  94  11   1   2  16   1  22   1]\n",
      " [  1   5  14 118   0   0   2   2   5   7]\n",
      " [  2   2   2   0  86   0   4   0   3  44]\n",
      " [  9   7   0  22   3  75   1   0  16   8]\n",
      " [  2   3   0   0   0   2 135   0   1   0]\n",
      " [  0   6   2   0   5   0   0 123   1  21]\n",
      " [  1  17   1   3   0   1   3   0  94  12]\n",
      " [  2   1   0   2   8   0   0   3   0 142]]\n"
     ]
    }
   ],
   "source": [
    "helpers.evaluate_and_print(test_labels_3, y_pred)"
   ]
  }
 ],
 "metadata": {
  "kernelspec": {
   "display_name": "Python 3",
   "language": "python",
   "name": "python3"
  },
  "language_info": {
   "codemirror_mode": {
    "name": "ipython",
    "version": 3
   },
   "file_extension": ".py",
   "mimetype": "text/x-python",
   "name": "python",
   "nbconvert_exporter": "python",
   "pygments_lexer": "ipython3",
   "version": "3.8.5"
  }
 },
 "nbformat": 4,
 "nbformat_minor": 2
}
