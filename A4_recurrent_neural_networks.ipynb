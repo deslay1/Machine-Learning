{
 "cells": [
  {
   "cell_type": "markdown",
   "metadata": {
    "papermill": {
     "duration": 0.071884,
     "end_time": "2020-11-21T19:58:22.696387",
     "exception": false,
     "start_time": "2020-11-21T19:58:22.624503",
     "status": "completed"
    },
    "tags": []
   },
   "source": [
    "# Programming Assignment #4: Recurrent Neural Networks\n",
    "Author: Pierre Nugues"
   ]
  },
  {
   "cell_type": "markdown",
   "metadata": {
    "papermill": {
     "duration": 0.068053,
     "end_time": "2020-11-21T19:58:22.837047",
     "exception": false,
     "start_time": "2020-11-21T19:58:22.768994",
     "status": "completed"
    },
    "tags": []
   },
   "source": [
    "## Objectives"
   ]
  },
  {
   "cell_type": "markdown",
   "metadata": {
    "papermill": {
     "duration": 0.070453,
     "end_time": "2020-11-21T19:58:22.976811",
     "exception": false,
     "start_time": "2020-11-21T19:58:22.906358",
     "status": "completed"
    },
    "tags": []
   },
   "source": [
    "The objectives of this assignment are to:\n",
    "* Write a program to recognize named entities in text\n",
    "* Learn how to manage a text data set\n",
    "* Apply recurrent neural networks to text\n",
    "* Know what word embeddings are\n",
    "* Write a short report on your experiments. This report is mandatory to pass the assignment."
   ]
  },
  {
   "cell_type": "markdown",
   "metadata": {
    "papermill": {
     "duration": 0.070189,
     "end_time": "2020-11-21T19:58:23.116513",
     "exception": false,
     "start_time": "2020-11-21T19:58:23.046324",
     "status": "completed"
    },
    "tags": []
   },
   "source": [
    "## Organization and location"
   ]
  },
  {
   "cell_type": "markdown",
   "metadata": {
    "papermill": {
     "duration": 0.067795,
     "end_time": "2020-11-21T19:58:23.259162",
     "exception": false,
     "start_time": "2020-11-21T19:58:23.191367",
     "status": "completed"
    },
    "tags": []
   },
   "source": [
    "You can work alone or collaborate with another student:\n",
    "* Each group will have to write Python programs to recognize named entities in text.\n",
    "* You will have to experiment different architectures, namely RNN and LSTM, and compare the results you obtained.\n",
    "* Each student will have to write an individual report on these experiments."
   ]
  },
  {
   "cell_type": "markdown",
   "metadata": {
    "papermill": {
     "duration": 0.068669,
     "end_time": "2020-11-21T19:58:23.396609",
     "exception": false,
     "start_time": "2020-11-21T19:58:23.327940",
     "status": "completed"
    },
    "tags": []
   },
   "source": [
    "## Imports"
   ]
  },
  {
   "cell_type": "code",
   "execution_count": 1,
   "metadata": {
    "execution": {
     "iopub.execute_input": "2020-11-21T19:58:23.546876Z",
     "iopub.status.busy": "2020-11-21T19:58:23.546218Z",
     "iopub.status.idle": "2020-11-21T19:58:28.469298Z",
     "shell.execute_reply": "2020-11-21T19:58:28.468270Z"
    },
    "papermill": {
     "duration": 5.001917,
     "end_time": "2020-11-21T19:58:28.469453",
     "exception": false,
     "start_time": "2020-11-21T19:58:23.467536",
     "status": "completed"
    },
    "tags": []
   },
   "outputs": [],
   "source": [
    "import sys\n",
    "import regex as re\n",
    "import numpy as np\n",
    "from numpy.linalg import norm\n",
    "from scipy.spatial.distance import cosine\n",
    "import matplotlib.pyplot as plt\n",
    "from sklearn.preprocessing import normalize\n",
    "from keras.models import Sequential\n",
    "from keras.layers import Embedding, Flatten, Dense, Dropout, Lambda, TimeDistributed\n",
    "from keras.layers import LSTM, Bidirectional, SimpleRNN, BatchNormalization\n",
    "from keras.models import Model\n",
    "from keras.preprocessing.sequence import pad_sequences\n",
    "from keras.utils.np_utils import to_categorical\n",
    "from keras.activations import softmax\n",
    "from keras.optimizers import RMSprop, Adam # iterative improvements\n",
    "\n",
    "EPOCHS = 15\n",
    "LSTM_UNITS = 100"
   ]
  },
  {
   "cell_type": "markdown",
   "metadata": {
    "papermill": {
     "duration": 0.069457,
     "end_time": "2020-11-21T19:58:28.609366",
     "exception": false,
     "start_time": "2020-11-21T19:58:28.539909",
     "status": "completed"
    },
    "tags": []
   },
   "source": [
    "## Collecting a Dataset"
   ]
  },
  {
   "cell_type": "markdown",
   "metadata": {
    "papermill": {
     "duration": 0.068537,
     "end_time": "2020-11-21T19:58:28.747319",
     "exception": false,
     "start_time": "2020-11-21T19:58:28.678782",
     "status": "completed"
    },
    "tags": []
   },
   "source": [
    "1. You will use a dataset from the CoNLL conferences that benchmark natural language processing systems and tasks. There were two conferences on named entity recognition: <a href=\"https://www.clips.uantwerpen.be/conll2002/ner/\">CoNLL 2002</a> (Spanish and Dutch) and <a href=\"https://www.clips.uantwerpen.be/conll2003/ner/\">CoNLL 2003</a> (English and German). In this assignment, you will work on the English dataset. Read the description of the task.\n",
    "2. The datasets are protected by a license and you need to obtain it to reconstruct the data. Alternatively, you can try to find one on github (type conll2003 in the search box) or use the Google dataset search: <a href=\"https://toolbox.google.com/datasetsearch\">https://toolbox.google.com/datasetsearch</a>. All this may take time and your teacher created a local copy in the `/usr/local/cs/EDAN95/datasets/NER-data` folder.\n",
    "3. The dataset comes in the form of three files: a training set, a development set, and a test set. <!--, named:\n",
    "    <tt>eng.train</tt>, <tt>eng.testa</tt> (validation), and <tt>eng.testb</tt> (test).-->"
   ]
  },
  {
   "cell_type": "markdown",
   "metadata": {
    "papermill": {
     "duration": 0.07174,
     "end_time": "2020-11-21T19:58:28.887152",
     "exception": false,
     "start_time": "2020-11-21T19:58:28.815412",
     "status": "completed"
    },
    "tags": []
   },
   "source": [
    "## Reading the Corpus"
   ]
  },
  {
   "cell_type": "markdown",
   "metadata": {
    "papermill": {
     "duration": 0.103674,
     "end_time": "2020-11-21T19:58:29.068596",
     "exception": false,
     "start_time": "2020-11-21T19:58:28.964922",
     "status": "completed"
    },
    "tags": []
   },
   "source": [
    "You will read the corpus with the cells below. The functions will enable you to load the files in the form of a list of dictionaries."
   ]
  },
  {
   "cell_type": "code",
   "execution_count": 2,
   "metadata": {
    "execution": {
     "iopub.execute_input": "2020-11-21T19:58:29.284187Z",
     "iopub.status.busy": "2020-11-21T19:58:29.283161Z",
     "iopub.status.idle": "2020-11-21T19:58:29.287199Z",
     "shell.execute_reply": "2020-11-21T19:58:29.287890Z"
    },
    "papermill": {
     "duration": 0.109898,
     "end_time": "2020-11-21T19:58:29.288225",
     "exception": false,
     "start_time": "2020-11-21T19:58:29.178327",
     "status": "completed"
    },
    "tags": []
   },
   "outputs": [],
   "source": [
    "BASE_DIR = '/kaggle/input/conll2003-eng/'"
   ]
  },
  {
   "cell_type": "code",
   "execution_count": 3,
   "metadata": {
    "execution": {
     "iopub.execute_input": "2020-11-21T19:58:29.510986Z",
     "iopub.status.busy": "2020-11-21T19:58:29.510180Z",
     "iopub.status.idle": "2020-11-21T19:58:29.515125Z",
     "shell.execute_reply": "2020-11-21T19:58:29.515967Z"
    },
    "papermill": {
     "duration": 0.119145,
     "end_time": "2020-11-21T19:58:29.516147",
     "exception": false,
     "start_time": "2020-11-21T19:58:29.397002",
     "status": "completed"
    },
    "tags": []
   },
   "outputs": [],
   "source": [
    "def load_conll2003_en():\n",
    "    train_file = BASE_DIR + 'eng.train'\n",
    "    dev_file = BASE_DIR + 'eng.valid'\n",
    "    test_file = BASE_DIR + 'eng.test'\n",
    "    column_names = ['form', 'ppos', 'pchunk', 'ner']\n",
    "    train_sentences = open(train_file, encoding='utf8').read().strip()\n",
    "    dev_sentences = open(dev_file, encoding='utf8').read().strip()\n",
    "    test_sentences = open(test_file, encoding='utf8').read().strip()\n",
    "    return train_sentences, dev_sentences, test_sentences, column_names"
   ]
  },
  {
   "cell_type": "code",
   "execution_count": 4,
   "metadata": {
    "execution": {
     "iopub.execute_input": "2020-11-21T19:58:29.761630Z",
     "iopub.status.busy": "2020-11-21T19:58:29.760833Z",
     "iopub.status.idle": "2020-11-21T19:58:29.879129Z",
     "shell.execute_reply": "2020-11-21T19:58:29.878147Z"
    },
    "papermill": {
     "duration": 0.245359,
     "end_time": "2020-11-21T19:58:29.879236",
     "exception": false,
     "start_time": "2020-11-21T19:58:29.633877",
     "status": "completed"
    },
    "tags": []
   },
   "outputs": [
    {
     "data": {
      "text/plain": [
       "'-DOCSTART- -X- O O\\n\\nEU NNP I-NP I-ORG\\nrejects VBZ I-VP O\\nGerman JJ I-NP I-MISC\\ncall NN I-NP O\\nto TO '"
      ]
     },
     "execution_count": 4,
     "metadata": {},
     "output_type": "execute_result"
    }
   ],
   "source": [
    "train_sentences, dev_sentences, test_sentences, column_names = load_conll2003_en()\n",
    "train_sentences[:100]"
   ]
  },
  {
   "cell_type": "code",
   "execution_count": 5,
   "metadata": {
    "execution": {
     "iopub.execute_input": "2020-11-21T19:58:30.079329Z",
     "iopub.status.busy": "2020-11-21T19:58:30.078537Z",
     "iopub.status.idle": "2020-11-21T19:58:30.082390Z",
     "shell.execute_reply": "2020-11-21T19:58:30.083546Z"
    },
    "papermill": {
     "duration": 0.117737,
     "end_time": "2020-11-21T19:58:30.083720",
     "exception": false,
     "start_time": "2020-11-21T19:58:29.965983",
     "status": "completed"
    },
    "tags": []
   },
   "outputs": [],
   "source": [
    "class Token(dict):\n",
    "    pass\n",
    "\n",
    "\n",
    "class CoNLLDictorizer:\n",
    "\n",
    "    def __init__(self, column_names, sent_sep='\\n\\n', col_sep=' +'):\n",
    "        self.column_names = column_names\n",
    "        self.sent_sep = sent_sep\n",
    "        self.col_sep = col_sep\n",
    "\n",
    "    def fit(self):\n",
    "        pass\n",
    "\n",
    "    def transform(self, corpus):\n",
    "        corpus = corpus.strip()\n",
    "        sentences = re.split(self.sent_sep, corpus)\n",
    "        return list(map(self._split_in_words, sentences))\n",
    "\n",
    "    def fit_transform(self, corpus):\n",
    "        return self.transform(corpus)\n",
    "\n",
    "    def _split_in_words(self, sentence):\n",
    "        rows = re.split('\\n', sentence)\n",
    "        return [Token(dict(zip(self.column_names,\n",
    "                               re.split(self.col_sep, row))))\n",
    "                for row in rows]"
   ]
  },
  {
   "cell_type": "code",
   "execution_count": 6,
   "metadata": {
    "execution": {
     "iopub.execute_input": "2020-11-21T19:58:30.296408Z",
     "iopub.status.busy": "2020-11-21T19:58:30.295500Z",
     "iopub.status.idle": "2020-11-21T19:58:34.322224Z",
     "shell.execute_reply": "2020-11-21T19:58:34.321664Z"
    },
    "papermill": {
     "duration": 4.135071,
     "end_time": "2020-11-21T19:58:34.322338",
     "exception": false,
     "start_time": "2020-11-21T19:58:30.187267",
     "status": "completed"
    },
    "tags": []
   },
   "outputs": [],
   "source": [
    "conll_dict = CoNLLDictorizer(column_names, col_sep=' +')\n",
    "train_dict = conll_dict.transform(train_sentences)\n",
    "dev_dict = conll_dict.transform(dev_sentences)\n",
    "test_dict = conll_dict.transform(test_sentences)"
   ]
  },
  {
   "cell_type": "code",
   "execution_count": 7,
   "metadata": {
    "execution": {
     "iopub.execute_input": "2020-11-21T19:58:34.469196Z",
     "iopub.status.busy": "2020-11-21T19:58:34.468370Z",
     "iopub.status.idle": "2020-11-21T19:58:34.472693Z",
     "shell.execute_reply": "2020-11-21T19:58:34.473468Z"
    },
    "papermill": {
     "duration": 0.080511,
     "end_time": "2020-11-21T19:58:34.473631",
     "exception": false,
     "start_time": "2020-11-21T19:58:34.393120",
     "status": "completed"
    },
    "tags": []
   },
   "outputs": [
    {
     "name": "stdout",
     "output_type": "stream",
     "text": [
      "[{'form': '-DOCSTART-', 'ppos': '-X-', 'pchunk': 'O', 'ner': 'O'}]\n",
      "{'form': 'EU', 'ppos': 'NNP', 'pchunk': 'I-NP', 'ner': 'I-ORG'}\n",
      "{'form': 'rejects', 'ppos': 'VBZ', 'pchunk': 'I-VP', 'ner': 'O'}\n",
      "{'form': 'German', 'ppos': 'JJ', 'pchunk': 'I-NP', 'ner': 'I-MISC'}\n",
      "{'form': 'call', 'ppos': 'NN', 'pchunk': 'I-NP', 'ner': 'O'}\n",
      "{'form': 'to', 'ppos': 'TO', 'pchunk': 'I-VP', 'ner': 'O'}\n",
      "{'form': 'boycott', 'ppos': 'VB', 'pchunk': 'I-VP', 'ner': 'O'}\n",
      "{'form': 'British', 'ppos': 'JJ', 'pchunk': 'I-NP', 'ner': 'I-MISC'}\n",
      "{'form': 'lamb', 'ppos': 'NN', 'pchunk': 'I-NP', 'ner': 'O'}\n",
      "{'form': '.', 'ppos': '.', 'pchunk': 'O', 'ner': 'O'}\n"
     ]
    }
   ],
   "source": [
    "print(train_dict[0])\n",
    "print('\\n'.join(map(str, train_dict[1])))"
   ]
  },
  {
   "cell_type": "markdown",
   "metadata": {
    "papermill": {
     "duration": 0.069935,
     "end_time": "2020-11-21T19:58:34.616341",
     "exception": false,
     "start_time": "2020-11-21T19:58:34.546406",
     "status": "completed"
    },
    "tags": []
   },
   "source": [
    "## Evaluating your Models"
   ]
  },
  {
   "cell_type": "markdown",
   "metadata": {
    "papermill": {
     "duration": 0.071343,
     "end_time": "2020-11-21T19:58:34.758514",
     "exception": false,
     "start_time": "2020-11-21T19:58:34.687171",
     "status": "completed"
    },
    "tags": []
   },
   "source": [
    "You will train the models with the traiing set and the test set to evaluate them. For this, you will apply the `conlleval` script that will compute the harmonic mean of the precision and recall: F1. \n",
    "\n",
    "`conlleval` was written in Perl and you have a local copy of this script in `/usr/local/cs/EDAN95/datasets/ner/bin`. Some people rewrote it in Python and you will use such such a translation in this lab. The line below installs it."
   ]
  },
  {
   "cell_type": "code",
   "execution_count": 8,
   "metadata": {
    "execution": {
     "iopub.execute_input": "2020-11-21T19:58:34.908314Z",
     "iopub.status.busy": "2020-11-21T19:58:34.907410Z",
     "iopub.status.idle": "2020-11-21T19:58:46.407734Z",
     "shell.execute_reply": "2020-11-21T19:58:46.405882Z"
    },
    "papermill": {
     "duration": 11.577503,
     "end_time": "2020-11-21T19:58:46.407878",
     "exception": false,
     "start_time": "2020-11-21T19:58:34.830375",
     "status": "completed"
    },
    "tags": []
   },
   "outputs": [
    {
     "name": "stdout",
     "output_type": "stream",
     "text": [
      "Collecting conlleval\r\n",
      "  Downloading conlleval-0.2-py3-none-any.whl (5.4 kB)\r\n",
      "Installing collected packages: conlleval\r\n",
      "Successfully installed conlleval-0.2\r\n"
     ]
    }
   ],
   "source": [
    "!pip install conlleval\n",
    "import conlleval"
   ]
  },
  {
   "cell_type": "markdown",
   "metadata": {
    "papermill": {
     "duration": 0.071073,
     "end_time": "2020-11-21T19:58:46.550419",
     "exception": false,
     "start_time": "2020-11-21T19:58:46.479346",
     "status": "completed"
    },
    "tags": []
   },
   "source": [
    "## Collecting the Embeddings"
   ]
  },
  {
   "cell_type": "markdown",
   "metadata": {
    "papermill": {
     "duration": 0.071101,
     "end_time": "2020-11-21T19:58:46.693744",
     "exception": false,
     "start_time": "2020-11-21T19:58:46.622643",
     "status": "completed"
    },
    "tags": []
   },
   "source": [
    "You will represent the words with the GloVe embeddings:\n",
    "1. Download the GloVe embeddings 6B from <a href=\"https://nlp.stanford.edu/projects/glove/\">https://nlp.stanford.edu/projects/glove/</a> and keep the 100d vectors.\n",
    "2. You have a local copy of this script in `/usr/local/cs/EDAN95/datasets/`;\n",
    "3. Apply a function that reads GloVe embeddings and store them in a dictionary, where the keys will be the words and the values, the embeddings."
   ]
  },
  {
   "cell_type": "code",
   "execution_count": 9,
   "metadata": {
    "execution": {
     "iopub.execute_input": "2020-11-21T19:58:46.844740Z",
     "iopub.status.busy": "2020-11-21T19:58:46.843964Z",
     "iopub.status.idle": "2020-11-21T19:58:46.847052Z",
     "shell.execute_reply": "2020-11-21T19:58:46.846552Z"
    },
    "papermill": {
     "duration": 0.07988,
     "end_time": "2020-11-21T19:58:46.847180",
     "exception": false,
     "start_time": "2020-11-21T19:58:46.767300",
     "status": "completed"
    },
    "tags": []
   },
   "outputs": [],
   "source": [
    "embedding_file = '/kaggle/input/glove6b/glove.6B.100d.txt'"
   ]
  },
  {
   "cell_type": "code",
   "execution_count": 10,
   "metadata": {
    "execution": {
     "iopub.execute_input": "2020-11-21T19:58:47.007960Z",
     "iopub.status.busy": "2020-11-21T19:58:47.006968Z",
     "iopub.status.idle": "2020-11-21T19:58:47.009765Z",
     "shell.execute_reply": "2020-11-21T19:58:47.010290Z"
    },
    "papermill": {
     "duration": 0.091382,
     "end_time": "2020-11-21T19:58:47.010454",
     "exception": false,
     "start_time": "2020-11-21T19:58:46.919072",
     "status": "completed"
    },
    "tags": []
   },
   "outputs": [],
   "source": [
    "def read_embeddings(file):\n",
    "    \"\"\"\n",
    "    Return the embeddings in the from of a dictionary\n",
    "    :param file:\n",
    "    :return:\n",
    "    \"\"\"\n",
    "    embeddings = {}\n",
    "    glove = open(file, encoding='utf8')\n",
    "    for line in glove:\n",
    "        values = line.strip().split()\n",
    "        word = values[0]\n",
    "        vector = np.array(values[1:], dtype='float32')\n",
    "        embeddings[word] = vector\n",
    "    glove.close()\n",
    "    return embeddings"
   ]
  },
  {
   "cell_type": "code",
   "execution_count": 11,
   "metadata": {
    "execution": {
     "iopub.execute_input": "2020-11-21T19:58:47.161680Z",
     "iopub.status.busy": "2020-11-21T19:58:47.161062Z",
     "iopub.status.idle": "2020-11-21T19:59:08.908310Z",
     "shell.execute_reply": "2020-11-21T19:59:08.908932Z"
    },
    "papermill": {
     "duration": 21.825517,
     "end_time": "2020-11-21T19:59:08.909127",
     "exception": false,
     "start_time": "2020-11-21T19:58:47.083610",
     "status": "completed"
    },
    "tags": []
   },
   "outputs": [
    {
     "name": "stdout",
     "output_type": "stream",
     "text": [
      "# words in embedding dictionary: 400000\n"
     ]
    }
   ],
   "source": [
    "# We read the embeddings\n",
    "embeddings_dict = read_embeddings(embedding_file)\n",
    "embedded_words = sorted(list(embeddings_dict.keys()))\n",
    "print('# words in embedding dictionary:', len(embedded_words))"
   ]
  },
  {
   "cell_type": "markdown",
   "metadata": {
    "papermill": {
     "duration": 0.073559,
     "end_time": "2020-11-21T19:59:09.056764",
     "exception": false,
     "start_time": "2020-11-21T19:59:08.983205",
     "status": "completed"
    },
    "tags": []
   },
   "source": [
    "Using a cosine similarity, write a `closest(target_word, embeddings, count=10)` that computes the 5 closest words to the words _table_, _france_, and _sweden_"
   ]
  },
  {
   "cell_type": "code",
   "execution_count": 12,
   "metadata": {
    "execution": {
     "iopub.execute_input": "2020-11-21T19:59:09.235222Z",
     "iopub.status.busy": "2020-11-21T19:59:09.233276Z",
     "iopub.status.idle": "2020-11-21T19:59:09.235927Z",
     "shell.execute_reply": "2020-11-21T19:59:09.236433Z"
    },
    "papermill": {
     "duration": 0.104925,
     "end_time": "2020-11-21T19:59:09.236559",
     "exception": false,
     "start_time": "2020-11-21T19:59:09.131634",
     "status": "completed"
    },
    "tags": []
   },
   "outputs": [],
   "source": [
    "from numpy import dot\n",
    "from numpy.linalg import norm\n",
    "\n",
    "def cosine_similarity(arr1, arr2):\n",
    "    return dot(arr1, arr2)/(norm(arr1)*norm(arr2))\n",
    "\n",
    "\n",
    "def closest(target_word, embeddings, count=10):\n",
    "    embedded_words = sorted(list(embeddings.keys()))\n",
    "    closest_words = []\n",
    "    closest_cos_sim = []\n",
    "    if target_word in embeddings:\n",
    "        for word in embeddings:\n",
    "            cos_sim = cosine_similarity(embeddings[target_word], embeddings[word])\n",
    "            if len(closest_words) >= count:\n",
    "                if cos_sim > min(closest_cos_sim):\n",
    "                    replace_ind = closest_cos_sim.index(min(closest_cos_sim))\n",
    "                    closest_words[replace_ind] = word\n",
    "                    closest_cos_sim[replace_ind] = cos_sim\n",
    "            else:\n",
    "                closest_words.append(word)\n",
    "                closest_cos_sim.append(cos_sim)\n",
    "        \n",
    "    return closest_words"
   ]
  },
  {
   "cell_type": "code",
   "execution_count": 13,
   "metadata": {
    "execution": {
     "iopub.execute_input": "2020-11-21T19:59:09.701511Z",
     "iopub.status.busy": "2020-11-21T19:59:09.700147Z",
     "iopub.status.idle": "2020-11-21T19:59:19.776785Z",
     "shell.execute_reply": "2020-11-21T19:59:19.775632Z"
    },
    "papermill": {
     "duration": 10.465539,
     "end_time": "2020-11-21T19:59:19.776914",
     "exception": false,
     "start_time": "2020-11-21T19:59:09.311375",
     "status": "completed"
    },
    "tags": []
   },
   "outputs": [
    {
     "data": {
      "text/plain": [
       "['france',\n",
       " 'britain',\n",
       " 'germany',\n",
       " 'spain',\n",
       " 'europe',\n",
       " 'italy',\n",
       " 'belgium',\n",
       " 'paris',\n",
       " 'netherlands',\n",
       " 'french']"
      ]
     },
     "execution_count": 13,
     "metadata": {},
     "output_type": "execute_result"
    }
   ],
   "source": [
    "closest('france', embeddings_dict)"
   ]
  },
  {
   "cell_type": "code",
   "execution_count": 14,
   "metadata": {
    "execution": {
     "iopub.execute_input": "2020-11-21T19:59:20.253427Z",
     "iopub.status.busy": "2020-11-21T19:59:20.246555Z",
     "iopub.status.idle": "2020-11-21T19:59:29.678480Z",
     "shell.execute_reply": "2020-11-21T19:59:29.677865Z"
    },
    "papermill": {
     "duration": 9.826184,
     "end_time": "2020-11-21T19:59:29.678585",
     "exception": false,
     "start_time": "2020-11-21T19:59:19.852401",
     "status": "completed"
    },
    "tags": []
   },
   "outputs": [
    {
     "data": {
      "text/plain": [
       "['here',\n",
       " 'room',\n",
       " 'top',\n",
       " 'tables',\n",
       " 'sit',\n",
       " 'table',\n",
       " 'place',\n",
       " 'pool',\n",
       " 'side',\n",
       " 'bottom']"
      ]
     },
     "execution_count": 14,
     "metadata": {},
     "output_type": "execute_result"
    }
   ],
   "source": [
    "closest('table', embeddings_dict)"
   ]
  },
  {
   "cell_type": "code",
   "execution_count": 15,
   "metadata": {
    "execution": {
     "iopub.execute_input": "2020-11-21T19:59:30.153604Z",
     "iopub.status.busy": "2020-11-21T19:59:30.147896Z",
     "iopub.status.idle": "2020-11-21T19:59:39.750593Z",
     "shell.execute_reply": "2020-11-21T19:59:39.749641Z"
    },
    "papermill": {
     "duration": 9.995365,
     "end_time": "2020-11-21T19:59:39.750718",
     "exception": false,
     "start_time": "2020-11-21T19:59:29.755353",
     "status": "completed"
    },
    "tags": []
   },
   "outputs": [
    {
     "data": {
      "text/plain": [
       "['germany',\n",
       " 'denmark',\n",
       " 'finland',\n",
       " 'sweden',\n",
       " 'belgium',\n",
       " 'switzerland',\n",
       " 'swedish',\n",
       " 'netherlands',\n",
       " 'norway',\n",
       " 'austria']"
      ]
     },
     "execution_count": 15,
     "metadata": {},
     "output_type": "execute_result"
    }
   ],
   "source": [
    "closest('sweden', embeddings_dict)"
   ]
  },
  {
   "cell_type": "markdown",
   "metadata": {
    "papermill": {
     "duration": 0.078503,
     "end_time": "2020-11-21T19:59:39.904764",
     "exception": false,
     "start_time": "2020-11-21T19:59:39.826261",
     "status": "completed"
    },
    "tags": []
   },
   "source": [
    "## Extracting the $\\mathbf{X}$ and $\\mathbf{Y}$ Lists of Symbols"
   ]
  },
  {
   "cell_type": "markdown",
   "metadata": {
    "papermill": {
     "duration": 0.076876,
     "end_time": "2020-11-21T19:59:40.059594",
     "exception": false,
     "start_time": "2020-11-21T19:59:39.982718",
     "status": "completed"
    },
    "tags": []
   },
   "source": [
    "Write a `build_sequences(corpus_dict, key_x='form', key_y='ner', tolower=True)` function that for each sentence returns the $\\mathbf{x}$ and $\\mathbf{y}$ lists of symbols consisting of words and NER tags."
   ]
  },
  {
   "cell_type": "code",
   "execution_count": 16,
   "metadata": {
    "execution": {
     "iopub.execute_input": "2020-11-21T19:59:40.222956Z",
     "iopub.status.busy": "2020-11-21T19:59:40.222159Z",
     "iopub.status.idle": "2020-11-21T19:59:40.225372Z",
     "shell.execute_reply": "2020-11-21T19:59:40.224735Z"
    },
    "papermill": {
     "duration": 0.088715,
     "end_time": "2020-11-21T19:59:40.225471",
     "exception": false,
     "start_time": "2020-11-21T19:59:40.136756",
     "status": "completed"
    },
    "tags": []
   },
   "outputs": [],
   "source": [
    "def build_sequences(corpus_dict, key_x='form', key_y='ner', tolower=True):\n",
    "    x = []\n",
    "    y = []\n",
    "    for sentence in corpus_dict:\n",
    "        x_sent = []\n",
    "        y_sent = []\n",
    "        for word in sentence:\n",
    "            if tolower == True: x_sent.append(word[key_x].lower())\n",
    "            else: x_sent.append(word[key_x])\n",
    "            y_sent.append(word[key_y])\n",
    "        x.append(x_sent)\n",
    "        y.append(y_sent)\n",
    "        \n",
    "    return x, y"
   ]
  },
  {
   "cell_type": "markdown",
   "metadata": {
    "papermill": {
     "duration": 0.079441,
     "end_time": "2020-11-21T19:59:40.383756",
     "exception": false,
     "start_time": "2020-11-21T19:59:40.304315",
     "status": "completed"
    },
    "tags": []
   },
   "source": [
    "Apply this function to your datasets so that you create $\\mathbf{X}$ and $\\mathbf{Y}$ lists of lists consisting of words and NER tags\n",
    "        \n",
    "For the second sentence of the training set, you should have:<br/>\n",
    "<tt>x = ['eu', 'rejects', 'german', 'call', 'to', 'boycott', 'british', 'lamb', '.']</tt><br/>\n",
    "<tt>y = ['I-ORG', 'O', 'I-MISC', 'O', 'O', 'O', 'I-MISC', 'O', 'O']</tt><br/>\n",
    "Some datasets you may find on the web use a different NER tagset, where <tt>I-</tt> is\n",
    "replaced with <tt>B-</tt>, like <tt>B-ORG</tt> instead of <tt>I-ORG</tt>. This will not change the results."
   ]
  },
  {
   "cell_type": "code",
   "execution_count": 17,
   "metadata": {
    "execution": {
     "iopub.execute_input": "2020-11-21T19:59:40.576345Z",
     "iopub.status.busy": "2020-11-21T19:59:40.575517Z",
     "iopub.status.idle": "2020-11-21T19:59:40.736393Z",
     "shell.execute_reply": "2020-11-21T19:59:40.736917Z"
    },
    "papermill": {
     "duration": 0.276695,
     "end_time": "2020-11-21T19:59:40.737053",
     "exception": false,
     "start_time": "2020-11-21T19:59:40.460358",
     "status": "completed"
    },
    "tags": []
   },
   "outputs": [
    {
     "name": "stdout",
     "output_type": "stream",
     "text": [
      "First sentence, words ['eu', 'rejects', 'german', 'call', 'to', 'boycott', 'british', 'lamb', '.']\n",
      "First sentence, NER ['I-ORG', 'O', 'I-MISC', 'O', 'O', 'O', 'I-MISC', 'O', 'O']\n"
     ]
    }
   ],
   "source": [
    "X, Y = build_sequences(train_dict, key_x='form', key_y='ner')\n",
    "print('First sentence, words', X[1])\n",
    "print('First sentence, NER', Y[1])"
   ]
  },
  {
   "cell_type": "markdown",
   "metadata": {
    "papermill": {
     "duration": 0.077467,
     "end_time": "2020-11-21T19:59:40.893721",
     "exception": false,
     "start_time": "2020-11-21T19:59:40.816254",
     "status": "completed"
    },
    "tags": []
   },
   "source": [
    "## Vocabulary"
   ]
  },
  {
   "cell_type": "markdown",
   "metadata": {
    "papermill": {
     "duration": 0.090154,
     "end_time": "2020-11-21T19:59:41.062636",
     "exception": false,
     "start_time": "2020-11-21T19:59:40.972482",
     "status": "completed"
    },
    "tags": []
   },
   "source": [
    "Create a vocabulary of all the words observed in the training set and the words in GloVe. You should find 402,595 different words. You will proceed in two steps.\n",
    "\n",
    "First extract the list of unique words from the CoNLL training set and the list of tags. You will sort them"
   ]
  },
  {
   "cell_type": "code",
   "execution_count": 18,
   "metadata": {
    "execution": {
     "iopub.execute_input": "2020-11-21T19:59:41.273439Z",
     "iopub.status.busy": "2020-11-21T19:59:41.272576Z",
     "iopub.status.idle": "2020-11-21T19:59:41.294385Z",
     "shell.execute_reply": "2020-11-21T19:59:41.293851Z"
    },
    "papermill": {
     "duration": 0.142553,
     "end_time": "2020-11-21T19:59:41.294490",
     "exception": false,
     "start_time": "2020-11-21T19:59:41.151937",
     "status": "completed"
    },
    "tags": []
   },
   "outputs": [],
   "source": [
    "words = sorted(set([word for sentence in X for word in sentence]))\n",
    "ner = sorted(set([tag for sentence in Y for tag in sentence]))"
   ]
  },
  {
   "cell_type": "code",
   "execution_count": 19,
   "metadata": {
    "execution": {
     "iopub.execute_input": "2020-11-21T19:59:41.453599Z",
     "iopub.status.busy": "2020-11-21T19:59:41.452735Z",
     "iopub.status.idle": "2020-11-21T19:59:41.457760Z",
     "shell.execute_reply": "2020-11-21T19:59:41.458456Z"
    },
    "papermill": {
     "duration": 0.087238,
     "end_time": "2020-11-21T19:59:41.458631",
     "exception": false,
     "start_time": "2020-11-21T19:59:41.371393",
     "status": "completed"
    },
    "tags": []
   },
   "outputs": [
    {
     "name": "stdout",
     "output_type": "stream",
     "text": [
      "# words seen in training corpus: 21010\n",
      "# NER tags seen: 8\n"
     ]
    }
   ],
   "source": [
    "print('# words seen in training corpus:', len(words))\n",
    "print('# NER tags seen:', len(ner))"
   ]
  },
  {
   "cell_type": "markdown",
   "metadata": {
    "papermill": {
     "duration": 0.078336,
     "end_time": "2020-11-21T19:59:41.615748",
     "exception": false,
     "start_time": "2020-11-21T19:59:41.537412",
     "status": "completed"
    },
    "tags": []
   },
   "source": [
    "Then merge the list of unique CoNLL words with the words in the embedding file. You will sort this list"
   ]
  },
  {
   "cell_type": "code",
   "execution_count": 20,
   "metadata": {
    "execution": {
     "iopub.execute_input": "2020-11-21T19:59:42.251705Z",
     "iopub.status.busy": "2020-11-21T19:59:42.250836Z",
     "iopub.status.idle": "2020-11-21T19:59:42.255414Z",
     "shell.execute_reply": "2020-11-21T19:59:42.254461Z"
    },
    "papermill": {
     "duration": 0.560884,
     "end_time": "2020-11-21T19:59:42.255527",
     "exception": false,
     "start_time": "2020-11-21T19:59:41.694643",
     "status": "completed"
    },
    "tags": []
   },
   "outputs": [],
   "source": [
    "vocabulary_words = sorted(set(embedded_words + list(words)))"
   ]
  },
  {
   "cell_type": "code",
   "execution_count": 21,
   "metadata": {
    "execution": {
     "iopub.execute_input": "2020-11-21T19:59:42.413780Z",
     "iopub.status.busy": "2020-11-21T19:59:42.413139Z",
     "iopub.status.idle": "2020-11-21T19:59:42.417899Z",
     "shell.execute_reply": "2020-11-21T19:59:42.418558Z"
    },
    "papermill": {
     "duration": 0.086466,
     "end_time": "2020-11-21T19:59:42.418728",
     "exception": false,
     "start_time": "2020-11-21T19:59:42.332262",
     "status": "completed"
    },
    "tags": []
   },
   "outputs": [
    {
     "name": "stdout",
     "output_type": "stream",
     "text": [
      "# words in the vocabulary: embeddings and corpus: 402595\n"
     ]
    }
   ],
   "source": [
    "print('# words in the vocabulary: embeddings and corpus:', len(vocabulary_words))"
   ]
  },
  {
   "cell_type": "markdown",
   "metadata": {
    "papermill": {
     "duration": 0.077417,
     "end_time": "2020-11-21T19:59:42.589538",
     "exception": false,
     "start_time": "2020-11-21T19:59:42.512121",
     "status": "completed"
    },
    "tags": []
   },
   "source": [
    "## Index"
   ]
  },
  {
   "cell_type": "markdown",
   "metadata": {
    "papermill": {
     "duration": 0.078079,
     "end_time": "2020-11-21T19:59:42.746035",
     "exception": false,
     "start_time": "2020-11-21T19:59:42.667956",
     "status": "completed"
    },
    "tags": []
   },
   "source": [
    "Create indices `word2idx`, `ner2idx` and inverted indices `idx2word`, `idx2ner` for the words and the NER: i.e. you will associate each word with a number. You will use index 0 for the padding symbol and 1 for unknown words."
   ]
  },
  {
   "cell_type": "code",
   "execution_count": 22,
   "metadata": {
    "execution": {
     "iopub.execute_input": "2020-11-21T19:59:42.906961Z",
     "iopub.status.busy": "2020-11-21T19:59:42.905914Z",
     "iopub.status.idle": "2020-11-21T19:59:42.910530Z",
     "shell.execute_reply": "2020-11-21T19:59:42.909885Z"
    },
    "papermill": {
     "duration": 0.087433,
     "end_time": "2020-11-21T19:59:42.910641",
     "exception": false,
     "start_time": "2020-11-21T19:59:42.823208",
     "status": "completed"
    },
    "tags": []
   },
   "outputs": [
    {
     "data": {
      "text/plain": [
       "['B-LOC', 'B-MISC', 'B-ORG', 'I-LOC', 'I-MISC', 'I-ORG', 'I-PER', 'O']"
      ]
     },
     "execution_count": 22,
     "metadata": {},
     "output_type": "execute_result"
    }
   ],
   "source": [
    "ner"
   ]
  },
  {
   "cell_type": "code",
   "execution_count": 23,
   "metadata": {
    "execution": {
     "iopub.execute_input": "2020-11-21T19:59:43.213226Z",
     "iopub.status.busy": "2020-11-21T19:59:43.177034Z",
     "iopub.status.idle": "2020-11-21T19:59:43.298301Z",
     "shell.execute_reply": "2020-11-21T19:59:43.297576Z"
    },
    "papermill": {
     "duration": 0.305812,
     "end_time": "2020-11-21T19:59:43.298423",
     "exception": false,
     "start_time": "2020-11-21T19:59:42.992611",
     "status": "completed"
    },
    "tags": []
   },
   "outputs": [],
   "source": [
    "idx2word = dict(enumerate(vocabulary_words, start=2))\n",
    "idx2ner = dict(enumerate(ner, start=2))\n",
    "word2idx = {v: k for k, v in idx2word.items()}\n",
    "ner2idx = {v: k for k, v in idx2ner.items()}"
   ]
  },
  {
   "cell_type": "code",
   "execution_count": 24,
   "metadata": {
    "execution": {
     "iopub.execute_input": "2020-11-21T19:59:43.599749Z",
     "iopub.status.busy": "2020-11-21T19:59:43.598383Z",
     "iopub.status.idle": "2020-11-21T19:59:43.603458Z",
     "shell.execute_reply": "2020-11-21T19:59:43.600430Z"
    },
    "papermill": {
     "duration": 0.226669,
     "end_time": "2020-11-21T19:59:43.603623",
     "exception": false,
     "start_time": "2020-11-21T19:59:43.376954",
     "status": "completed"
    },
    "tags": []
   },
   "outputs": [
    {
     "name": "stdout",
     "output_type": "stream",
     "text": [
      "word index: [('!', 2), ('!!', 3), ('!!!', 4), ('!!!!', 5), ('!!!!!', 6), ('!?', 7), ('!?!', 8), ('\"', 9), ('#', 10), ('##', 11), ('###', 12), ('#a', 13), ('#aabccc', 14), ('#b', 15), ('#c', 16), ('#cc', 17), ('#ccc', 18), ('#cccccc', 19), ('#ccccff', 20), ('#d', 21), ('#daa', 22), ('#dcdcdc', 23), ('#e', 24), ('#f', 25), ('#faf', 26)]\n",
      "NER index: [('B-LOC', 2), ('B-MISC', 3), ('B-ORG', 4), ('I-LOC', 5), ('I-MISC', 6), ('I-ORG', 7), ('I-PER', 8), ('O', 9)]\n"
     ]
    }
   ],
   "source": [
    "print('word index:', list(word2idx.items())[:25])\n",
    "print('NER index:', list(ner2idx.items())[:25])"
   ]
  },
  {
   "cell_type": "markdown",
   "metadata": {
    "papermill": {
     "duration": 0.079138,
     "end_time": "2020-11-21T19:59:43.768209",
     "exception": false,
     "start_time": "2020-11-21T19:59:43.689071",
     "status": "completed"
    },
    "tags": []
   },
   "source": [
    "## Embedding Matrix"
   ]
  },
  {
   "cell_type": "markdown",
   "metadata": {
    "papermill": {
     "duration": 0.079354,
     "end_time": "2020-11-21T19:59:43.925252",
     "exception": false,
     "start_time": "2020-11-21T19:59:43.845898",
     "status": "completed"
    },
    "tags": []
   },
   "source": [
    "Create a matrix of dimensions $(M, N)$, where $M$ will be the size of the vocabulary: The unique words in the training set and the words in GloVe, and $N$, the dimension of the embeddings.\n",
    "The padding symbol and the unknown word symbol will be part of the vocabulary. The shape of your matrix should be: (402597, 100). Initialize it with random values."
   ]
  },
  {
   "cell_type": "code",
   "execution_count": 25,
   "metadata": {
    "execution": {
     "iopub.execute_input": "2020-11-21T19:59:44.091631Z",
     "iopub.status.busy": "2020-11-21T19:59:44.090678Z",
     "iopub.status.idle": "2020-11-21T19:59:44.456018Z",
     "shell.execute_reply": "2020-11-21T19:59:44.455460Z"
    },
    "papermill": {
     "duration": 0.450017,
     "end_time": "2020-11-21T19:59:44.456165",
     "exception": false,
     "start_time": "2020-11-21T19:59:44.006148",
     "status": "completed"
    },
    "tags": []
   },
   "outputs": [],
   "source": [
    "import numpy as np\n",
    "embedding_matrix = np.random.rand(len(word2idx) + 2, 100)"
   ]
  },
  {
   "cell_type": "code",
   "execution_count": 26,
   "metadata": {
    "execution": {
     "iopub.execute_input": "2020-11-21T19:59:44.623101Z",
     "iopub.status.busy": "2020-11-21T19:59:44.622357Z",
     "iopub.status.idle": "2020-11-21T19:59:44.626983Z",
     "shell.execute_reply": "2020-11-21T19:59:44.627634Z"
    },
    "papermill": {
     "duration": 0.089687,
     "end_time": "2020-11-21T19:59:44.627787",
     "exception": false,
     "start_time": "2020-11-21T19:59:44.538100",
     "status": "completed"
    },
    "tags": []
   },
   "outputs": [
    {
     "name": "stdout",
     "output_type": "stream",
     "text": [
      "Shape of embedding matrix: (402597, 100)\n"
     ]
    }
   ],
   "source": [
    "print('Shape of embedding matrix:', embedding_matrix.shape)"
   ]
  },
  {
   "cell_type": "markdown",
   "metadata": {
    "papermill": {
     "duration": 0.080315,
     "end_time": "2020-11-21T19:59:44.788350",
     "exception": false,
     "start_time": "2020-11-21T19:59:44.708035",
     "status": "completed"
    },
    "tags": []
   },
   "source": [
    "Fill the matrix with the GloVe embeddings when available. You will use the indices from the previous section. You will call `out_of_embeddings` the list of words in CoNLL, but not in the embedding list."
   ]
  },
  {
   "cell_type": "code",
   "execution_count": 27,
   "metadata": {
    "execution": {
     "iopub.execute_input": "2020-11-21T19:59:44.991102Z",
     "iopub.status.busy": "2020-11-21T19:59:44.989483Z",
     "iopub.status.idle": "2020-11-21T19:59:46.416774Z",
     "shell.execute_reply": "2020-11-21T19:59:46.417933Z"
    },
    "papermill": {
     "duration": 1.551362,
     "end_time": "2020-11-21T19:59:46.418144",
     "exception": false,
     "start_time": "2020-11-21T19:59:44.866782",
     "status": "completed"
    },
    "tags": []
   },
   "outputs": [],
   "source": [
    "out_of_embeddings = []\n",
    "for word_ind in range(2, embedding_matrix.shape[0]):\n",
    "    word = idx2word[word_ind]\n",
    "    if word in embeddings_dict:\n",
    "        embedding_matrix[word_ind][:] = embeddings_dict[word]\n",
    "    else: out_of_embeddings.append(word)"
   ]
  },
  {
   "cell_type": "code",
   "execution_count": 28,
   "metadata": {
    "execution": {
     "iopub.execute_input": "2020-11-21T19:59:46.676396Z",
     "iopub.status.busy": "2020-11-21T19:59:46.675450Z",
     "iopub.status.idle": "2020-11-21T19:59:46.682028Z",
     "shell.execute_reply": "2020-11-21T19:59:46.682748Z"
    },
    "papermill": {
     "duration": 0.151729,
     "end_time": "2020-11-21T19:59:46.682933",
     "exception": false,
     "start_time": "2020-11-21T19:59:46.531204",
     "status": "completed"
    },
    "tags": []
   },
   "outputs": [
    {
     "name": "stdout",
     "output_type": "stream",
     "text": [
      "Out of embeddings: 2595\n"
     ]
    },
    {
     "data": {
      "text/plain": [
       "['zelezarny',\n",
       " 'zhilan',\n",
       " 'zieger',\n",
       " 'zighayer',\n",
       " 'zilinskiene',\n",
       " 'zirka-nibas',\n",
       " 'zuleeg',\n",
       " 'zundra',\n",
       " 'zwingmann',\n",
       " 'zyrecha']"
      ]
     },
     "execution_count": 28,
     "metadata": {},
     "output_type": "execute_result"
    }
   ],
   "source": [
    "print('Out of embeddings:', len(out_of_embeddings))\n",
    "out_of_embeddings[-10:]"
   ]
  },
  {
   "cell_type": "code",
   "execution_count": 29,
   "metadata": {
    "execution": {
     "iopub.execute_input": "2020-11-21T19:59:46.953215Z",
     "iopub.status.busy": "2020-11-21T19:59:46.952231Z",
     "iopub.status.idle": "2020-11-21T19:59:46.959349Z",
     "shell.execute_reply": "2020-11-21T19:59:46.960679Z"
    },
    "papermill": {
     "duration": 0.124265,
     "end_time": "2020-11-21T19:59:46.960863",
     "exception": false,
     "start_time": "2020-11-21T19:59:46.836598",
     "status": "completed"
    },
    "tags": []
   },
   "outputs": [
    {
     "name": "stdout",
     "output_type": "stream",
     "text": [
      "Embedding of the padding symbol, idx 0, random numbers [0.99700539 0.05560402 0.82106214 0.01471551 0.80582535 0.37538395\n",
      " 0.30269603 0.52270705 0.4153805  0.27994419]\n",
      "Embedding of table [-0.61453998  0.89692998  0.56770998  0.39102    -0.22437     0.49035001\n",
      "  0.10868     0.27410999 -0.23833001 -0.52152997]\n",
      "Embedding of zwingmann, random numbers [0.27323288 0.81227616 0.56051536 0.23630281 0.65771501 0.72034957\n",
      " 0.32045    0.6684907  0.09311806 0.26891462]\n"
     ]
    }
   ],
   "source": [
    "print('Embedding of the padding symbol, idx 0, random numbers', embedding_matrix[0][:10])\n",
    "print('Embedding of table', embedding_matrix[word2idx['table']][:10])\n",
    "print('Embedding of zwingmann, random numbers', embedding_matrix[word2idx['zwingmann']][:10])"
   ]
  },
  {
   "cell_type": "markdown",
   "metadata": {
    "papermill": {
     "duration": 0.109252,
     "end_time": "2020-11-21T19:59:47.176760",
     "exception": false,
     "start_time": "2020-11-21T19:59:47.067508",
     "status": "completed"
    },
    "tags": []
   },
   "source": [
    "## Creating the $\\mathbf{X}$ and $\\mathbf{Y}$ Sequences"
   ]
  },
  {
   "cell_type": "markdown",
   "metadata": {
    "papermill": {
     "duration": 0.081271,
     "end_time": "2020-11-21T19:59:47.412919",
     "exception": false,
     "start_time": "2020-11-21T19:59:47.331648",
     "status": "completed"
    },
    "tags": []
   },
   "source": [
    "You will now create the input and output sequences with numerical indices. First, convert the $\\mathbf{X}$ and $\\mathbf{Y}$ lists of symbols in lists of numbers using the indices you created"
   ]
  },
  {
   "cell_type": "code",
   "execution_count": 30,
   "metadata": {
    "execution": {
     "iopub.execute_input": "2020-11-21T19:59:47.583364Z",
     "iopub.status.busy": "2020-11-21T19:59:47.582094Z",
     "iopub.status.idle": "2020-11-21T19:59:47.585974Z",
     "shell.execute_reply": "2020-11-21T19:59:47.586489Z"
    },
    "papermill": {
     "duration": 0.091472,
     "end_time": "2020-11-21T19:59:47.586609",
     "exception": false,
     "start_time": "2020-11-21T19:59:47.495137",
     "status": "completed"
    },
    "tags": []
   },
   "outputs": [
    {
     "data": {
      "text/plain": [
       "[['O'],\n",
       " ['I-ORG', 'O', 'I-MISC', 'O', 'O', 'O', 'I-MISC', 'O', 'O'],\n",
       " ['I-PER', 'I-PER']]"
      ]
     },
     "execution_count": 30,
     "metadata": {},
     "output_type": "execute_result"
    }
   ],
   "source": [
    "Y[:3]"
   ]
  },
  {
   "cell_type": "raw",
   "metadata": {
    "papermill": {
     "duration": 0.084057,
     "end_time": "2020-11-21T19:59:47.751992",
     "exception": false,
     "start_time": "2020-11-21T19:59:47.667935",
     "status": "completed"
    },
    "tags": []
   },
   "source": [
    "X_idx = to_index(X, word2idx)\n",
    "Y_idx = to_index(Y, ner2idx)"
   ]
  },
  {
   "cell_type": "code",
   "execution_count": 31,
   "metadata": {
    "execution": {
     "iopub.execute_input": "2020-11-21T19:59:47.976305Z",
     "iopub.status.busy": "2020-11-21T19:59:47.955887Z",
     "iopub.status.idle": "2020-11-21T19:59:48.108537Z",
     "shell.execute_reply": "2020-11-21T19:59:48.107939Z"
    },
    "papermill": {
     "duration": 0.27547,
     "end_time": "2020-11-21T19:59:48.108648",
     "exception": false,
     "start_time": "2020-11-21T19:59:47.833178",
     "status": "completed"
    },
    "tags": []
   },
   "outputs": [],
   "source": [
    "X_idx = []\n",
    "for sentence in X:\n",
    "    X_sent_idx = []\n",
    "    for word in sentence:\n",
    "        if word in word2idx:\n",
    "            X_sent_idx.append(word2idx[word])\n",
    "        else: X_dev_sent_idx.append(1)\n",
    "    X_idx.append(X_sent_idx)\n",
    "    \n",
    "Y_idx = []\n",
    "for sentence in Y:\n",
    "    Y_sent_idx = []\n",
    "    for tag in sentence:\n",
    "        if tag in ner2idx:\n",
    "            Y_sent_idx.append(ner2idx[tag])\n",
    "        else: print(tag)\n",
    "    Y_idx.append(Y_sent_idx)"
   ]
  },
  {
   "cell_type": "code",
   "execution_count": 32,
   "metadata": {
    "execution": {
     "iopub.execute_input": "2020-11-21T19:59:48.290755Z",
     "iopub.status.busy": "2020-11-21T19:59:48.289752Z",
     "iopub.status.idle": "2020-11-21T19:59:48.293702Z",
     "shell.execute_reply": "2020-11-21T19:59:48.291428Z"
    },
    "papermill": {
     "duration": 0.099256,
     "end_time": "2020-11-21T19:59:48.293891",
     "exception": false,
     "start_time": "2020-11-21T19:59:48.194635",
     "status": "completed"
    },
    "tags": []
   },
   "outputs": [
    {
     "name": "stdout",
     "output_type": "stream",
     "text": [
      "First sentences, word indices [[935], [142143, 307143, 161836, 91321, 363368, 83766, 85852, 218260, 936], [284434, 79019]]\n",
      "First sentences, POS indices [[9], [7, 9, 6, 9, 9, 9, 6, 9, 9], [8, 8]]\n"
     ]
    }
   ],
   "source": [
    "print('First sentences, word indices', X_idx[:3])\n",
    "print('First sentences, POS indices', Y_idx[:3])"
   ]
  },
  {
   "cell_type": "markdown",
   "metadata": {
    "papermill": {
     "duration": 0.081089,
     "end_time": "2020-11-21T19:59:48.462263",
     "exception": false,
     "start_time": "2020-11-21T19:59:48.381174",
     "status": "completed"
    },
    "tags": []
   },
   "source": [
    "Pad the sentences using the <tt>pad_sequences</tt> function. As maximum length and `maxlen` argument, you will use 150 or greater. What matters is that you have a length that is larger than the maximum length observed in your training and development corpora. After padding, the second sentence you look like (the indices are not necessarily the same).\n",
    "```\n",
    "x = [     0      0      0      0      0      0      0      0      0      0\n",
    "0      0      0      0      0      0      0      0      0      0\n",
    "0      0      0      0      0      0      0      0      0      0\n",
    "0      0      0      0      0      0      0      0      0      0\n",
    "0      0      0      0      0      0      0      0      0      0\n",
    "0      0      0      0      0      0      0      0      0      0\n",
    "0      0      0      0      0      0      0      0      0      0\n",
    "0      0      0      0      0      0      0      0      0      0\n",
    "0      0      0      0      0      0      0      0      0      0\n",
    "0      0      0      0      0      0      0      0      0      0\n",
    "0      0      0      0      0      0      0      0      0      0\n",
    "0      0      0      0      0      0      0      0      0      0\n",
    "0      0      0      0      0      0      0      0      0      0\n",
    "0      0      0      0      0      0      0      0      0      0\n",
    "0 142143 307143 161836  91321 363368  83766  85852 218260    936]\n",
    "y = [0 0 0 0 0 0 0 0 0 0 0 0 0 0 0 0 0 0 0 0 0 0 0 0 0 0 0 0 0 0 0 0 0 0 0 0 0\n",
    "0 0 0 0 0 0 0 0 0 0 0 0 0 0 0 0 0 0 0 0 0 0 0 0 0 0 0 0 0 0 0 0 0 0 0 0 0\n",
    "0 0 0 0 0 0 0 0 0 0 0 0 0 0 0 0 0 0 0 0 0 0 0 0 0 0 0 0 0 0 0 0 0 0 0 0 0\n",
    "0 0 0 0 0 0 0 0 0 0 0 0 0 0 0 0 0 0 0 0 0 0 0 0 0 0 0 0 0 0 7 9 6 9 9 9 6\n",
    "9 9]\n",
    "```"
   ]
  },
  {
   "cell_type": "code",
   "execution_count": 33,
   "metadata": {
    "execution": {
     "iopub.execute_input": "2020-11-21T19:59:48.635668Z",
     "iopub.status.busy": "2020-11-21T19:59:48.634690Z",
     "iopub.status.idle": "2020-11-21T19:59:48.902188Z",
     "shell.execute_reply": "2020-11-21T19:59:48.902679Z"
    },
    "papermill": {
     "duration": 0.359618,
     "end_time": "2020-11-21T19:59:48.902825",
     "exception": false,
     "start_time": "2020-11-21T19:59:48.543207",
     "status": "completed"
    },
    "tags": []
   },
   "outputs": [],
   "source": [
    "X = pad_sequences(X_idx, maxlen=150)\n",
    "Y = pad_sequences(Y_idx, maxlen=150)"
   ]
  },
  {
   "cell_type": "code",
   "execution_count": 34,
   "metadata": {
    "execution": {
     "iopub.execute_input": "2020-11-21T19:59:49.080953Z",
     "iopub.status.busy": "2020-11-21T19:59:49.080120Z",
     "iopub.status.idle": "2020-11-21T19:59:49.087200Z",
     "shell.execute_reply": "2020-11-21T19:59:49.087997Z"
    },
    "papermill": {
     "duration": 0.100791,
     "end_time": "2020-11-21T19:59:49.088182",
     "exception": false,
     "start_time": "2020-11-21T19:59:48.987391",
     "status": "completed"
    },
    "tags": []
   },
   "outputs": [
    {
     "name": "stdout",
     "output_type": "stream",
     "text": [
      "[     0      0      0      0      0      0      0      0      0      0\n",
      "      0      0      0      0      0      0      0      0      0      0\n",
      "      0      0      0      0      0      0      0      0      0      0\n",
      "      0      0      0      0      0      0      0      0      0      0\n",
      "      0      0      0      0      0      0      0      0      0      0\n",
      "      0      0      0      0      0      0      0      0      0      0\n",
      "      0      0      0      0      0      0      0      0      0      0\n",
      "      0      0      0      0      0      0      0      0      0      0\n",
      "      0      0      0      0      0      0      0      0      0      0\n",
      "      0      0      0      0      0      0      0      0      0      0\n",
      "      0      0      0      0      0      0      0      0      0      0\n",
      "      0      0      0      0      0      0      0      0      0      0\n",
      "      0      0      0      0      0      0      0      0      0      0\n",
      "      0      0      0      0      0      0      0      0      0      0\n",
      "      0 142143 307143 161836  91321 363368  83766  85852 218260    936]\n",
      "[0 0 0 0 0 0 0 0 0 0 0 0 0 0 0 0 0 0 0 0 0 0 0 0 0 0 0 0 0 0 0 0 0 0 0 0 0\n",
      " 0 0 0 0 0 0 0 0 0 0 0 0 0 0 0 0 0 0 0 0 0 0 0 0 0 0 0 0 0 0 0 0 0 0 0 0 0\n",
      " 0 0 0 0 0 0 0 0 0 0 0 0 0 0 0 0 0 0 0 0 0 0 0 0 0 0 0 0 0 0 0 0 0 0 0 0 0\n",
      " 0 0 0 0 0 0 0 0 0 0 0 0 0 0 0 0 0 0 0 0 0 0 0 0 0 0 0 0 0 0 7 9 6 9 9 9 6\n",
      " 9 9]\n"
     ]
    }
   ],
   "source": [
    "print(X[1])\n",
    "print(Y[1])"
   ]
  },
  {
   "cell_type": "code",
   "execution_count": 35,
   "metadata": {
    "execution": {
     "iopub.execute_input": "2020-11-21T19:59:49.266557Z",
     "iopub.status.busy": "2020-11-21T19:59:49.265279Z",
     "iopub.status.idle": "2020-11-21T19:59:49.344193Z",
     "shell.execute_reply": "2020-11-21T19:59:49.343584Z"
    },
    "papermill": {
     "duration": 0.169615,
     "end_time": "2020-11-21T19:59:49.344307",
     "exception": false,
     "start_time": "2020-11-21T19:59:49.174692",
     "status": "completed"
    },
    "tags": []
   },
   "outputs": [],
   "source": [
    "y_train = to_categorical(Y, num_classes=len(ner) + 2)"
   ]
  },
  {
   "cell_type": "code",
   "execution_count": 36,
   "metadata": {
    "execution": {
     "iopub.execute_input": "2020-11-21T19:59:49.518960Z",
     "iopub.status.busy": "2020-11-21T19:59:49.518118Z",
     "iopub.status.idle": "2020-11-21T19:59:49.521820Z",
     "shell.execute_reply": "2020-11-21T19:59:49.522373Z"
    },
    "papermill": {
     "duration": 0.094054,
     "end_time": "2020-11-21T19:59:49.522503",
     "exception": false,
     "start_time": "2020-11-21T19:59:49.428449",
     "status": "completed"
    },
    "tags": []
   },
   "outputs": [
    {
     "data": {
      "text/plain": [
       "array([[1., 0., 0., 0., 0., 0., 0., 0., 0., 0.],\n",
       "       [0., 0., 0., 0., 0., 0., 0., 1., 0., 0.],\n",
       "       [0., 0., 0., 0., 0., 0., 0., 0., 0., 1.],\n",
       "       [0., 0., 0., 0., 0., 0., 1., 0., 0., 0.],\n",
       "       [0., 0., 0., 0., 0., 0., 0., 0., 0., 1.],\n",
       "       [0., 0., 0., 0., 0., 0., 0., 0., 0., 1.],\n",
       "       [0., 0., 0., 0., 0., 0., 0., 0., 0., 1.],\n",
       "       [0., 0., 0., 0., 0., 0., 1., 0., 0., 0.],\n",
       "       [0., 0., 0., 0., 0., 0., 0., 0., 0., 1.],\n",
       "       [0., 0., 0., 0., 0., 0., 0., 0., 0., 1.]], dtype=float32)"
      ]
     },
     "execution_count": 36,
     "metadata": {},
     "output_type": "execute_result"
    }
   ],
   "source": [
    "y_train[1][-10:]"
   ]
  },
  {
   "cell_type": "markdown",
   "metadata": {
    "papermill": {
     "duration": 0.083032,
     "end_time": "2020-11-21T19:59:49.688025",
     "exception": false,
     "start_time": "2020-11-21T19:59:49.604993",
     "status": "completed"
    },
    "tags": []
   },
   "source": [
    "Do the same for the development set: Build the sequences, map them to indices, pad them, and create $\\mathbf{Y}$ vectors"
   ]
  },
  {
   "cell_type": "code",
   "execution_count": 37,
   "metadata": {
    "execution": {
     "iopub.execute_input": "2020-11-21T19:59:49.887772Z",
     "iopub.status.busy": "2020-11-21T19:59:49.877525Z",
     "iopub.status.idle": "2020-11-21T19:59:50.038696Z",
     "shell.execute_reply": "2020-11-21T19:59:50.038098Z"
    },
    "papermill": {
     "duration": 0.267811,
     "end_time": "2020-11-21T19:59:50.038814",
     "exception": false,
     "start_time": "2020-11-21T19:59:49.771003",
     "status": "completed"
    },
    "tags": []
   },
   "outputs": [],
   "source": [
    "# Build sequences\n",
    "X_dev, Y_dev = build_sequences(dev_dict, key_x='form', key_y='ner')\n",
    "\n",
    "# Map to indices\n",
    "X_dev_idx = []\n",
    "for sentence in X_dev:\n",
    "    X_dev_sent_idx = []\n",
    "    for word in sentence:\n",
    "        # Indices > 2\n",
    "        if word in word2idx:\n",
    "            X_dev_sent_idx.append(word2idx[word])\n",
    "        # If word is unknown, it gets index 1\n",
    "        else: X_dev_sent_idx.append(1)\n",
    "    X_dev_idx.append(X_dev_sent_idx)\n",
    "    \n",
    "Y_dev_idx = []\n",
    "for sentence in Y_dev:\n",
    "    Y_dev_sent_idx = []\n",
    "    for tag in sentence:\n",
    "        if tag in ner2idx:\n",
    "            Y_dev_sent_idx.append(ner2idx[tag])\n",
    "        else:\n",
    "            print(tag)\n",
    "    Y_dev_idx.append(Y_dev_sent_idx)\n",
    "\n",
    "# Pad index mappings\n",
    "X_dev = pad_sequences(X_dev_idx, maxlen=150)\n",
    "Y_dev = pad_sequences(Y_dev_idx, maxlen=150)\n",
    "\n",
    "y_dev = to_categorical(Y_dev, num_classes=len(ner) + 2)"
   ]
  },
  {
   "cell_type": "markdown",
   "metadata": {
    "papermill": {
     "duration": 0.084111,
     "end_time": "2020-11-21T19:59:50.209314",
     "exception": false,
     "start_time": "2020-11-21T19:59:50.125203",
     "status": "completed"
    },
    "tags": []
   },
   "source": [
    "## Building a Simple Recurrent Neural Network"
   ]
  },
  {
   "cell_type": "markdown",
   "metadata": {
    "papermill": {
     "duration": 0.082845,
     "end_time": "2020-11-21T19:59:50.378197",
     "exception": false,
     "start_time": "2020-11-21T19:59:50.295352",
     "status": "completed"
    },
    "tags": []
   },
   "source": [
    "Create a simple recurrent network and train a model with the training set. As layers, you will use `Embedding`, `SimpleRNN`, and `Dense`."
   ]
  },
  {
   "cell_type": "code",
   "execution_count": 38,
   "metadata": {
    "execution": {
     "iopub.execute_input": "2020-11-21T19:59:50.553042Z",
     "iopub.status.busy": "2020-11-21T19:59:50.552344Z",
     "iopub.status.idle": "2020-11-21T19:59:55.826213Z",
     "shell.execute_reply": "2020-11-21T19:59:55.826923Z"
    },
    "papermill": {
     "duration": 5.364863,
     "end_time": "2020-11-21T19:59:55.827166",
     "exception": false,
     "start_time": "2020-11-21T19:59:50.462303",
     "status": "completed"
    },
    "tags": []
   },
   "outputs": [
    {
     "name": "stdout",
     "output_type": "stream",
     "text": [
      "Model: \"sequential\"\n",
      "_________________________________________________________________\n",
      "Layer (type)                 Output Shape              Param #   \n",
      "=================================================================\n",
      "embedding (Embedding)        (None, None, 100)         40259700  \n",
      "_________________________________________________________________\n",
      "simple_rnn (SimpleRNN)       (None, None, 100)         20100     \n",
      "_________________________________________________________________\n",
      "simple_rnn_1 (SimpleRNN)     (None, None, 100)         20100     \n",
      "_________________________________________________________________\n",
      "simple_rnn_2 (SimpleRNN)     (None, None, 100)         20100     \n",
      "_________________________________________________________________\n",
      "bidirectional (Bidirectional (None, None, 200)         160800    \n",
      "_________________________________________________________________\n",
      "dropout (Dropout)            (None, None, 200)         0         \n",
      "_________________________________________________________________\n",
      "dense (Dense)                (None, None, 10)          2010      \n",
      "=================================================================\n",
      "Total params: 40,482,810\n",
      "Trainable params: 40,482,810\n",
      "Non-trainable params: 0\n",
      "_________________________________________________________________\n"
     ]
    }
   ],
   "source": [
    "dim = embedding_matrix.shape[1]\n",
    "model = Sequential()\n",
    "model.add(Embedding(embedding_matrix.shape[0], dim, mask_zero=True, input_length=None))\n",
    "model.add(SimpleRNN(dim, return_sequences=True))\n",
    "model.add(SimpleRNN(dim, return_sequences=True))\n",
    "model.add(SimpleRNN(dim, return_sequences=True))\n",
    "model.add(Bidirectional(LSTM(LSTM_UNITS, return_sequences=True)))\n",
    "model.add(Dropout(0.5))\n",
    "model.add(Dense(len(ner) + 2, activation='softmax'))\n",
    "\n",
    "model.layers[0].set_weights([embedding_matrix])\n",
    "model.summary()"
   ]
  },
  {
   "cell_type": "markdown",
   "metadata": {
    "papermill": {
     "duration": 0.086971,
     "end_time": "2020-11-21T19:59:56.033333",
     "exception": false,
     "start_time": "2020-11-21T19:59:55.946362",
     "status": "completed"
    },
    "tags": []
   },
   "source": [
    "Compile your network. "
   ]
  },
  {
   "cell_type": "code",
   "execution_count": 39,
   "metadata": {
    "execution": {
     "iopub.execute_input": "2020-11-21T19:59:56.506366Z",
     "iopub.status.busy": "2020-11-21T19:59:56.505249Z",
     "iopub.status.idle": "2020-11-21T19:59:56.520025Z",
     "shell.execute_reply": "2020-11-21T19:59:56.519430Z"
    },
    "papermill": {
     "duration": 0.402148,
     "end_time": "2020-11-21T19:59:56.520181",
     "exception": false,
     "start_time": "2020-11-21T19:59:56.118033",
     "status": "completed"
    },
    "tags": []
   },
   "outputs": [],
   "source": [
    "model.compile(optimizer='rmsprop',loss='categorical_crossentropy', metrics=['acc'])"
   ]
  },
  {
   "cell_type": "markdown",
   "metadata": {
    "papermill": {
     "duration": 0.082923,
     "end_time": "2020-11-21T19:59:56.686334",
     "exception": false,
     "start_time": "2020-11-21T19:59:56.603411",
     "status": "completed"
    },
    "tags": []
   },
   "source": [
    "Fit it"
   ]
  },
  {
   "cell_type": "code",
   "execution_count": 40,
   "metadata": {
    "execution": {
     "iopub.execute_input": "2020-11-21T19:59:56.866163Z",
     "iopub.status.busy": "2020-11-21T19:59:56.865417Z",
     "iopub.status.idle": "2020-11-21T23:13:25.725549Z",
     "shell.execute_reply": "2020-11-21T23:13:25.724808Z"
    },
    "papermill": {
     "duration": 11608.948989,
     "end_time": "2020-11-21T23:13:25.725670",
     "exception": false,
     "start_time": "2020-11-21T19:59:56.776681",
     "status": "completed"
    },
    "tags": []
   },
   "outputs": [
    {
     "name": "stdout",
     "output_type": "stream",
     "text": [
      "Epoch 1/15\n",
      "469/469 [==============================] - 761s 2s/step - loss: 0.0240 - acc: 0.9219 - val_loss: 0.0150 - val_acc: 0.9544\n",
      "Epoch 2/15\n",
      "469/469 [==============================] - 771s 2s/step - loss: 0.0114 - acc: 0.9612 - val_loss: 0.0141 - val_acc: 0.9578\n",
      "Epoch 3/15\n",
      "469/469 [==============================] - 785s 2s/step - loss: 0.0083 - acc: 0.9719 - val_loss: 0.0115 - val_acc: 0.9675\n",
      "Epoch 4/15\n",
      "469/469 [==============================] - 787s 2s/step - loss: 0.0064 - acc: 0.9783 - val_loss: 0.0110 - val_acc: 0.9697\n",
      "Epoch 5/15\n",
      "469/469 [==============================] - 790s 2s/step - loss: 0.0051 - acc: 0.9825 - val_loss: 0.0103 - val_acc: 0.9710\n",
      "Epoch 6/15\n",
      "469/469 [==============================] - 792s 2s/step - loss: 0.0041 - acc: 0.9861 - val_loss: 0.0106 - val_acc: 0.9703\n",
      "Epoch 7/15\n",
      "469/469 [==============================] - 797s 2s/step - loss: 0.0033 - acc: 0.9888 - val_loss: 0.0106 - val_acc: 0.9703\n",
      "Epoch 8/15\n",
      "469/469 [==============================] - 807s 2s/step - loss: 0.0027 - acc: 0.9911 - val_loss: 0.0114 - val_acc: 0.9703\n",
      "Epoch 9/15\n",
      "469/469 [==============================] - 794s 2s/step - loss: 0.0021 - acc: 0.9926 - val_loss: 0.0132 - val_acc: 0.9669\n",
      "Epoch 10/15\n",
      "469/469 [==============================] - 746s 2s/step - loss: 0.0018 - acc: 0.9939 - val_loss: 0.0132 - val_acc: 0.9708\n",
      "Epoch 11/15\n",
      "469/469 [==============================] - 742s 2s/step - loss: 0.0015 - acc: 0.9948 - val_loss: 0.0148 - val_acc: 0.9705\n",
      "Epoch 12/15\n",
      "469/469 [==============================] - 747s 2s/step - loss: 0.0013 - acc: 0.9954 - val_loss: 0.0143 - val_acc: 0.9712\n",
      "Epoch 13/15\n",
      "469/469 [==============================] - 752s 2s/step - loss: 0.0011 - acc: 0.9963 - val_loss: 0.0149 - val_acc: 0.9712\n",
      "Epoch 14/15\n",
      "469/469 [==============================] - 747s 2s/step - loss: 0.0011 - acc: 0.9963 - val_loss: 0.0167 - val_acc: 0.9687\n",
      "Epoch 15/15\n",
      "469/469 [==============================] - 750s 2s/step - loss: 8.8423e-04 - acc: 0.9968 - val_loss: 0.0150 - val_acc: 0.9718\n"
     ]
    }
   ],
   "source": [
    "history = model.fit(np.asarray(X), y_train,\n",
    "                    epochs=EPOCHS,\n",
    "                    batch_size=32,\n",
    "                    validation_data=(np.asarray(X_dev), y_dev))"
   ]
  },
  {
   "cell_type": "markdown",
   "metadata": {
    "papermill": {
     "duration": 2.41209,
     "end_time": "2020-11-21T23:13:30.651365",
     "exception": false,
     "start_time": "2020-11-21T23:13:28.239275",
     "status": "completed"
    },
    "tags": []
   },
   "source": [
    "Create a figure to show the training and validation losses and accuracies and comment on a possible overfit."
   ]
  },
  {
   "cell_type": "code",
   "execution_count": 41,
   "metadata": {
    "execution": {
     "iopub.execute_input": "2020-11-21T23:13:36.120443Z",
     "iopub.status.busy": "2020-11-21T23:13:36.119737Z",
     "iopub.status.idle": "2020-11-21T23:13:36.796311Z",
     "shell.execute_reply": "2020-11-21T23:13:36.795311Z"
    },
    "papermill": {
     "duration": 3.651989,
     "end_time": "2020-11-21T23:13:36.796424",
     "exception": false,
     "start_time": "2020-11-21T23:13:33.144435",
     "status": "completed"
    },
    "tags": []
   },
   "outputs": [
    {
     "data": {
      "image/png": "[encoded data removed]",
      "text/plain": [
       "<Figure size 432x288 with 1 Axes>"
      ]
     },
     "metadata": {
      "needs_background": "light"
     },
     "output_type": "display_data"
    },
    {
     "data": {
      "image/png": "[encoded data removed]",
      "text/plain": [
       "<Figure size 432x288 with 1 Axes>"
      ]
     },
     "metadata": {
      "needs_background": "light"
     },
     "output_type": "display_data"
    }
   ],
   "source": [
    "acc = history.history['acc']\n",
    "val_acc = history.history['val_acc']\n",
    "loss = history.history['loss']\n",
    "val_loss = history.history['val_loss']\n",
    "\n",
    "epochs = range(len(acc))\n",
    "\n",
    "plt.plot(epochs, acc, 'bo', label='Training acc')\n",
    "plt.plot(epochs, val_acc, 'b', label='Validation acc')\n",
    "plt.title('Training and validation accuracy')\n",
    "plt.legend()\n",
    "\n",
    "plt.figure()\n",
    "\n",
    "plt.plot(epochs, loss, 'bo', label='Training loss')\n",
    "plt.plot(epochs, val_loss, 'b', label='Validation loss')\n",
    "plt.title('Training and validation loss')\n",
    "plt.legend()\n",
    "\n",
    "plt.show()"
   ]
  },
  {
   "cell_type": "markdown",
   "metadata": {
    "papermill": {
     "duration": 2.464255,
     "end_time": "2020-11-21T23:13:41.701856",
     "exception": false,
     "start_time": "2020-11-21T23:13:39.237601",
     "status": "completed"
    },
    "tags": []
   },
   "source": [
    "Apply your network to one sentence."
   ]
  },
  {
   "cell_type": "code",
   "execution_count": 42,
   "metadata": {
    "execution": {
     "iopub.execute_input": "2020-11-21T23:13:46.755587Z",
     "iopub.status.busy": "2020-11-21T23:13:46.754609Z",
     "iopub.status.idle": "2020-11-21T23:13:46.758574Z",
     "shell.execute_reply": "2020-11-21T23:13:46.758104Z"
    },
    "papermill": {
     "duration": 2.55681,
     "end_time": "2020-11-21T23:13:46.758702",
     "exception": false,
     "start_time": "2020-11-21T23:13:44.201892",
     "status": "completed"
    },
    "tags": []
   },
   "outputs": [],
   "source": [
    "sentence = 'The United States might collapsez'.lower().split()"
   ]
  },
  {
   "cell_type": "markdown",
   "metadata": {
    "papermill": {
     "duration": 2.46496,
     "end_time": "2020-11-21T23:13:51.668726",
     "exception": false,
     "start_time": "2020-11-21T23:13:49.203766",
     "status": "completed"
    },
    "tags": []
   },
   "source": [
    "First convert the sentence into indices"
   ]
  },
  {
   "cell_type": "code",
   "execution_count": 43,
   "metadata": {
    "execution": {
     "iopub.execute_input": "2020-11-21T23:13:57.186048Z",
     "iopub.status.busy": "2020-11-21T23:13:57.184396Z",
     "iopub.status.idle": "2020-11-21T23:13:57.188484Z",
     "shell.execute_reply": "2020-11-21T23:13:57.187957Z"
    },
    "papermill": {
     "duration": 3.099849,
     "end_time": "2020-11-21T23:13:57.188586",
     "exception": false,
     "start_time": "2020-11-21T23:13:54.088737",
     "status": "completed"
    },
    "tags": []
   },
   "outputs": [
    {
     "data": {
      "text/plain": [
       "[359698, 374678, 344404, 246008, 1]"
      ]
     },
     "execution_count": 43,
     "metadata": {},
     "output_type": "execute_result"
    }
   ],
   "source": [
    "sentence_idx = []\n",
    "for token in sentence:\n",
    "    if token in word2idx:\n",
    "        sentence_idx.append(word2idx[token])\n",
    "    else:\n",
    "        sentence_idx.append(1)\n",
    "sentence_idx"
   ]
  },
  {
   "cell_type": "markdown",
   "metadata": {
    "papermill": {
     "duration": 2.736919,
     "end_time": "2020-11-21T23:14:02.363144",
     "exception": false,
     "start_time": "2020-11-21T23:13:59.626225",
     "status": "completed"
    },
    "tags": []
   },
   "source": [
    "Apply the prediction"
   ]
  },
  {
   "cell_type": "code",
   "execution_count": 44,
   "metadata": {
    "execution": {
     "iopub.execute_input": "2020-11-21T23:14:08.104282Z",
     "iopub.status.busy": "2020-11-21T23:14:08.102939Z",
     "iopub.status.idle": "2020-11-21T23:14:08.106666Z",
     "shell.execute_reply": "2020-11-21T23:14:08.107152Z"
    },
    "papermill": {
     "duration": 3.277086,
     "end_time": "2020-11-21T23:14:08.107278",
     "exception": false,
     "start_time": "2020-11-21T23:14:04.830192",
     "status": "completed"
    },
    "tags": []
   },
   "outputs": [
    {
     "data": {
      "text/plain": [
       "dict_items([('B-LOC', 2), ('B-MISC', 3), ('B-ORG', 4), ('I-LOC', 5), ('I-MISC', 6), ('I-ORG', 7), ('I-PER', 8), ('O', 9)])"
      ]
     },
     "execution_count": 44,
     "metadata": {},
     "output_type": "execute_result"
    }
   ],
   "source": [
    "ner2idx.items()"
   ]
  },
  {
   "cell_type": "code",
   "execution_count": 45,
   "metadata": {
    "execution": {
     "iopub.execute_input": "2020-11-21T23:14:13.077623Z",
     "iopub.status.busy": "2020-11-21T23:14:13.076693Z",
     "iopub.status.idle": "2020-11-21T23:14:17.388485Z",
     "shell.execute_reply": "2020-11-21T23:14:17.389712Z"
    },
    "papermill": {
     "duration": 6.840989,
     "end_time": "2020-11-21T23:14:17.389974",
     "exception": false,
     "start_time": "2020-11-21T23:14:10.548985",
     "status": "completed"
    },
    "tags": []
   },
   "outputs": [
    {
     "data": {
      "text/plain": [
       "array([[[2.60328416e-05, 2.12968844e-05, 1.20082041e-04, 1.31457855e-04,\n",
       "         4.04576567e-05, 4.42539342e-03, 2.12221360e-03, 9.33129434e-03,\n",
       "         3.86257714e-04, 9.83395457e-01]],\n",
       "\n",
       "       [[6.45087994e-06, 5.53136533e-06, 5.46405354e-05, 6.79968434e-05,\n",
       "         1.05916924e-05, 9.08522308e-01, 5.46214927e-04, 9.06314179e-02,\n",
       "         6.40009675e-05, 9.08633083e-05]],\n",
       "\n",
       "       [[1.53353467e-04, 1.51743283e-04, 8.22729548e-04, 4.36063565e-04,\n",
       "         1.39378346e-04, 9.50389922e-01, 2.82948185e-03, 2.83700991e-02,\n",
       "         1.45990716e-03, 1.52473403e-02]],\n",
       "\n",
       "       [[3.19360523e-03, 2.93650175e-03, 1.74542498e-02, 1.98448803e-02,\n",
       "         1.00167701e-02, 1.27222762e-01, 1.26448981e-02, 3.15424167e-02,\n",
       "         1.57581151e-01, 6.17562771e-01]],\n",
       "\n",
       "       [[2.86025679e-05, 2.72951056e-05, 3.07639013e-04, 9.29140486e-04,\n",
       "         1.00188328e-04, 1.17223740e-01, 1.43693998e-01, 1.06237344e-01,\n",
       "         1.33801457e-02, 6.18071914e-01]]], dtype=float32)"
      ]
     },
     "execution_count": 45,
     "metadata": {},
     "output_type": "execute_result"
    }
   ],
   "source": [
    "model.predict(sentence_idx)"
   ]
  },
  {
   "cell_type": "code",
   "execution_count": 46,
   "metadata": {
    "execution": {
     "iopub.execute_input": "2020-11-21T23:14:22.322432Z",
     "iopub.status.busy": "2020-11-21T23:14:22.321537Z",
     "iopub.status.idle": "2020-11-21T23:14:22.375487Z",
     "shell.execute_reply": "2020-11-21T23:14:22.376043Z"
    },
    "papermill": {
     "duration": 2.477587,
     "end_time": "2020-11-21T23:14:22.376203",
     "exception": false,
     "start_time": "2020-11-21T23:14:19.898616",
     "status": "completed"
    },
    "tags": []
   },
   "outputs": [
    {
     "name": "stdout",
     "output_type": "stream",
     "text": [
      "[[9]\n",
      " [5]\n",
      " [5]\n",
      " [9]\n",
      " [9]]\n",
      "the: O\n",
      "united: I-LOC\n",
      "states: I-LOC\n",
      "might: O\n",
      "collapsez: O\n"
     ]
    }
   ],
   "source": [
    "y_pred = np.argmax(model.predict(sentence_idx), axis=-1)\n",
    "print(y_pred)\n",
    "for i, tag_ind in enumerate(y_pred):\n",
    "    if tag_ind[0] in idx2ner:\n",
    "        print(f'{sentence[i]}: {idx2ner[tag_ind[0]]}')\n",
    "    else:\n",
    "        print(f'{sentence[i]}: O')"
   ]
  },
  {
   "cell_type": "markdown",
   "metadata": {
    "papermill": {
     "duration": 2.416792,
     "end_time": "2020-11-21T23:14:27.214837",
     "exception": false,
     "start_time": "2020-11-21T23:14:24.798045",
     "status": "completed"
    },
    "tags": []
   },
   "source": [
    "## Evaluating your System"
   ]
  },
  {
   "cell_type": "markdown",
   "metadata": {
    "papermill": {
     "duration": 2.41277,
     "end_time": "2020-11-21T23:14:32.329704",
     "exception": false,
     "start_time": "2020-11-21T23:14:29.916934",
     "status": "completed"
    },
    "tags": []
   },
   "source": [
    "You will now evaluate the performance of your system on the whole test set. You will use the official script.\n",
    "<ol>\n",
    "    <li>Use the <tt>predict</tt> method to predict the tags of the whole test set\n",
    "    </li>\n",
    "    <li>Write your results in a file, where the two last columns will be the hand-annotated tag\n",
    "        and the predicted tag. The fields must be separated by a space and each line must end with a new line:\n",
    "        <tt>\\n</tt>.\n",
    "    </li>\n",
    "    <li>\n",
    "        If you save your results on a Windows machine, Python will use the default end-of-line sequence: <tt>\\r\\n</tt>.\n",
    "        You will then need either to convert your file or to modify the way you save your file.\n",
    "    </li>\n",
    "    <li>Apply <tt>conlleval</tt> to your output. Report the F1 result.<br/>\n",
    "        Be aware that <tt>conlleval</tt> was designed for Unix and will break\n",
    "    with Windows end-of-line conventions.</li>\n",
    "    <li>Try to improve your model by modifying some parameters, adding layers, adding\n",
    "        <tt>Bidirectional</tt>\n",
    "        and <tt>Dropout</tt>.\n",
    "    </li>\n",
    "    <li>\n",
    "        Evaluate your network again\n",
    "    </li>\n",
    "</ol>"
   ]
  },
  {
   "cell_type": "markdown",
   "metadata": {
    "papermill": {
     "duration": 2.434619,
     "end_time": "2020-11-21T23:14:37.182946",
     "exception": false,
     "start_time": "2020-11-21T23:14:34.748327",
     "status": "completed"
    },
    "tags": []
   },
   "source": [
    "First translate the input part of the test set, the words, into lists of words, `X_test`, lists of indices, `X_test_idx`, and a matrix of indices, where you will pad the sequences: `X_test_padded`"
   ]
  },
  {
   "cell_type": "code",
   "execution_count": 47,
   "metadata": {
    "execution": {
     "iopub.execute_input": "2020-11-21T23:14:42.801911Z",
     "iopub.status.busy": "2020-11-21T23:14:42.785946Z",
     "iopub.status.idle": "2020-11-21T23:14:42.810371Z",
     "shell.execute_reply": "2020-11-21T23:14:42.811233Z"
    },
    "papermill": {
     "duration": 2.501208,
     "end_time": "2020-11-21T23:14:42.811434",
     "exception": false,
     "start_time": "2020-11-21T23:14:40.310226",
     "status": "completed"
    },
    "tags": []
   },
   "outputs": [
    {
     "name": "stdout",
     "output_type": "stream",
     "text": [
      "X_test: ['soccer', '-', 'japan', 'get', 'lucky', 'win', ',', 'china', 'in', 'surprise', 'defeat', '.']\n",
      "Y_test ['O', 'O', 'I-LOC', 'O', 'O', 'O', 'O', 'I-PER', 'O', 'O', 'O', 'O']\n"
     ]
    }
   ],
   "source": [
    "# Test\n",
    "X_test, Y_test = build_sequences(test_dict, key_x='form', key_y='ner')\n",
    "print('X_test:', X_test[1])\n",
    "print('Y_test', Y_test[1])"
   ]
  },
  {
   "cell_type": "code",
   "execution_count": 48,
   "metadata": {
    "execution": {
     "iopub.execute_input": "2020-11-21T23:14:47.790065Z",
     "iopub.status.busy": "2020-11-21T23:14:47.778423Z",
     "iopub.status.idle": "2020-11-21T23:14:47.849943Z",
     "shell.execute_reply": "2020-11-21T23:14:47.849377Z"
    },
    "papermill": {
     "duration": 2.593056,
     "end_time": "2020-11-21T23:14:47.850065",
     "exception": false,
     "start_time": "2020-11-21T23:14:45.257009",
     "status": "completed"
    },
    "tags": []
   },
   "outputs": [],
   "source": [
    "# Map to indices\n",
    "X_test_idx = []\n",
    "for sentence in X_test:\n",
    "    X_test_sent_idx = []\n",
    "    for word in sentence:\n",
    "        if word in word2idx:\n",
    "            X_test_sent_idx.append(word2idx[word])\n",
    "        else: X_test_sent_idx.append(1)\n",
    "    X_test_idx.append(X_test_sent_idx)\n",
    "    \n",
    "Y_test_idx = []\n",
    "for sentence in Y_test:\n",
    "    Y_test_sent_idx = []\n",
    "    for tag in sentence:\n",
    "        Y_test_sent_idx.append(ner2idx[tag])\n",
    "    Y_test_idx.append(Y_test_sent_idx)\n",
    "\n",
    "# Pad index mappings\n",
    "X_test_padded = np.asarray(pad_sequences(X_test_idx, maxlen=150))\n",
    "Y_test_padded = pad_sequences(Y_test_idx, maxlen=150)"
   ]
  },
  {
   "cell_type": "code",
   "execution_count": 49,
   "metadata": {
    "execution": {
     "iopub.execute_input": "2020-11-21T23:14:53.031113Z",
     "iopub.status.busy": "2020-11-21T23:14:53.030268Z",
     "iopub.status.idle": "2020-11-21T23:14:53.036647Z",
     "shell.execute_reply": "2020-11-21T23:14:53.037581Z"
    },
    "papermill": {
     "duration": 2.519716,
     "end_time": "2020-11-21T23:14:53.037781",
     "exception": false,
     "start_time": "2020-11-21T23:14:50.518065",
     "status": "completed"
    },
    "tags": []
   },
   "outputs": [
    {
     "name": "stdout",
     "output_type": "stream",
     "text": [
      "X_test_idx: [338644, 679, 197600, 162137, 229067, 390518, 517, 100680, 190291, 350949, 120818, 936]\n",
      "X_test_padded: [     0      0      0      0      0      0      0      0      0      0\n",
      "      0      0      0      0      0      0      0      0      0      0\n",
      "      0      0      0      0      0      0      0      0      0      0\n",
      "      0      0      0      0      0      0      0      0      0      0\n",
      "      0      0      0      0      0      0      0      0      0      0\n",
      "      0      0      0      0      0      0      0      0      0      0\n",
      "      0      0      0      0      0      0      0      0      0      0\n",
      "      0      0      0      0      0      0      0      0      0      0\n",
      "      0      0      0      0      0      0      0      0      0      0\n",
      "      0      0      0      0      0      0      0      0      0      0\n",
      "      0      0      0      0      0      0      0      0      0      0\n",
      "      0      0      0      0      0      0      0      0      0      0\n",
      "      0      0      0      0      0      0      0      0      0      0\n",
      "      0      0      0      0      0      0      0      0 338644    679\n",
      " 197600 162137 229067 390518    517 100680 190291 350949 120818    936]\n"
     ]
    }
   ],
   "source": [
    "print('X_test_idx:', X_test_idx[1])\n",
    "print('X_test_padded:', X_test_padded[1])"
   ]
  },
  {
   "cell_type": "code",
   "execution_count": 50,
   "metadata": {
    "execution": {
     "iopub.execute_input": "2020-11-21T23:14:58.242261Z",
     "iopub.status.busy": "2020-11-21T23:14:58.241562Z",
     "iopub.status.idle": "2020-11-21T23:14:58.244781Z",
     "shell.execute_reply": "2020-11-21T23:14:58.245287Z"
    },
    "papermill": {
     "duration": 2.491004,
     "end_time": "2020-11-21T23:14:58.245428",
     "exception": false,
     "start_time": "2020-11-21T23:14:55.754424",
     "status": "completed"
    },
    "tags": []
   },
   "outputs": [
    {
     "data": {
      "text/plain": [
       "(3684, 150)"
      ]
     },
     "execution_count": 50,
     "metadata": {},
     "output_type": "execute_result"
    }
   ],
   "source": [
    "X_test_padded.shape"
   ]
  },
  {
   "cell_type": "markdown",
   "metadata": {
    "papermill": {
     "duration": 2.722933,
     "end_time": "2020-11-21T23:15:03.643589",
     "exception": false,
     "start_time": "2020-11-21T23:15:00.920656",
     "status": "completed"
    },
    "tags": []
   },
   "source": [
    "Now predict the whole test set with `predict` and set the results in `Y_test_hat`"
   ]
  },
  {
   "cell_type": "code",
   "execution_count": 51,
   "metadata": {
    "execution": {
     "iopub.execute_input": "2020-11-21T23:15:08.614603Z",
     "iopub.status.busy": "2020-11-21T23:15:08.613634Z",
     "iopub.status.idle": "2020-11-21T23:15:22.843969Z",
     "shell.execute_reply": "2020-11-21T23:15:22.842898Z"
    },
    "papermill": {
     "duration": 16.724578,
     "end_time": "2020-11-21T23:15:22.844116",
     "exception": false,
     "start_time": "2020-11-21T23:15:06.119538",
     "status": "completed"
    },
    "tags": []
   },
   "outputs": [],
   "source": [
    "Y_test_hat = model.predict(X_test_padded)"
   ]
  },
  {
   "cell_type": "code",
   "execution_count": 52,
   "metadata": {
    "execution": {
     "iopub.execute_input": "2020-11-21T23:15:27.977138Z",
     "iopub.status.busy": "2020-11-21T23:15:27.976244Z",
     "iopub.status.idle": "2020-11-21T23:15:27.983643Z",
     "shell.execute_reply": "2020-11-21T23:15:27.984856Z"
    },
    "papermill": {
     "duration": 2.50595,
     "end_time": "2020-11-21T23:15:27.985185",
     "exception": false,
     "start_time": "2020-11-21T23:15:25.479235",
     "status": "completed"
    },
    "tags": []
   },
   "outputs": [
    {
     "name": "stdout",
     "output_type": "stream",
     "text": [
      "X_test ['soccer', '-', 'japan', 'get', 'lucky', 'win', ',', 'china', 'in', 'surprise', 'defeat', '.']\n",
      "X_test_padded [     0      0      0      0      0      0      0      0      0      0\n",
      "      0      0      0      0      0      0      0      0      0      0\n",
      "      0      0      0      0      0      0      0      0      0      0\n",
      "      0      0      0      0      0      0      0      0      0      0\n",
      "      0      0      0      0      0      0      0      0      0      0\n",
      "      0      0      0      0      0      0      0      0      0      0\n",
      "      0      0      0      0      0      0      0      0      0      0\n",
      "      0      0      0      0      0      0      0      0      0      0\n",
      "      0      0      0      0      0      0      0      0      0      0\n",
      "      0      0      0      0      0      0      0      0      0      0\n",
      "      0      0      0      0      0      0      0      0      0      0\n",
      "      0      0      0      0      0      0      0      0      0      0\n",
      "      0      0      0      0      0      0      0      0      0      0\n",
      "      0      0      0      0      0      0      0      0 338644    679\n",
      " 197600 162137 229067 390518    517 100680 190291 350949 120818    936]\n",
      "Predictions [[1.0488074e-02 1.0215047e-02 5.6517903e-02 ... 1.7001915e-01\n",
      "  1.3253449e-01 1.7243294e-01]\n",
      " [1.0488074e-02 1.0215047e-02 5.6517903e-02 ... 1.7001915e-01\n",
      "  1.3253449e-01 1.7243294e-01]\n",
      " [1.0488074e-02 1.0215047e-02 5.6517903e-02 ... 1.7001915e-01\n",
      "  1.3253449e-01 1.7243294e-01]\n",
      " ...\n",
      " [1.0488074e-02 1.0215047e-02 5.6517903e-02 ... 1.7001915e-01\n",
      "  1.3253449e-01 1.7243294e-01]\n",
      " [1.0488074e-02 1.0215047e-02 5.6517903e-02 ... 1.7001915e-01\n",
      "  1.3253449e-01 1.7243294e-01]\n",
      " [2.3501295e-11 1.9583703e-11 6.1357829e-11 ... 8.2351539e-07\n",
      "  9.8577662e-09 9.9999905e-01]]\n"
     ]
    }
   ],
   "source": [
    "print('X_test', X_test[1])\n",
    "print('X_test_padded', X_test_padded[1])\n",
    "print('Predictions', Y_test_hat[0])"
   ]
  },
  {
   "cell_type": "markdown",
   "metadata": {
    "papermill": {
     "duration": 2.443255,
     "end_time": "2020-11-21T23:15:32.883284",
     "exception": false,
     "start_time": "2020-11-21T23:15:30.440029",
     "status": "completed"
    },
    "tags": []
   },
   "source": [
    "Extract the indices of the highest probabilities from the lists and convert them into NER values. Add them with the `pner` key to the dictionaries in the `test_dict` list."
   ]
  },
  {
   "cell_type": "code",
   "execution_count": 53,
   "metadata": {
    "execution": {
     "iopub.execute_input": "2020-11-21T23:15:38.048113Z",
     "iopub.status.busy": "2020-11-21T23:15:38.047310Z",
     "iopub.status.idle": "2020-11-21T23:15:38.050805Z",
     "shell.execute_reply": "2020-11-21T23:15:38.052488Z"
    },
    "papermill": {
     "duration": 2.49569,
     "end_time": "2020-11-21T23:15:38.052669",
     "exception": false,
     "start_time": "2020-11-21T23:15:35.556979",
     "status": "completed"
    },
    "tags": []
   },
   "outputs": [
    {
     "data": {
      "text/plain": [
       "150"
      ]
     },
     "execution_count": 53,
     "metadata": {},
     "output_type": "execute_result"
    }
   ],
   "source": [
    "len(Y_test_hat[0])"
   ]
  },
  {
   "cell_type": "code",
   "execution_count": 54,
   "metadata": {
    "execution": {
     "iopub.execute_input": "2020-11-21T23:15:43.213692Z",
     "iopub.status.busy": "2020-11-21T23:15:43.212872Z",
     "iopub.status.idle": "2020-11-21T23:15:43.225932Z",
     "shell.execute_reply": "2020-11-21T23:15:43.226956Z"
    },
    "papermill": {
     "duration": 2.72729,
     "end_time": "2020-11-21T23:15:43.227137",
     "exception": false,
     "start_time": "2020-11-21T23:15:40.499847",
     "status": "completed"
    },
    "tags": []
   },
   "outputs": [
    {
     "data": {
      "text/plain": [
       "array([[9.39171102e-11, 8.16920628e-11, 4.46749554e-10, 1.54997759e-09,\n",
       "        7.11122827e-11, 3.34778133e-06, 2.09879931e-06, 3.89779962e-05,\n",
       "        1.65532967e-07, 9.99955416e-01],\n",
       "       [1.87614473e-11, 1.32144348e-11, 5.33162715e-11, 2.18632765e-10,\n",
       "        2.60610110e-11, 7.43481849e-07, 2.19987967e-07, 1.06328366e-06,\n",
       "        2.43909231e-08, 9.99997973e-01],\n",
       "       [1.81511943e-08, 1.65191913e-08, 1.85305751e-07, 4.32386599e-07,\n",
       "        1.93023588e-08, 9.99271810e-01, 4.49646934e-04, 1.17156385e-04,\n",
       "        1.33509438e-05, 1.47471656e-04],\n",
       "       [2.56671001e-06, 2.82211317e-06, 2.89310592e-05, 1.41459444e-04,\n",
       "        7.84206804e-06, 6.98869640e-04, 1.00685610e-02, 1.55875029e-03,\n",
       "        2.45359982e-03, 9.85036612e-01],\n",
       "       [1.81084852e-05, 2.25632757e-05, 1.03967912e-04, 9.10689880e-04,\n",
       "        5.13447412e-05, 4.00749035e-03, 3.56849730e-02, 1.30535616e-02,\n",
       "        7.40294337e-01, 2.05853000e-01],\n",
       "       [4.72733741e-10, 3.85131121e-10, 1.81990811e-09, 1.97939247e-08,\n",
       "        2.71514200e-10, 1.94762106e-05, 8.87792485e-05, 3.45354341e-03,\n",
       "        2.37049062e-05, 9.96414423e-01],\n",
       "       [7.89681769e-14, 5.91954532e-14, 1.73219552e-13, 1.03669601e-12,\n",
       "        4.43147140e-14, 8.61012026e-08, 6.18443563e-09, 1.13865909e-07,\n",
       "        5.02173580e-10, 9.99999762e-01],\n",
       "       [1.80266801e-09, 1.49507451e-09, 1.81800690e-08, 7.98512190e-08,\n",
       "        1.07313003e-09, 9.99924541e-01, 1.70456860e-05, 6.72278156e-06,\n",
       "        1.16631334e-07, 5.14806779e-05],\n",
       "       [3.18775922e-10, 2.14234547e-10, 9.36320133e-10, 1.78146653e-08,\n",
       "        1.29428052e-10, 1.06241039e-07, 1.50584867e-06, 1.38441658e-06,\n",
       "        1.24064158e-07, 9.99996901e-01],\n",
       "       [3.91927295e-13, 3.33658855e-13, 9.50375087e-13, 3.70915416e-11,\n",
       "        1.75958017e-13, 1.17053600e-09, 3.49994508e-07, 1.89325888e-07,\n",
       "        1.07237197e-08, 9.99999404e-01],\n",
       "       [1.12530523e-13, 9.27092604e-14, 2.24900231e-13, 6.73133814e-12,\n",
       "        2.87811902e-14, 1.38041259e-10, 1.66162000e-08, 1.19783465e-07,\n",
       "        3.19947069e-10, 9.99999881e-01],\n",
       "       [2.57633931e-14, 2.07576130e-14, 5.91970388e-14, 2.80391010e-12,\n",
       "        1.83647788e-14, 4.82626272e-10, 7.73120146e-09, 1.05168546e-07,\n",
       "        3.69183711e-10, 9.99999881e-01]], dtype=float32)"
      ]
     },
     "execution_count": 54,
     "metadata": {},
     "output_type": "execute_result"
    }
   ],
   "source": [
    "# Remove paddings\n",
    "Y_test_probs = []\n",
    "for sent_nbr, y_test_hat in enumerate(Y_test_hat):\n",
    "    Y_test_probs += [y_test_hat[-len(X_test_idx[sent_nbr]):]]\n",
    "Y_test_probs[1]"
   ]
  },
  {
   "cell_type": "code",
   "execution_count": 55,
   "metadata": {
    "execution": {
     "iopub.execute_input": "2020-11-21T23:15:48.434889Z",
     "iopub.status.busy": "2020-11-21T23:15:48.433734Z",
     "iopub.status.idle": "2020-11-21T23:15:48.663213Z",
     "shell.execute_reply": "2020-11-21T23:15:48.662713Z"
    },
    "papermill": {
     "duration": 2.694724,
     "end_time": "2020-11-21T23:15:48.663329",
     "exception": false,
     "start_time": "2020-11-21T23:15:45.968605",
     "status": "completed"
    },
    "tags": []
   },
   "outputs": [],
   "source": [
    "def extract_indices(dictionary, predicted_hat):\n",
    "    transform = dictionary\n",
    "    for sent_ind, sentence in enumerate(predicted_hat):\n",
    "        for dict_word_ind, word_probs in enumerate(sentence):\n",
    "            index = np.argmax(word_probs)\n",
    "            if index > 0:\n",
    "                try:\n",
    "                    if index == 1: transform[sent_ind][dict_word_ind]['pner'] = 'O'\n",
    "                    else: transform[sent_ind][dict_word_ind]['pner'] = idx2ner[index]\n",
    "                except IndexError:\n",
    "                    print(sent_ind)\n",
    "                    print(dict_word_ind)\n",
    "    return transform\n",
    "\n",
    "test_dict = extract_indices(test_dict, Y_test_probs)  "
   ]
  },
  {
   "cell_type": "raw",
   "metadata": {
    "papermill": {
     "duration": 2.431867,
     "end_time": "2020-11-21T23:15:53.615153",
     "exception": false,
     "start_time": "2020-11-21T23:15:51.183286",
     "status": "completed"
    },
    "tags": []
   },
   "source": [
    "def transform_dict(dictionary, predicted):\n",
    "   transform = dictionary\n",
    "    for sent_ind, sentence in enumerate(predicted): # or dictionary\n",
    "        words_in_sentence = [x for x in sentence if x > 0] # Do not consider padding indices\n",
    "        # For some reason, the amount of indices can be greater than the amount of words in dictionary for a given sentence...\n",
    "        for word_ind, word_probs in enumerate(words_in_sentence[len(words_in_sentence)-len(transform[sent_ind]):]):\n",
    "            tag_ind = np.argmax(word_probs)\n",
    "            if tag_ind in idx2ner:\n",
    "                try:\n",
    "                    transform[sent_ind][word_ind]['pner'] = idx2ner[tag_ind]\n",
    "                except IndexError:\n",
    "                    print(len(words_in_sentence))\n",
    "                    print(len(transform[sent_ind]))\n",
    "                    print(f'{sentence} - word: {word_ind}/{len(sentence)} - tag: {tag_ind} / {idx2ner.items()} - {transform[sent_ind]}')\n",
    "            else:\n",
    "                print(word_ind)\n",
    "                transform[sent_ind][word_ind]['pner'] = 'O'\n",
    "    return transform"
   ]
  },
  {
   "cell_type": "code",
   "execution_count": 56,
   "metadata": {
    "execution": {
     "iopub.execute_input": "2020-11-21T23:15:59.111939Z",
     "iopub.status.busy": "2020-11-21T23:15:59.111272Z",
     "iopub.status.idle": "2020-11-21T23:15:59.114252Z",
     "shell.execute_reply": "2020-11-21T23:15:59.114749Z"
    },
    "papermill": {
     "duration": 2.519304,
     "end_time": "2020-11-21T23:15:59.114877",
     "exception": false,
     "start_time": "2020-11-21T23:15:56.595573",
     "status": "completed"
    },
    "tags": []
   },
   "outputs": [
    {
     "data": {
      "text/plain": [
       "[{'form': 'SOCCER', 'ppos': 'NN', 'pchunk': 'I-NP', 'ner': 'O', 'pner': 'O'},\n",
       " {'form': '-', 'ppos': ':', 'pchunk': 'O', 'ner': 'O', 'pner': 'O'},\n",
       " {'form': 'JAPAN',\n",
       "  'ppos': 'NNP',\n",
       "  'pchunk': 'I-NP',\n",
       "  'ner': 'I-LOC',\n",
       "  'pner': 'I-LOC'},\n",
       " {'form': 'GET', 'ppos': 'VB', 'pchunk': 'I-VP', 'ner': 'O', 'pner': 'O'},\n",
       " {'form': 'LUCKY',\n",
       "  'ppos': 'NNP',\n",
       "  'pchunk': 'I-NP',\n",
       "  'ner': 'O',\n",
       "  'pner': 'I-PER'},\n",
       " {'form': 'WIN', 'ppos': 'NNP', 'pchunk': 'I-NP', 'ner': 'O', 'pner': 'O'},\n",
       " {'form': ',', 'ppos': ',', 'pchunk': 'O', 'ner': 'O', 'pner': 'O'},\n",
       " {'form': 'CHINA',\n",
       "  'ppos': 'NNP',\n",
       "  'pchunk': 'I-NP',\n",
       "  'ner': 'I-PER',\n",
       "  'pner': 'I-LOC'},\n",
       " {'form': 'IN', 'ppos': 'IN', 'pchunk': 'I-PP', 'ner': 'O', 'pner': 'O'},\n",
       " {'form': 'SURPRISE', 'ppos': 'DT', 'pchunk': 'I-NP', 'ner': 'O', 'pner': 'O'},\n",
       " {'form': 'DEFEAT', 'ppos': 'NN', 'pchunk': 'I-NP', 'ner': 'O', 'pner': 'O'},\n",
       " {'form': '.', 'ppos': '.', 'pchunk': 'O', 'ner': 'O', 'pner': 'O'}]"
      ]
     },
     "execution_count": 56,
     "metadata": {},
     "output_type": "execute_result"
    }
   ],
   "source": [
    "test_dict[1]"
   ]
  },
  {
   "cell_type": "code",
   "execution_count": 57,
   "metadata": {
    "execution": {
     "iopub.execute_input": "2020-11-21T23:16:04.435223Z",
     "iopub.status.busy": "2020-11-21T23:16:04.434155Z",
     "iopub.status.idle": "2020-11-21T23:16:04.437740Z",
     "shell.execute_reply": "2020-11-21T23:16:04.437262Z"
    },
    "papermill": {
     "duration": 2.513352,
     "end_time": "2020-11-21T23:16:04.437852",
     "exception": false,
     "start_time": "2020-11-21T23:16:01.924500",
     "status": "completed"
    },
    "tags": []
   },
   "outputs": [],
   "source": [
    "ARCH = '1'\n",
    "outfile = 'test' + ARCH + '.out'\n",
    "outfile = 'RNN'"
   ]
  },
  {
   "cell_type": "code",
   "execution_count": 58,
   "metadata": {
    "execution": {
     "iopub.execute_input": "2020-11-21T23:16:09.692720Z",
     "iopub.status.busy": "2020-11-21T23:16:09.691682Z",
     "iopub.status.idle": "2020-11-21T23:16:09.695221Z",
     "shell.execute_reply": "2020-11-21T23:16:09.695651Z"
    },
    "papermill": {
     "duration": 2.734149,
     "end_time": "2020-11-21T23:16:09.695780",
     "exception": false,
     "start_time": "2020-11-21T23:16:06.961631",
     "status": "completed"
    },
    "tags": []
   },
   "outputs": [],
   "source": [
    "column_names = ['form', 'ppos', 'pchunk', 'ner', 'pner']"
   ]
  },
  {
   "cell_type": "code",
   "execution_count": 59,
   "metadata": {
    "execution": {
     "iopub.execute_input": "2020-11-21T23:16:14.653917Z",
     "iopub.status.busy": "2020-11-21T23:16:14.652932Z",
     "iopub.status.idle": "2020-11-21T23:16:14.654724Z",
     "shell.execute_reply": "2020-11-21T23:16:14.655326Z"
    },
    "papermill": {
     "duration": 2.462951,
     "end_time": "2020-11-21T23:16:14.655471",
     "exception": false,
     "start_time": "2020-11-21T23:16:12.192520",
     "status": "completed"
    },
    "tags": []
   },
   "outputs": [],
   "source": [
    "def save(file, corpus_dict, column_names):\n",
    "    \"\"\"\n",
    "    Saves the corpus in a file\n",
    "    :param file:\n",
    "    :param corpus_dict:\n",
    "    :param column_names:\n",
    "    :return:\n",
    "    \"\"\"\n",
    "    i = 0\n",
    "    with open(file, 'w', encoding='utf8') as f_out:\n",
    "        i += 1\n",
    "        for sentence in corpus_dict:\n",
    "            sentence_lst = []\n",
    "            for row in sentence:\n",
    "                items = map(lambda x: row.get(x, '_'), column_names)\n",
    "                sentence_lst += ' '.join(items) + '\\n'\n",
    "            sentence_lst += '\\n'\n",
    "            f_out.write(''.join(sentence_lst))"
   ]
  },
  {
   "cell_type": "code",
   "execution_count": 60,
   "metadata": {
    "execution": {
     "iopub.execute_input": "2020-11-21T23:16:20.251717Z",
     "iopub.status.busy": "2020-11-21T23:16:20.250836Z",
     "iopub.status.idle": "2020-11-21T23:16:20.385326Z",
     "shell.execute_reply": "2020-11-21T23:16:20.384739Z"
    },
    "papermill": {
     "duration": 2.860828,
     "end_time": "2020-11-21T23:16:20.385658",
     "exception": false,
     "start_time": "2020-11-21T23:16:17.524830",
     "status": "completed"
    },
    "tags": []
   },
   "outputs": [],
   "source": [
    "save(outfile, test_dict, column_names)"
   ]
  },
  {
   "cell_type": "code",
   "execution_count": 61,
   "metadata": {
    "execution": {
     "iopub.execute_input": "2020-11-21T23:16:25.411374Z",
     "iopub.status.busy": "2020-11-21T23:16:25.410381Z",
     "iopub.status.idle": "2020-11-21T23:16:25.896856Z",
     "shell.execute_reply": "2020-11-21T23:16:25.897489Z"
    },
    "papermill": {
     "duration": 3.053074,
     "end_time": "2020-11-21T23:16:25.897633",
     "exception": false,
     "start_time": "2020-11-21T23:16:22.844559",
     "status": "completed"
    },
    "tags": []
   },
   "outputs": [
    {
     "data": {
      "text/plain": [
       "0.7937096916688754"
      ]
     },
     "execution_count": 61,
     "metadata": {},
     "output_type": "execute_result"
    }
   ],
   "source": [
    "lines = open(outfile, encoding='utf8').read().splitlines()\n",
    "res = conlleval.evaluate(lines)\n",
    "baseline_score = res['overall']['chunks']['evals']['f1']\n",
    "baseline_score"
   ]
  },
  {
   "cell_type": "markdown",
   "metadata": {
    "papermill": {
     "duration": 2.678595,
     "end_time": "2020-11-21T23:16:31.082424",
     "exception": false,
     "start_time": "2020-11-21T23:16:28.403829",
     "status": "completed"
    },
    "tags": []
   },
   "source": [
    "## Building a LSTM Network"
   ]
  },
  {
   "cell_type": "markdown",
   "metadata": {
    "papermill": {
     "duration": 2.50471,
     "end_time": "2020-11-21T23:16:36.052253",
     "exception": false,
     "start_time": "2020-11-21T23:16:33.547543",
     "status": "completed"
    },
    "tags": []
   },
   "source": [
    "1. Create a simple LSTM network and train a model with the train set. As layers, you will use <tt>Embedding</tt>, <tt>LSTM</tt>, and <tt>Dense</tt>.\n",
    "2. Apply conlleval to your output. Report the F1 result.\n",
    "3. Try to improve your model by modifying some parameters, adding layers, adding <tt>Bidirectional</tt>, <tt>Dropout</tt>, possibly mixing <tt>SimpleRNN</tt>.\n",
    "4. Apply your network to the test set and report the accuracy you obtained. you need to reach a F1 of 82 to pass."
   ]
  },
  {
   "cell_type": "code",
   "execution_count": 62,
   "metadata": {
    "execution": {
     "iopub.execute_input": "2020-11-21T23:16:41.159363Z",
     "iopub.status.busy": "2020-11-21T23:16:41.158400Z",
     "iopub.status.idle": "2020-11-21T23:16:43.217547Z",
     "shell.execute_reply": "2020-11-21T23:16:43.216870Z"
    },
    "papermill": {
     "duration": 4.726856,
     "end_time": "2020-11-21T23:16:43.217673",
     "exception": false,
     "start_time": "2020-11-21T23:16:38.490817",
     "status": "completed"
    },
    "tags": []
   },
   "outputs": [
    {
     "name": "stdout",
     "output_type": "stream",
     "text": [
      "Model: \"sequential_1\"\n",
      "_________________________________________________________________\n",
      "Layer (type)                 Output Shape              Param #   \n",
      "=================================================================\n",
      "embedding_1 (Embedding)      (None, None, 100)         40259700  \n",
      "_________________________________________________________________\n",
      "dropout_1 (Dropout)          (None, None, 100)         0         \n",
      "_________________________________________________________________\n",
      "bidirectional_1 (Bidirection (None, None, 200)         160800    \n",
      "_________________________________________________________________\n",
      "dropout_2 (Dropout)          (None, None, 200)         0         \n",
      "_________________________________________________________________\n",
      "dense_1 (Dense)              (None, None, 10)          2010      \n",
      "=================================================================\n",
      "Total params: 40,422,510\n",
      "Trainable params: 40,422,510\n",
      "Non-trainable params: 0\n",
      "_________________________________________________________________\n"
     ]
    }
   ],
   "source": [
    "dim = embedding_matrix.shape[1]\n",
    "model = Sequential()\n",
    "model.add(Embedding(embedding_matrix.shape[0], dim, mask_zero=True, input_length=None))\n",
    "model.add(Dropout(0.25))\n",
    "model.add(Bidirectional(LSTM(LSTM_UNITS, return_sequences=True)))\n",
    "model.add(Dropout(0.5))\n",
    "model.add(Dense(len(ner) + 2, activation='softmax'))\n",
    "\n",
    "model.layers[0].set_weights([embedding_matrix])\n",
    "model.summary()"
   ]
  },
  {
   "cell_type": "markdown",
   "metadata": {
    "papermill": {
     "duration": 2.853899,
     "end_time": "2020-11-21T23:16:48.507024",
     "exception": false,
     "start_time": "2020-11-21T23:16:45.653125",
     "status": "completed"
    },
    "tags": []
   },
   "source": [
    "Compile and fit it"
   ]
  },
  {
   "cell_type": "code",
   "execution_count": 63,
   "metadata": {
    "execution": {
     "iopub.execute_input": "2020-11-21T23:16:53.591579Z",
     "iopub.status.busy": "2020-11-21T23:16:53.590554Z",
     "iopub.status.idle": "2020-11-22T01:23:19.698697Z",
     "shell.execute_reply": "2020-11-22T01:23:19.698186Z"
    },
    "papermill": {
     "duration": 7588.766127,
     "end_time": "2020-11-22T01:23:19.698807",
     "exception": false,
     "start_time": "2020-11-21T23:16:50.932680",
     "status": "completed"
    },
    "tags": []
   },
   "outputs": [
    {
     "name": "stdout",
     "output_type": "stream",
     "text": [
      "Epoch 1/15\n",
      "469/469 [==============================] - 513s 1s/step - loss: 0.0257 - acc: 0.9158 - val_loss: 0.0163 - val_acc: 0.9511\n",
      "Epoch 2/15\n",
      "469/469 [==============================] - 512s 1s/step - loss: 0.0136 - acc: 0.9541 - val_loss: 0.0114 - val_acc: 0.9661\n",
      "Epoch 3/15\n",
      "469/469 [==============================] - 502s 1s/step - loss: 0.0108 - acc: 0.9631 - val_loss: 0.0100 - val_acc: 0.9705\n",
      "Epoch 4/15\n",
      "469/469 [==============================] - 499s 1s/step - loss: 0.0093 - acc: 0.9685 - val_loss: 0.0089 - val_acc: 0.9735\n",
      "Epoch 5/15\n",
      "469/469 [==============================] - 500s 1s/step - loss: 0.0082 - acc: 0.9720 - val_loss: 0.0095 - val_acc: 0.9730\n",
      "Epoch 6/15\n",
      "469/469 [==============================] - 498s 1s/step - loss: 0.0073 - acc: 0.9750 - val_loss: 0.0083 - val_acc: 0.9759\n",
      "Epoch 7/15\n",
      "469/469 [==============================] - 501s 1s/step - loss: 0.0066 - acc: 0.9775 - val_loss: 0.0078 - val_acc: 0.9767\n",
      "Epoch 8/15\n",
      "469/469 [==============================] - 503s 1s/step - loss: 0.0061 - acc: 0.9789 - val_loss: 0.0083 - val_acc: 0.9764\n",
      "Epoch 9/15\n",
      "469/469 [==============================] - 501s 1s/step - loss: 0.0055 - acc: 0.9810 - val_loss: 0.0076 - val_acc: 0.9776\n",
      "Epoch 10/15\n",
      "469/469 [==============================] - 504s 1s/step - loss: 0.0052 - acc: 0.9823 - val_loss: 0.0082 - val_acc: 0.9772\n",
      "Epoch 11/15\n",
      "469/469 [==============================] - 505s 1s/step - loss: 0.0047 - acc: 0.9833 - val_loss: 0.0074 - val_acc: 0.9785\n",
      "Epoch 12/15\n",
      "469/469 [==============================] - 502s 1s/step - loss: 0.0043 - acc: 0.9847 - val_loss: 0.0074 - val_acc: 0.9778\n",
      "Epoch 13/15\n",
      "469/469 [==============================] - 505s 1s/step - loss: 0.0041 - acc: 0.9855 - val_loss: 0.0080 - val_acc: 0.9779\n",
      "Epoch 14/15\n",
      "469/469 [==============================] - 508s 1s/step - loss: 0.0037 - acc: 0.9867 - val_loss: 0.0077 - val_acc: 0.9788\n",
      "Epoch 15/15\n",
      "469/469 [==============================] - 510s 1s/step - loss: 0.0034 - acc: 0.9881 - val_loss: 0.0082 - val_acc: 0.9785\n"
     ]
    }
   ],
   "source": [
    "#optimizer = RMSprop(lr=0.0001, rho=0.9, epsilon=1e-08, decay=0.0)\n",
    "optimizer = RMSprop(lr=0.0001)\n",
    "model.compile(optimizer='rmsprop',loss='categorical_crossentropy', metrics=['acc'])\n",
    "history = model.fit(np.asarray(X), y_train,\n",
    "                    epochs=EPOCHS,\n",
    "                    batch_size=32,\n",
    "                    validation_data=(np.asarray(X_dev), y_dev))"
   ]
  },
  {
   "cell_type": "markdown",
   "metadata": {
    "papermill": {
     "duration": 4.884352,
     "end_time": "2020-11-22T01:23:30.075236",
     "exception": false,
     "start_time": "2020-11-22T01:23:25.190884",
     "status": "completed"
    },
    "tags": []
   },
   "source": [
    "Create a figure to show the training and validation losses and accuracies and comment on a possible overfit."
   ]
  },
  {
   "cell_type": "code",
   "execution_count": 64,
   "metadata": {
    "execution": {
     "iopub.execute_input": "2020-11-22T01:23:40.206215Z",
     "iopub.status.busy": "2020-11-22T01:23:40.205111Z",
     "iopub.status.idle": "2020-11-22T01:23:40.551846Z",
     "shell.execute_reply": "2020-11-22T01:23:40.552440Z"
    },
    "papermill": {
     "duration": 5.240284,
     "end_time": "2020-11-22T01:23:40.552595",
     "exception": false,
     "start_time": "2020-11-22T01:23:35.312311",
     "status": "completed"
    },
    "tags": []
   },
   "outputs": [
    {
     "data": {
      "image/png": "[encoded data removed]",
      "text/plain": [
       "<Figure size 432x288 with 1 Axes>"
      ]
     },
     "metadata": {
      "needs_background": "light"
     },
     "output_type": "display_data"
    },
    {
     "data": {
      "image/png": "[encoded data removed]",
      "text/plain": [
       "<Figure size 432x288 with 1 Axes>"
      ]
     },
     "metadata": {
      "needs_background": "light"
     },
     "output_type": "display_data"
    }
   ],
   "source": [
    "acc = history.history['acc']\n",
    "val_acc = history.history['val_acc']\n",
    "loss = history.history['loss']\n",
    "val_loss = history.history['val_loss']\n",
    "\n",
    "epochs = range(len(acc))\n",
    "\n",
    "plt.plot(epochs, acc, 'bo', label='Training acc')\n",
    "plt.plot(epochs, val_acc, 'b', label='Validation acc')\n",
    "plt.title('Training and validation accuracy')\n",
    "plt.legend()\n",
    "\n",
    "plt.figure()\n",
    "\n",
    "plt.plot(epochs, loss, 'bo', label='Training loss')\n",
    "plt.plot(epochs, val_loss, 'b', label='Validation loss')\n",
    "plt.title('Training and validation loss')\n",
    "plt.legend()\n",
    "\n",
    "plt.show()"
   ]
  },
  {
   "cell_type": "markdown",
   "metadata": {
    "papermill": {
     "duration": 4.936845,
     "end_time": "2020-11-22T01:23:50.598611",
     "exception": false,
     "start_time": "2020-11-22T01:23:45.661766",
     "status": "completed"
    },
    "tags": []
   },
   "source": [
    "Predict the NER sequence"
   ]
  },
  {
   "cell_type": "code",
   "execution_count": 65,
   "metadata": {
    "execution": {
     "iopub.execute_input": "2020-11-22T01:24:01.881139Z",
     "iopub.status.busy": "2020-11-22T01:24:01.880123Z",
     "iopub.status.idle": "2020-11-22T01:24:11.917727Z",
     "shell.execute_reply": "2020-11-22T01:24:11.916698Z"
    },
    "papermill": {
     "duration": 15.752599,
     "end_time": "2020-11-22T01:24:11.917862",
     "exception": false,
     "start_time": "2020-11-22T01:23:56.165263",
     "status": "completed"
    },
    "tags": []
   },
   "outputs": [],
   "source": [
    "Y_test_hat = model.predict(X_test_padded)\n",
    "Y_test_probs = []\n",
    "for sent_nbr, y_test_hat in enumerate(Y_test_hat):\n",
    "    Y_test_probs += [y_test_hat[-len(X_test_idx[sent_nbr]):]]"
   ]
  },
  {
   "cell_type": "markdown",
   "metadata": {
    "papermill": {
     "duration": 4.859596,
     "end_time": "2020-11-22T01:24:21.960517",
     "exception": false,
     "start_time": "2020-11-22T01:24:17.100921",
     "status": "completed"
    },
    "tags": []
   },
   "source": [
    "Extract the indices of the highest probabilities from the lists and convert them into NER values. Add them with the `pner` key to the dictionaries in the `test_dict` list."
   ]
  },
  {
   "cell_type": "code",
   "execution_count": 66,
   "metadata": {
    "execution": {
     "iopub.execute_input": "2020-11-22T01:24:32.418037Z",
     "iopub.status.busy": "2020-11-22T01:24:32.417248Z",
     "iopub.status.idle": "2020-11-22T01:24:32.421278Z",
     "shell.execute_reply": "2020-11-22T01:24:32.420728Z"
    },
    "papermill": {
     "duration": 5.451518,
     "end_time": "2020-11-22T01:24:32.421391",
     "exception": false,
     "start_time": "2020-11-22T01:24:26.969873",
     "status": "completed"
    },
    "tags": []
   },
   "outputs": [],
   "source": [
    "def extract_indices(dictionary, predicted_hat):\n",
    "    transform = dictionary\n",
    "    for sent_ind, sentence in enumerate(predicted_hat):\n",
    "        for dict_word_ind, word_probs in enumerate(sentence):\n",
    "            index = np.argmax(word_probs)\n",
    "            if index > 0:\n",
    "                try:\n",
    "                    if index == 1: transform[sent_ind][dict_word_ind]['pner'] = 'O'\n",
    "                    else: transform[sent_ind][dict_word_ind]['pner'] = idx2ner[index]\n",
    "                except IndexError:\n",
    "                    print(sent_ind)\n",
    "                    print(dict_word_ind)\n",
    "    return transform"
   ]
  },
  {
   "cell_type": "code",
   "execution_count": 67,
   "metadata": {
    "execution": {
     "iopub.execute_input": "2020-11-22T01:24:42.480908Z",
     "iopub.status.busy": "2020-11-22T01:24:42.480008Z",
     "iopub.status.idle": "2020-11-22T01:24:43.267576Z",
     "shell.execute_reply": "2020-11-22T01:24:43.267001Z"
    },
    "papermill": {
     "duration": 5.962504,
     "end_time": "2020-11-22T01:24:43.267688",
     "exception": false,
     "start_time": "2020-11-22T01:24:37.305184",
     "status": "completed"
    },
    "tags": []
   },
   "outputs": [],
   "source": [
    "test_dict = conll_dict.transform(test_sentences)\n",
    "test_dict = extract_indices(test_dict, Y_test_probs) # Function from previous section"
   ]
  },
  {
   "cell_type": "code",
   "execution_count": 68,
   "metadata": {
    "execution": {
     "iopub.execute_input": "2020-11-22T01:24:53.246685Z",
     "iopub.status.busy": "2020-11-22T01:24:53.245642Z",
     "iopub.status.idle": "2020-11-22T01:24:53.247437Z",
     "shell.execute_reply": "2020-11-22T01:24:53.247964Z"
    },
    "papermill": {
     "duration": 5.097057,
     "end_time": "2020-11-22T01:24:53.248113",
     "exception": false,
     "start_time": "2020-11-22T01:24:48.151056",
     "status": "completed"
    },
    "tags": []
   },
   "outputs": [],
   "source": [
    "ARCH = '4'\n",
    "outfile = 'test' + ARCH + '.out'\n",
    "outfile= 'LSTM3'"
   ]
  },
  {
   "cell_type": "code",
   "execution_count": 69,
   "metadata": {
    "execution": {
     "iopub.execute_input": "2020-11-22T01:25:04.718925Z",
     "iopub.status.busy": "2020-11-22T01:25:04.718035Z",
     "iopub.status.idle": "2020-11-22T01:25:04.850810Z",
     "shell.execute_reply": "2020-11-22T01:25:04.850007Z"
    },
    "papermill": {
     "duration": 6.290004,
     "end_time": "2020-11-22T01:25:04.850927",
     "exception": false,
     "start_time": "2020-11-22T01:24:58.560923",
     "status": "completed"
    },
    "tags": []
   },
   "outputs": [],
   "source": [
    "save(outfile, test_dict, column_names)"
   ]
  },
  {
   "cell_type": "code",
   "execution_count": 70,
   "metadata": {
    "execution": {
     "iopub.execute_input": "2020-11-22T01:25:15.100019Z",
     "iopub.status.busy": "2020-11-22T01:25:15.099072Z",
     "iopub.status.idle": "2020-11-22T01:25:15.593978Z",
     "shell.execute_reply": "2020-11-22T01:25:15.593502Z"
    },
    "papermill": {
     "duration": 5.667453,
     "end_time": "2020-11-22T01:25:15.594106",
     "exception": false,
     "start_time": "2020-11-22T01:25:09.926653",
     "status": "completed"
    },
    "tags": []
   },
   "outputs": [
    {
     "data": {
      "text/plain": [
       "0.8438083385189795"
      ]
     },
     "execution_count": 70,
     "metadata": {},
     "output_type": "execute_result"
    }
   ],
   "source": [
    "lines = open(outfile, encoding='utf8').read().splitlines()\n",
    "res = conlleval.evaluate(lines)\n",
    "improved_score = res['overall']['chunks']['evals']['f1']\n",
    "improved_score"
   ]
  },
  {
   "cell_type": "markdown",
   "metadata": {
    "papermill": {
     "duration": 5.225064,
     "end_time": "2020-11-22T01:25:25.758010",
     "exception": false,
     "start_time": "2020-11-22T01:25:20.532946",
     "status": "completed"
    },
    "tags": []
   },
   "source": [
    "You need to reach 82 to pass the assignment."
   ]
  },
  {
   "cell_type": "code",
   "execution_count": null,
   "metadata": {
    "papermill": {
     "duration": 5.673785,
     "end_time": "2020-11-22T01:25:36.292707",
     "exception": false,
     "start_time": "2020-11-22T01:25:30.618922",
     "status": "completed"
    },
    "tags": []
   },
   "outputs": [],
   "source": []
  }
 ],
 "metadata": {
  "kernelspec": {
   "display_name": "Python 3",
   "language": "python",
   "name": "python3"
  },
  "language_info": {
   "codemirror_mode": {
    "name": "ipython",
    "version": 3
   },
   "file_extension": ".py",
   "mimetype": "text/x-python",
   "name": "python",
   "nbconvert_exporter": "python",
   "pygments_lexer": "ipython3",
   "version": "3.7.6"
  },
  "papermill": {
   "duration": 19644.19502,
   "end_time": "2020-11-22T01:25:42.718438",
   "environment_variables": {},
   "exception": null,
   "input_path": "__notebook__.ipynb",
   "output_path": "__notebook__.ipynb",
   "parameters": {},
   "start_time": "2020-11-21T19:58:18.523418",
   "version": "2.1.0"
  }
 },
 "nbformat": 4,
 "nbformat_minor": 4
}